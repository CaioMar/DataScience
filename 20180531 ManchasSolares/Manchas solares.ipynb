{
 "cells": [
  {
   "cell_type": "code",
   "execution_count": 21,
   "metadata": {},
   "outputs": [],
   "source": [
    "import numpy as np\n",
    "import pandas as pd\n",
    "import matplotlib.pyplot as plt\n",
    "import re"
   ]
  },
  {
   "cell_type": "code",
   "execution_count": 22,
   "metadata": {},
   "outputs": [],
   "source": [
    "data = pd.read_csv('MANCHAS.csv')"
   ]
  },
  {
   "cell_type": "code",
   "execution_count": 23,
   "metadata": {},
   "outputs": [
    {
     "name": "stdout",
     "output_type": "stream",
     "text": [
      "<class 'pandas.core.frame.DataFrame'>\n",
      "RangeIndex: 176 entries, 0 to 175\n",
      "Data columns (total 2 columns):\n",
      "Ano        176 non-null int64\n",
      "manchas    176 non-null object\n",
      "dtypes: int64(1), object(1)\n",
      "memory usage: 2.8+ KB\n"
     ]
    }
   ],
   "source": [
    "data.info()"
   ]
  },
  {
   "cell_type": "code",
   "execution_count": 24,
   "metadata": {},
   "outputs": [],
   "source": [
    "mt = re.compile(r'(.*)(,)([0-9])')"
   ]
  },
  {
   "cell_type": "code",
   "execution_count": 28,
   "metadata": {},
   "outputs": [],
   "source": [
    "for i,el in enumerate(list(data['manchas'])):\n",
    "    data['manchas'].at[i] = mt.sub(r'\\1.\\3',el)"
   ]
  },
  {
   "cell_type": "code",
   "execution_count": 29,
   "metadata": {},
   "outputs": [],
   "source": [
    "mancha = [float(i) for i in data['manchas']] "
   ]
  },
  {
   "cell_type": "code",
   "execution_count": 30,
   "metadata": {},
   "outputs": [
    {
     "data": {
      "text/plain": [
       "[80.9,\n",
       " 83.4,\n",
       " 47.7,\n",
       " 47.8,\n",
       " 30.7,\n",
       " 12.2,\n",
       " 9.6,\n",
       " 10.2,\n",
       " 32.4,\n",
       " 47.6,\n",
       " 54.0,\n",
       " 62.9,\n",
       " 85.9,\n",
       " 61.2,\n",
       " 45.1,\n",
       " 36.4,\n",
       " 20.9,\n",
       " 11.4,\n",
       " 37.8,\n",
       " 69.8,\n",
       " 106.1,\n",
       " 100.8,\n",
       " 81.6,\n",
       " 66.5,\n",
       " 34.8,\n",
       " 30.6,\n",
       " 7.0,\n",
       " 19.8,\n",
       " 92.5,\n",
       " 154.4,\n",
       " 125.9,\n",
       " 84.8,\n",
       " 68.1,\n",
       " 38.5,\n",
       " 22.8,\n",
       " 10.2,\n",
       " 24.1,\n",
       " 82.9,\n",
       " 132.0,\n",
       " 130.9,\n",
       " 118.1,\n",
       " 89.9,\n",
       " 66.6,\n",
       " 60.0,\n",
       " 46.9,\n",
       " 41.0,\n",
       " 21.3,\n",
       " 16.0,\n",
       " 6.4,\n",
       " 4.1,\n",
       " 6.8,\n",
       " 14.5,\n",
       " 34.0,\n",
       " 45.0,\n",
       " 43.1,\n",
       " 47.5,\n",
       " 42.2,\n",
       " 28.1,\n",
       " 10.1,\n",
       " 8.1,\n",
       " 2.5,\n",
       " 0.1,\n",
       " 1.4,\n",
       " 5.0,\n",
       " 12.2,\n",
       " 13.9,\n",
       " 35.4,\n",
       " 45.8,\n",
       " 41.1,\n",
       " 30.4,\n",
       " 23.9,\n",
       " 15.7,\n",
       " 6.6,\n",
       " 4.0,\n",
       " 1.8,\n",
       " 8.5,\n",
       " 16.6,\n",
       " 36.3,\n",
       " 49.7,\n",
       " 62.5,\n",
       " 67.0,\n",
       " 71.0,\n",
       " 47.8,\n",
       " 27.5,\n",
       " 8.5,\n",
       " 13.2,\n",
       " 56.9,\n",
       " 121.5,\n",
       " 138.3,\n",
       " 103.2,\n",
       " 85.8,\n",
       " 63.2,\n",
       " 36.8,\n",
       " 24.2,\n",
       " 10.7,\n",
       " 15.0,\n",
       " 40.1,\n",
       " 61.5,\n",
       " 98.5,\n",
       " 124.3,\n",
       " 95.9,\n",
       " 66.5,\n",
       " 64.5,\n",
       " 54.2,\n",
       " 39.0,\n",
       " 20.6,\n",
       " 6.7,\n",
       " 4.3,\n",
       " 22.8,\n",
       " 54.8,\n",
       " 93.8,\n",
       " 95.7,\n",
       " 77.2,\n",
       " 59.1,\n",
       " 44.0,\n",
       " 47.0,\n",
       " 30.5,\n",
       " 16.3,\n",
       " 7.3,\n",
       " 37.3,\n",
       " 73.9,\n",
       " 139.1,\n",
       " 111.2,\n",
       " 101.7,\n",
       " 66.3,\n",
       " 44.7,\n",
       " 17.1,\n",
       " 11.3,\n",
       " 12.3,\n",
       " 3.4,\n",
       " 6.0,\n",
       " 32.3,\n",
       " 54.3,\n",
       " 58.7,\n",
       " 63.7,\n",
       " 63.5,\n",
       " 52.2,\n",
       " 25.4,\n",
       " 13.1,\n",
       " 6.8,\n",
       " 6.3,\n",
       " 7.1,\n",
       " 35.6,\n",
       " 73.0,\n",
       " 84.9,\n",
       " 78.0,\n",
       " 64.0,\n",
       " 41.8,\n",
       " 26.2,\n",
       " 26.7,\n",
       " 12.1,\n",
       " 9.5,\n",
       " 2.7,\n",
       " 5.0,\n",
       " 24.4,\n",
       " 42.0,\n",
       " 63.5,\n",
       " 53.8,\n",
       " 62.0,\n",
       " 48.5,\n",
       " 43.9,\n",
       " 18.6,\n",
       " 5.7,\n",
       " 3.6,\n",
       " 1.4,\n",
       " 9.6,\n",
       " 47.4,\n",
       " 57.1,\n",
       " 103.9,\n",
       " 80.6,\n",
       " 63.6,\n",
       " 37.6,\n",
       " 26.1,\n",
       " 14.2,\n",
       " 5.8,\n",
       " 16.7]"
      ]
     },
     "execution_count": 30,
     "metadata": {},
     "output_type": "execute_result"
    }
   ],
   "source": [
    "mancha"
   ]
  },
  {
   "cell_type": "code",
   "execution_count": 31,
   "metadata": {},
   "outputs": [],
   "source": [
    "data['manchas'] = mancha"
   ]
  },
  {
   "cell_type": "code",
   "execution_count": 32,
   "metadata": {},
   "outputs": [
    {
     "data": {
      "text/plain": [
       "[]"
      ]
     },
     "execution_count": 32,
     "metadata": {},
     "output_type": "execute_result"
    },
    {
     "data": {
      "image/png": "[encoded data removed]",
      "text/plain": [
       "<Figure size 432x288 with 1 Axes>"
      ]
     },
     "metadata": {},
     "output_type": "display_data"
    }
   ],
   "source": [
    "plt.plot(data['Ano'],data['manchas']-data['manchas'].mean())\n",
    "plt.plot()"
   ]
  },
  {
   "cell_type": "code",
   "execution_count": 33,
   "metadata": {},
   "outputs": [],
   "source": [
    "from scipy.fftpack import fft"
   ]
  },
  {
   "cell_type": "code",
   "execution_count": 34,
   "metadata": {},
   "outputs": [],
   "source": [
    "T = data['Ano'].iloc[-1] - data['Ano'].iloc[0]"
   ]
  },
  {
   "cell_type": "code",
   "execution_count": 35,
   "metadata": {},
   "outputs": [],
   "source": [
    "N = len(data['manchas'])\n"
   ]
  },
  {
   "cell_type": "code",
   "execution_count": 36,
   "metadata": {},
   "outputs": [],
   "source": [
    "x = np.linspace(0.0, T, N)\n"
   ]
  },
  {
   "cell_type": "code",
   "execution_count": 37,
   "metadata": {},
   "outputs": [
    {
     "name": "stderr",
     "output_type": "stream",
     "text": [
      "/usr/local/lib/python3.5/dist-packages/ipykernel_launcher.py:2: DeprecationWarning: object of type <class 'float'> cannot be safely interpreted as an integer.\n",
      "  \n"
     ]
    }
   ],
   "source": [
    "yf = fft(data['manchas']-data['manchas'].mean())\n",
    "xf = np.linspace(0.0, 1.0/(2.0), N/2)"
   ]
  },
  {
   "cell_type": "code",
   "execution_count": 38,
   "metadata": {},
   "outputs": [
    {
     "data": {
      "text/plain": [
       "array([0, 1, 2, 3, 4, 5, 6, 7, 8, 9])"
      ]
     },
     "execution_count": 38,
     "metadata": {},
     "output_type": "execute_result"
    }
   ],
   "source": [
    "np.arange(10)"
   ]
  },
  {
   "cell_type": "code",
   "execution_count": 39,
   "metadata": {},
   "outputs": [
    {
     "data": {
      "image/png": "[encoded data removed]",
      "text/plain": [
       "<Figure size 432x288 with 1 Axes>"
      ]
     },
     "metadata": {},
     "output_type": "display_data"
    }
   ],
   "source": [
    "fig, ax = plt.subplots()\n",
    "ax.plot(xf, 2.0/N * np.abs(yf[:N//2]))\n",
    "plt.show()"
   ]
  },
  {
   "cell_type": "code",
   "execution_count": 19,
   "metadata": {},
   "outputs": [
    {
     "name": "stderr",
     "output_type": "stream",
     "text": [
      "/usr/local/lib/python3.5/dist-packages/ipykernel_launcher.py:2: DeprecationWarning: object of type <class 'float'> cannot be safely interpreted as an integer.\n",
      "  \n"
     ]
    }
   ],
   "source": [
    "#yf = fft(data['manchas']-data['manchas'].mean())\n",
    "xf = np.linspace(0.0, 1.0/2, N/2)"
   ]
  },
  {
   "cell_type": "code",
   "execution_count": 20,
   "metadata": {},
   "outputs": [
    {
     "data": {
      "text/plain": [
       "array([0.        , 0.00574713, 0.01149425, 0.01724138, 0.02298851,\n",
       "       0.02873563, 0.03448276, 0.04022989, 0.04597701, 0.05172414,\n",
       "       0.05747126, 0.06321839, 0.06896552, 0.07471264, 0.08045977,\n",
       "       0.0862069 , 0.09195402, 0.09770115, 0.10344828, 0.1091954 ,\n",
       "       0.11494253, 0.12068966, 0.12643678, 0.13218391, 0.13793103,\n",
       "       0.14367816, 0.14942529, 0.15517241, 0.16091954, 0.16666667,\n",
       "       0.17241379, 0.17816092, 0.18390805, 0.18965517, 0.1954023 ,\n",
       "       0.20114943, 0.20689655, 0.21264368, 0.2183908 , 0.22413793,\n",
       "       0.22988506, 0.23563218, 0.24137931, 0.24712644, 0.25287356,\n",
       "       0.25862069, 0.26436782, 0.27011494, 0.27586207, 0.2816092 ,\n",
       "       0.28735632, 0.29310345, 0.29885057, 0.3045977 , 0.31034483,\n",
       "       0.31609195, 0.32183908, 0.32758621, 0.33333333, 0.33908046,\n",
       "       0.34482759, 0.35057471, 0.35632184, 0.36206897, 0.36781609,\n",
       "       0.37356322, 0.37931034, 0.38505747, 0.3908046 , 0.39655172,\n",
       "       0.40229885, 0.40804598, 0.4137931 , 0.41954023, 0.42528736,\n",
       "       0.43103448, 0.43678161, 0.44252874, 0.44827586, 0.45402299,\n",
       "       0.45977011, 0.46551724, 0.47126437, 0.47701149, 0.48275862,\n",
       "       0.48850575, 0.49425287, 0.5       ])"
      ]
     },
     "execution_count": 20,
     "metadata": {},
     "output_type": "execute_result"
    }
   ],
   "source": [
    "xf"
   ]
  },
  {
   "cell_type": "code",
   "execution_count": 41,
   "metadata": {},
   "outputs": [],
   "source": [
    "import numpy.fft as fft"
   ]
  },
  {
   "cell_type": "code",
   "execution_count": 42,
   "metadata": {},
   "outputs": [],
   "source": [
    "Hn=fft.fft(data['manchas']-data['manchas'].mean())"
   ]
  },
  {
   "cell_type": "code",
   "execution_count": 43,
   "metadata": {},
   "outputs": [],
   "source": [
    "freq=fft.fftfreq(len(data['manchas']))"
   ]
  },
  {
   "cell_type": "code",
   "execution_count": 46,
   "metadata": {},
   "outputs": [],
   "source": [
    "ind = np.arange(1,len(data['manchas'])/2)"
   ]
  },
  {
   "cell_type": "code",
   "execution_count": 86,
   "metadata": {},
   "outputs": [],
   "source": [
    "psp = 1/(N)*np.abs(Hn[[int(i) for i in ind]])+ 1/(N)*np.abs( Hn[[int(i) for i in -ind]])"
   ]
  },
  {
   "cell_type": "code",
   "execution_count": 87,
   "metadata": {},
   "outputs": [
    {
     "data": {
      "text/plain": [
       "array([ 0.61327041, 16.63610775, 11.06800166,  7.46930177,  0.55019415,\n",
       "        4.54966662,  5.67863633,  4.63881144,  3.73995775,  2.58644038,\n",
       "        4.91852985,  8.26153287,  4.70017086,  2.97955358, 21.47815972,\n",
       "       19.0145564 ,  9.92491687, 15.31290616, 10.85731882,  9.65310636,\n",
       "        8.4527127 ,  5.57522461,  5.8039149 ,  4.47209585,  3.31995431,\n",
       "        3.37194277,  0.79978178,  1.05588588,  2.40471749,  4.18643323,\n",
       "        4.74152377,  4.62208328,  2.78389903,  0.38591878,  1.07833029,\n",
       "        2.8639118 ,  3.23378995,  2.98210823,  2.01318168,  1.26685453,\n",
       "        1.4176946 ,  2.20574376,  3.34150067,  2.34202119,  1.39425269,\n",
       "        0.68823933,  1.4423093 ,  2.60124029,  0.47247426,  1.28787343,\n",
       "        1.5294146 ,  0.35200676,  0.45611804,  0.87911435,  1.44886504,\n",
       "        0.52010679,  1.82688442,  0.04995787,  0.22444475,  1.0962633 ,\n",
       "        1.60311657,  0.89966673,  2.13390379,  1.04261932,  0.50284906,\n",
       "        0.85855457,  0.69820756,  0.26922892,  0.41535524,  1.39092017,\n",
       "        0.80857387,  0.17722827,  0.4044611 ,  0.55067158,  0.90992212,\n",
       "        0.70022966,  0.31084907,  0.35684648,  1.1209028 ,  0.46512024,\n",
       "        1.33465527,  1.09699579,  1.08132357,  0.42336793,  0.74648479,\n",
       "        1.45668331,  1.33766094])"
      ]
     },
     "execution_count": 87,
     "metadata": {},
     "output_type": "execute_result"
    }
   ],
   "source": [
    "psp"
   ]
  },
  {
   "cell_type": "code",
   "execution_count": 65,
   "metadata": {},
   "outputs": [
    {
     "data": {
      "image/png": "[encoded data removed]",
      "text/plain": [
       "<Figure size 432x288 with 1 Axes>"
      ]
     },
     "metadata": {},
     "output_type": "display_data"
    }
   ],
   "source": [
    "plt.plot(freq[[int(i) for i in ind]],1/(N)*psp,'-k')\n",
    "\n",
    "plt.plot(xf, 2.0/N * np.abs(yf[:N//2]),'-.')\n",
    "plt.show()"
   ]
  },
  {
   "cell_type": "code",
   "execution_count": 60,
   "metadata": {},
   "outputs": [],
   "source": [
    "N=len(data['manchas'])"
   ]
  },
  {
   "cell_type": "code",
   "execution_count": 61,
   "metadata": {},
   "outputs": [
    {
     "data": {
      "text/plain": [
       "array([0.00568182, 0.01136364, 0.01704545, 0.02272727, 0.02840909,\n",
       "       0.03409091, 0.03977273, 0.04545455, 0.05113636, 0.05681818,\n",
       "       0.0625    , 0.06818182, 0.07386364, 0.07954545, 0.08522727,\n",
       "       0.09090909, 0.09659091, 0.10227273, 0.10795455, 0.11363636,\n",
       "       0.11931818, 0.125     , 0.13068182, 0.13636364, 0.14204545,\n",
       "       0.14772727, 0.15340909, 0.15909091, 0.16477273, 0.17045455,\n",
       "       0.17613636, 0.18181818, 0.1875    , 0.19318182, 0.19886364,\n",
       "       0.20454545, 0.21022727, 0.21590909, 0.22159091, 0.22727273,\n",
       "       0.23295455, 0.23863636, 0.24431818, 0.25      , 0.25568182,\n",
       "       0.26136364, 0.26704545, 0.27272727, 0.27840909, 0.28409091,\n",
       "       0.28977273, 0.29545455, 0.30113636, 0.30681818, 0.3125    ,\n",
       "       0.31818182, 0.32386364, 0.32954545, 0.33522727, 0.34090909,\n",
       "       0.34659091, 0.35227273, 0.35795455, 0.36363636, 0.36931818,\n",
       "       0.375     , 0.38068182, 0.38636364, 0.39204545, 0.39772727,\n",
       "       0.40340909, 0.40909091, 0.41477273, 0.42045455, 0.42613636,\n",
       "       0.43181818, 0.4375    , 0.44318182, 0.44886364, 0.45454545,\n",
       "       0.46022727, 0.46590909, 0.47159091, 0.47727273, 0.48295455,\n",
       "       0.48863636, 0.49431818])"
      ]
     },
     "execution_count": 61,
     "metadata": {},
     "output_type": "execute_result"
    }
   ],
   "source": [
    "freq[[int(i) for i in ind]]"
   ]
  },
  {
   "cell_type": "code",
   "execution_count": 70,
   "metadata": {},
   "outputs": [
    {
     "data": {
      "text/plain": [
       "array([14, 15,  1, 17,  2])"
      ]
     },
     "execution_count": 70,
     "metadata": {},
     "output_type": "execute_result"
    }
   ],
   "source": [
    "psp.argsort()[-5:][::-1]"
   ]
  },
  {
   "cell_type": "code",
   "execution_count": 71,
   "metadata": {},
   "outputs": [
    {
     "data": {
      "text/plain": [
       "array([0.07954545, 0.08522727, 0.00568182, 0.09659091, 0.01136364])"
      ]
     },
     "execution_count": 71,
     "metadata": {},
     "output_type": "execute_result"
    }
   ],
   "source": [
    "freq[psp.argsort()[-5:][::-1]]"
   ]
  },
  {
   "cell_type": "code",
   "execution_count": 83,
   "metadata": {},
   "outputs": [],
   "source": [
    "x=np.arange(0,176)"
   ]
  },
  {
   "cell_type": "code",
   "execution_count": 132,
   "metadata": {},
   "outputs": [],
   "source": [
    "model=16*np.cos(2*np.pi*0.075*x)+20*np.cos(2*np.pi*0.0825*x)+14*np.cos(2*np.pi*0.096*x)"
   ]
  },
  {
   "cell_type": "code",
   "execution_count": 133,
   "metadata": {},
   "outputs": [
    {
     "data": {
      "image/png": "[encoded data removed]",
      "text/plain": [
       "<Figure size 432x288 with 1 Axes>"
      ]
     },
     "metadata": {},
     "output_type": "display_data"
    }
   ],
   "source": [
    "plt.plot(x,model,'-k')\n",
    "plt.plot(x,data['manchas']-data['manchas'].mean())\n",
    "plt.show()"
   ]
  },
  {
   "cell_type": "code",
   "execution_count": 91,
   "metadata": {},
   "outputs": [
    {
     "data": {
      "text/plain": [
       "3.141592653589793"
      ]
     },
     "execution_count": 91,
     "metadata": {},
     "output_type": "execute_result"
    }
   ],
   "source": [
    "np.pi"
   ]
  },
  {
   "cell_type": "code",
   "execution_count": 98,
   "metadata": {},
   "outputs": [],
   "source": [
    "ind2,=np.where(psp>5)"
   ]
  },
  {
   "cell_type": "code",
   "execution_count": 102,
   "metadata": {},
   "outputs": [
    {
     "data": {
      "text/plain": [
       "array([0.00568182, 0.01136364, 0.01704545, 0.03409091, 0.0625    ,\n",
       "       0.07954545, 0.08522727, 0.09090909, 0.09659091, 0.10227273,\n",
       "       0.10795455, 0.11363636, 0.11931818, 0.125     ])"
      ]
     },
     "execution_count": 102,
     "metadata": {},
     "output_type": "execute_result"
    }
   ],
   "source": [
    "freq[[int(i) for i in ind2]]"
   ]
  },
  {
   "cell_type": "code",
   "execution_count": 104,
   "metadata": {},
   "outputs": [],
   "source": [
    "a = [int(i) for i in ind2]"
   ]
  },
  {
   "cell_type": "code",
   "execution_count": 99,
   "metadata": {},
   "outputs": [
    {
     "data": {
      "text/plain": [
       "14"
      ]
     },
     "execution_count": 99,
     "metadata": {},
     "output_type": "execute_result"
    }
   ],
   "source": [
    "len(ind2)"
   ]
  },
  {
   "cell_type": "code",
   "execution_count": 103,
   "metadata": {},
   "outputs": [],
   "source": [
    "ind_freq = np.arange(1,N/2+1)"
   ]
  },
  {
   "cell_type": "code",
   "execution_count": 108,
   "metadata": {},
   "outputs": [
    {
     "data": {
      "text/plain": [
       "array([0.01136364, 0.01704545, 0.02272727, 0.03977273, 0.06818182,\n",
       "       0.08522727, 0.09090909, 0.09659091, 0.10227273, 0.10795455,\n",
       "       0.11363636, 0.11931818, 0.125     , 0.13068182])"
      ]
     },
     "execution_count": 108,
     "metadata": {},
     "output_type": "execute_result"
    }
   ],
   "source": [
    "freq[[int(i) for i in ind_freq[a]]]"
   ]
  },
  {
   "cell_type": "code",
   "execution_count": 111,
   "metadata": {},
   "outputs": [
    {
     "data": {
      "text/plain": [
       "[1, 2, 3, 6, 11, 14, 15, 16, 17, 18, 19, 20, 21, 22]"
      ]
     },
     "execution_count": 111,
     "metadata": {},
     "output_type": "execute_result"
    }
   ],
   "source": [
    "a"
   ]
  },
  {
   "cell_type": "code",
   "execution_count": 118,
   "metadata": {},
   "outputs": [],
   "source": [
    "b =[int(i) for i in ind_freq[a]]"
   ]
  },
  {
   "cell_type": "code",
   "execution_count": 112,
   "metadata": {},
   "outputs": [
    {
     "data": {
      "text/plain": [
       "array([ 1.,  2.,  3.,  4.,  5.,  6.,  7.,  8.,  9., 10., 11., 12., 13.,\n",
       "       14., 15., 16., 17., 18., 19., 20., 21., 22., 23., 24., 25., 26.,\n",
       "       27., 28., 29., 30., 31., 32., 33., 34., 35., 36., 37., 38., 39.,\n",
       "       40., 41., 42., 43., 44., 45., 46., 47., 48., 49., 50., 51., 52.,\n",
       "       53., 54., 55., 56., 57., 58., 59., 60., 61., 62., 63., 64., 65.,\n",
       "       66., 67., 68., 69., 70., 71., 72., 73., 74., 75., 76., 77., 78.,\n",
       "       79., 80., 81., 82., 83., 84., 85., 86., 87., 88.])"
      ]
     },
     "execution_count": 112,
     "metadata": {},
     "output_type": "execute_result"
    }
   ],
   "source": [
    "ind_freq"
   ]
  },
  {
   "cell_type": "code",
   "execution_count": 113,
   "metadata": {},
   "outputs": [
    {
     "data": {
      "text/plain": [
       "array([ 3.41060513e-13+0.00000000e+00j, -1.23844321e+00-5.39535845e+01j,\n",
       "        5.98265464e+01-1.46275454e+03j, -8.80205858e+02+4.16992522e+02j,\n",
       "        4.06049124e+02+5.16880548e+02j, -3.41041090e+01-3.43674826e+01j,\n",
       "        3.78760117e+02-1.29759166e+02j, -3.07907834e+02+3.93589687e+02j,\n",
       "       -1.73031555e+02+3.69729495e+02j,  2.30666602e+02-2.34756140e+02j,\n",
       "        2.12633124e+02+8.11910646e+01j, -4.30533855e+02-4.45303329e+01j,\n",
       "        3.17102874e+01+7.26323008e+02j,  4.13591880e+02+4.37661326e+00j,\n",
       "       -2.54770325e+02-6.19781948e+01j, -1.87477638e+03-2.40017893e+02j,\n",
       "        1.35929904e+03-9.75794699e+02j,  5.77676988e+02+6.55060363e+02j,\n",
       "        9.79050850e+02-9.25911448e+02j,  9.45829197e+01-9.50750975e+02j,\n",
       "        3.14042364e+00-8.49467555e+02j, -7.43544925e+02-2.09041179e+01j,\n",
       "        4.24403398e+02+2.46149365e+02j,  3.10358932e+02+4.05631963e+02j,\n",
       "        3.50550624e+02-1.78861630e+02j, -1.41500307e+02-2.55602776e+02j,\n",
       "        2.88931807e+02-6.75845801e+01j,  6.91639862e+01+1.30307130e+01j,\n",
       "        5.70636478e+01+7.33313500e+01j,  8.70854281e+01-1.92865485e+02j,\n",
       "       -2.05146551e+01+3.67834503e+02j, -2.75635759e+02-3.13250547e+02j,\n",
       "        3.78079781e+02-1.49986047e+02j, -2.38827818e+02-5.45710516e+01j,\n",
       "       -1.94423226e+01+2.78448492e+01j,  6.63834647e-01+9.48907438e+01j,\n",
       "        1.89801185e+02+1.65806294e+02j,  1.14641671e+02-2.60459926e+02j,\n",
       "        6.31818410e+01-2.54706127e+02j, -1.30069301e+02-1.20281495e+02j,\n",
       "       -8.90149924e+01+6.71180657e+01j,  1.13410469e+02+5.19846676e+01j,\n",
       "        1.78922671e+02+7.52569200e+01j,  2.20409616e+02-1.94643815e+02j,\n",
       "        2.05700000e+02-1.28000000e+01j,  2.05274350e+00-1.22677064e+02j,\n",
       "       -1.87301922e+01+5.75960632e+01j,  5.25196986e+01-1.15547327e+02j,\n",
       "        2.25550039e+02-3.90714336e+01j, -4.14982585e+01-2.56954831e+00j,\n",
       "        4.59479342e+01-1.03600796e+02j,  3.69945464e+00-1.34537632e+02j,\n",
       "        4.85745189e+00+3.05933749e+01j,  1.36367816e+01+3.77508724e+01j,\n",
       "        3.09648313e+01+7.08947669e+01j,  1.21970495e+02+3.71413509e+01j,\n",
       "        3.95593364e+01+2.30194842e+01j,  5.66383165e+01-1.50458475e+02j,\n",
       "        3.79108030e-01+4.37991603e+00j,  6.23679874e+00-1.87405923e+01j,\n",
       "        6.38559345e+01+7.23125601e+01j,  8.64649651e+01-1.11470875e+02j,\n",
       "        3.93115967e+01-6.87211301e+01j, -2.50147021e+01-1.86109968e+02j,\n",
       "        4.79493842e+01-7.82241064e+01j, -4.38733721e+01-5.76655597e+00j,\n",
       "        5.35966020e+01-5.32506350e+01j,  5.58712504e+01-2.55647293e+01j,\n",
       "        2.36809728e+01-7.27503686e-01j,  3.21471672e+01-1.73940894e+01j,\n",
       "        1.22255686e+02+5.96205110e+00j,  6.30515884e+01+3.29766616e+01j,\n",
       "       -3.31341203e+00-1.52400543e+01j, -3.44562447e+01+8.92181242e+00j,\n",
       "       -5.07863599e+00+4.81922371e+01j, -7.95651821e+01-9.00503058e+00j,\n",
       "       -5.21707201e+01-3.27912530e+01j,  2.65911789e+01-6.41793040e+00j,\n",
       "        2.12468720e+01-2.31232959e+01j, -4.06364840e+01-8.98800116e+01j,\n",
       "        2.76717530e+01-3.01593529e+01j, -1.12015560e+02+3.53120073e+01j,\n",
       "       -9.31042552e+01-2.55093216e+01j,  5.10142213e+01-8.03262339e+01j,\n",
       "        3.51169348e+00+3.70905068e+01j, -1.17926657e+01-6.46234948e+01j,\n",
       "        1.08227401e+02-6.86951715e+01j,  1.17450071e+02+7.88067735e+00j,\n",
       "        1.89000000e+01+2.13162821e-13j,  1.17450071e+02-7.88067735e+00j,\n",
       "        1.08227401e+02+6.86951715e+01j, -1.17926657e+01+6.46234948e+01j,\n",
       "        3.51169348e+00-3.70905068e+01j,  5.10142213e+01+8.03262339e+01j,\n",
       "       -9.31042552e+01+2.55093216e+01j, -1.12015560e+02-3.53120073e+01j,\n",
       "        2.76717530e+01+3.01593529e+01j, -4.06364840e+01+8.98800116e+01j,\n",
       "        2.12468720e+01+2.31232959e+01j,  2.65911789e+01+6.41793040e+00j,\n",
       "       -5.21707201e+01+3.27912530e+01j, -7.95651821e+01+9.00503058e+00j,\n",
       "       -5.07863599e+00-4.81922371e+01j, -3.44562447e+01-8.92181242e+00j,\n",
       "       -3.31341203e+00+1.52400543e+01j,  6.30515884e+01-3.29766616e+01j,\n",
       "        1.22255686e+02-5.96205110e+00j,  3.21471672e+01+1.73940894e+01j,\n",
       "        2.36809728e+01+7.27503686e-01j,  5.58712504e+01+2.55647293e+01j,\n",
       "        5.35966020e+01+5.32506350e+01j, -4.38733721e+01+5.76655597e+00j,\n",
       "        4.79493842e+01+7.82241064e+01j, -2.50147021e+01+1.86109968e+02j,\n",
       "        3.93115967e+01+6.87211301e+01j,  8.64649651e+01+1.11470875e+02j,\n",
       "        6.38559345e+01-7.23125601e+01j,  6.23679874e+00+1.87405923e+01j,\n",
       "        3.79108030e-01-4.37991603e+00j,  5.66383165e+01+1.50458475e+02j,\n",
       "        3.95593364e+01-2.30194842e+01j,  1.21970495e+02-3.71413509e+01j,\n",
       "        3.09648313e+01-7.08947669e+01j,  1.36367816e+01-3.77508724e+01j,\n",
       "        4.85745189e+00-3.05933749e+01j,  3.69945464e+00+1.34537632e+02j,\n",
       "        4.59479342e+01+1.03600796e+02j, -4.14982585e+01+2.56954831e+00j,\n",
       "        2.25550039e+02+3.90714336e+01j,  5.25196986e+01+1.15547327e+02j,\n",
       "       -1.87301922e+01-5.75960632e+01j,  2.05274350e+00+1.22677064e+02j,\n",
       "        2.05700000e+02+1.28000000e+01j,  2.20409616e+02+1.94643815e+02j,\n",
       "        1.78922671e+02-7.52569200e+01j,  1.13410469e+02-5.19846676e+01j,\n",
       "       -8.90149924e+01-6.71180657e+01j, -1.30069301e+02+1.20281495e+02j,\n",
       "        6.31818410e+01+2.54706127e+02j,  1.14641671e+02+2.60459926e+02j,\n",
       "        1.89801185e+02-1.65806294e+02j,  6.63834647e-01-9.48907438e+01j,\n",
       "       -1.94423226e+01-2.78448492e+01j, -2.38827818e+02+5.45710516e+01j,\n",
       "        3.78079781e+02+1.49986047e+02j, -2.75635759e+02+3.13250547e+02j,\n",
       "       -2.05146551e+01-3.67834503e+02j,  8.70854281e+01+1.92865485e+02j,\n",
       "        5.70636478e+01-7.33313500e+01j,  6.91639862e+01-1.30307130e+01j,\n",
       "        2.88931807e+02+6.75845801e+01j, -1.41500307e+02+2.55602776e+02j,\n",
       "        3.50550624e+02+1.78861630e+02j,  3.10358932e+02-4.05631963e+02j,\n",
       "        4.24403398e+02-2.46149365e+02j, -7.43544925e+02+2.09041179e+01j,\n",
       "        3.14042364e+00+8.49467555e+02j,  9.45829197e+01+9.50750975e+02j,\n",
       "        9.79050850e+02+9.25911448e+02j,  5.77676988e+02-6.55060363e+02j,\n",
       "        1.35929904e+03+9.75794699e+02j, -1.87477638e+03+2.40017893e+02j,\n",
       "       -2.54770325e+02+6.19781948e+01j,  4.13591880e+02-4.37661326e+00j,\n",
       "        3.17102874e+01-7.26323008e+02j, -4.30533855e+02+4.45303329e+01j,\n",
       "        2.12633124e+02-8.11910646e+01j,  2.30666602e+02+2.34756140e+02j,\n",
       "       -1.73031555e+02-3.69729495e+02j, -3.07907834e+02-3.93589687e+02j,\n",
       "        3.78760117e+02+1.29759166e+02j, -3.41041090e+01+3.43674826e+01j,\n",
       "        4.06049124e+02-5.16880548e+02j, -8.80205858e+02-4.16992522e+02j,\n",
       "        5.98265464e+01+1.46275454e+03j, -1.23844321e+00+5.39535845e+01j])"
      ]
     },
     "execution_count": 113,
     "metadata": {},
     "output_type": "execute_result"
    }
   ],
   "source": [
    "Hn"
   ]
  },
  {
   "cell_type": "code",
   "execution_count": 114,
   "metadata": {},
   "outputs": [],
   "source": [
    "Hn_cut = np.zeros_like(Hn)"
   ]
  },
  {
   "cell_type": "code",
   "execution_count": 116,
   "metadata": {},
   "outputs": [
    {
     "data": {
      "text/plain": [
       "array([0.+0.j, 0.+0.j, 0.+0.j, 0.+0.j, 0.+0.j, 0.+0.j, 0.+0.j, 0.+0.j,\n",
       "       0.+0.j, 0.+0.j, 0.+0.j, 0.+0.j, 0.+0.j, 0.+0.j, 0.+0.j, 0.+0.j,\n",
       "       0.+0.j, 0.+0.j, 0.+0.j, 0.+0.j, 0.+0.j, 0.+0.j, 0.+0.j, 0.+0.j,\n",
       "       0.+0.j, 0.+0.j, 0.+0.j, 0.+0.j, 0.+0.j, 0.+0.j, 0.+0.j, 0.+0.j,\n",
       "       0.+0.j, 0.+0.j, 0.+0.j, 0.+0.j, 0.+0.j, 0.+0.j, 0.+0.j, 0.+0.j,\n",
       "       0.+0.j, 0.+0.j, 0.+0.j, 0.+0.j, 0.+0.j, 0.+0.j, 0.+0.j, 0.+0.j,\n",
       "       0.+0.j, 0.+0.j, 0.+0.j, 0.+0.j, 0.+0.j, 0.+0.j, 0.+0.j, 0.+0.j,\n",
       "       0.+0.j, 0.+0.j, 0.+0.j, 0.+0.j, 0.+0.j, 0.+0.j, 0.+0.j, 0.+0.j,\n",
       "       0.+0.j, 0.+0.j, 0.+0.j, 0.+0.j, 0.+0.j, 0.+0.j, 0.+0.j, 0.+0.j,\n",
       "       0.+0.j, 0.+0.j, 0.+0.j, 0.+0.j, 0.+0.j, 0.+0.j, 0.+0.j, 0.+0.j,\n",
       "       0.+0.j, 0.+0.j, 0.+0.j, 0.+0.j, 0.+0.j, 0.+0.j, 0.+0.j, 0.+0.j,\n",
       "       0.+0.j, 0.+0.j, 0.+0.j, 0.+0.j, 0.+0.j, 0.+0.j, 0.+0.j, 0.+0.j,\n",
       "       0.+0.j, 0.+0.j, 0.+0.j, 0.+0.j, 0.+0.j, 0.+0.j, 0.+0.j, 0.+0.j,\n",
       "       0.+0.j, 0.+0.j, 0.+0.j, 0.+0.j, 0.+0.j, 0.+0.j, 0.+0.j, 0.+0.j,\n",
       "       0.+0.j, 0.+0.j, 0.+0.j, 0.+0.j, 0.+0.j, 0.+0.j, 0.+0.j, 0.+0.j,\n",
       "       0.+0.j, 0.+0.j, 0.+0.j, 0.+0.j, 0.+0.j, 0.+0.j, 0.+0.j, 0.+0.j,\n",
       "       0.+0.j, 0.+0.j, 0.+0.j, 0.+0.j, 0.+0.j, 0.+0.j, 0.+0.j, 0.+0.j,\n",
       "       0.+0.j, 0.+0.j, 0.+0.j, 0.+0.j, 0.+0.j, 0.+0.j, 0.+0.j, 0.+0.j,\n",
       "       0.+0.j, 0.+0.j, 0.+0.j, 0.+0.j, 0.+0.j, 0.+0.j, 0.+0.j, 0.+0.j,\n",
       "       0.+0.j, 0.+0.j, 0.+0.j, 0.+0.j, 0.+0.j, 0.+0.j, 0.+0.j, 0.+0.j,\n",
       "       0.+0.j, 0.+0.j, 0.+0.j, 0.+0.j, 0.+0.j, 0.+0.j, 0.+0.j, 0.+0.j,\n",
       "       0.+0.j, 0.+0.j, 0.+0.j, 0.+0.j, 0.+0.j, 0.+0.j, 0.+0.j, 0.+0.j])"
      ]
     },
     "execution_count": 116,
     "metadata": {},
     "output_type": "execute_result"
    }
   ],
   "source": [
    "Hn_cut"
   ]
  },
  {
   "cell_type": "code",
   "execution_count": 120,
   "metadata": {},
   "outputs": [],
   "source": [
    "Hn_cut[b]=Hn[b]"
   ]
  },
  {
   "cell_type": "code",
   "execution_count": 121,
   "metadata": {},
   "outputs": [
    {
     "data": {
      "text/plain": [
       "array([    0.           +0.j        ,     0.           +0.j        ,\n",
       "          59.8265464 -1462.75454308j,  -880.2058582  +416.99252238j,\n",
       "         406.04912407 +516.88054775j,     0.           +0.j        ,\n",
       "           0.           +0.j        ,  -307.90783351 +393.58968717j,\n",
       "           0.           +0.j        ,     0.           +0.j        ,\n",
       "           0.           +0.j        ,     0.           +0.j        ,\n",
       "          31.71028735 +726.32300762j,     0.           +0.j        ,\n",
       "           0.           +0.j        , -1874.77637777 -240.01789272j,\n",
       "        1359.29904258 -975.79469867j,   577.67698763 +655.06036266j,\n",
       "         979.05084984 -925.91144757j,    94.58291966 -950.75097464j,\n",
       "           3.14042364 -849.46755489j,  -743.54492502  -20.90411795j,\n",
       "         424.40339803 +246.14936495j,   310.3589322  +405.63196284j,\n",
       "           0.           +0.j        ,     0.           +0.j        ,\n",
       "           0.           +0.j        ,     0.           +0.j        ,\n",
       "           0.           +0.j        ,     0.           +0.j        ,\n",
       "           0.           +0.j        ,     0.           +0.j        ,\n",
       "           0.           +0.j        ,     0.           +0.j        ,\n",
       "           0.           +0.j        ,     0.           +0.j        ,\n",
       "           0.           +0.j        ,     0.           +0.j        ,\n",
       "           0.           +0.j        ,     0.           +0.j        ,\n",
       "           0.           +0.j        ,     0.           +0.j        ,\n",
       "           0.           +0.j        ,     0.           +0.j        ,\n",
       "           0.           +0.j        ,     0.           +0.j        ,\n",
       "           0.           +0.j        ,     0.           +0.j        ,\n",
       "           0.           +0.j        ,     0.           +0.j        ,\n",
       "           0.           +0.j        ,     0.           +0.j        ,\n",
       "           0.           +0.j        ,     0.           +0.j        ,\n",
       "           0.           +0.j        ,     0.           +0.j        ,\n",
       "           0.           +0.j        ,     0.           +0.j        ,\n",
       "           0.           +0.j        ,     0.           +0.j        ,\n",
       "           0.           +0.j        ,     0.           +0.j        ,\n",
       "           0.           +0.j        ,     0.           +0.j        ,\n",
       "           0.           +0.j        ,     0.           +0.j        ,\n",
       "           0.           +0.j        ,     0.           +0.j        ,\n",
       "           0.           +0.j        ,     0.           +0.j        ,\n",
       "           0.           +0.j        ,     0.           +0.j        ,\n",
       "           0.           +0.j        ,     0.           +0.j        ,\n",
       "           0.           +0.j        ,     0.           +0.j        ,\n",
       "           0.           +0.j        ,     0.           +0.j        ,\n",
       "           0.           +0.j        ,     0.           +0.j        ,\n",
       "           0.           +0.j        ,     0.           +0.j        ,\n",
       "           0.           +0.j        ,     0.           +0.j        ,\n",
       "           0.           +0.j        ,     0.           +0.j        ,\n",
       "           0.           +0.j        ,     0.           +0.j        ,\n",
       "           0.           +0.j        ,     0.           +0.j        ,\n",
       "           0.           +0.j        ,     0.           +0.j        ,\n",
       "           0.           +0.j        ,     0.           +0.j        ,\n",
       "           0.           +0.j        ,     0.           +0.j        ,\n",
       "           0.           +0.j        ,     0.           +0.j        ,\n",
       "           0.           +0.j        ,     0.           +0.j        ,\n",
       "           0.           +0.j        ,     0.           +0.j        ,\n",
       "           0.           +0.j        ,     0.           +0.j        ,\n",
       "           0.           +0.j        ,     0.           +0.j        ,\n",
       "           0.           +0.j        ,     0.           +0.j        ,\n",
       "           0.           +0.j        ,     0.           +0.j        ,\n",
       "           0.           +0.j        ,     0.           +0.j        ,\n",
       "           0.           +0.j        ,     0.           +0.j        ,\n",
       "           0.           +0.j        ,     0.           +0.j        ,\n",
       "           0.           +0.j        ,     0.           +0.j        ,\n",
       "           0.           +0.j        ,     0.           +0.j        ,\n",
       "           0.           +0.j        ,     0.           +0.j        ,\n",
       "           0.           +0.j        ,     0.           +0.j        ,\n",
       "           0.           +0.j        ,     0.           +0.j        ,\n",
       "           0.           +0.j        ,     0.           +0.j        ,\n",
       "           0.           +0.j        ,     0.           +0.j        ,\n",
       "           0.           +0.j        ,     0.           +0.j        ,\n",
       "           0.           +0.j        ,     0.           +0.j        ,\n",
       "           0.           +0.j        ,     0.           +0.j        ,\n",
       "           0.           +0.j        ,     0.           +0.j        ,\n",
       "           0.           +0.j        ,     0.           +0.j        ,\n",
       "           0.           +0.j        ,     0.           +0.j        ,\n",
       "           0.           +0.j        ,     0.           +0.j        ,\n",
       "           0.           +0.j        ,     0.           +0.j        ,\n",
       "           0.           +0.j        ,     0.           +0.j        ,\n",
       "           0.           +0.j        ,     0.           +0.j        ,\n",
       "           0.           +0.j        ,     0.           +0.j        ,\n",
       "           0.           +0.j        ,     0.           +0.j        ,\n",
       "           0.           +0.j        ,     0.           +0.j        ,\n",
       "           0.           +0.j        ,     0.           +0.j        ,\n",
       "           0.           +0.j        ,     0.           +0.j        ,\n",
       "           0.           +0.j        ,     0.           +0.j        ,\n",
       "           0.           +0.j        ,     0.           +0.j        ,\n",
       "           0.           +0.j        ,     0.           +0.j        ,\n",
       "           0.           +0.j        ,     0.           +0.j        ,\n",
       "           0.           +0.j        ,     0.           +0.j        ,\n",
       "           0.           +0.j        ,     0.           +0.j        ,\n",
       "           0.           +0.j        ,     0.           +0.j        ,\n",
       "           0.           +0.j        ,     0.           +0.j        ])"
      ]
     },
     "execution_count": 121,
     "metadata": {},
     "output_type": "execute_result"
    }
   ],
   "source": [
    "Hn_cut"
   ]
  },
  {
   "cell_type": "code",
   "execution_count": 127,
   "metadata": {},
   "outputs": [],
   "source": [
    "Hn_cut[list(-np.array(b))]=Hn[list(-np.array(b))]"
   ]
  },
  {
   "cell_type": "code",
   "execution_count": 128,
   "metadata": {},
   "outputs": [
    {
     "data": {
      "text/plain": [
       "array([    0.           +0.j        ,     0.           +0.j        ,\n",
       "          59.8265464 -1462.75454308j,  -880.2058582  +416.99252238j,\n",
       "         406.04912407 +516.88054775j,     0.           +0.j        ,\n",
       "           0.           +0.j        ,  -307.90783351 +393.58968717j,\n",
       "           0.           +0.j        ,     0.           +0.j        ,\n",
       "           0.           +0.j        ,     0.           +0.j        ,\n",
       "          31.71028735 +726.32300762j,     0.           +0.j        ,\n",
       "           0.           +0.j        , -1874.77637777 -240.01789272j,\n",
       "        1359.29904258 -975.79469867j,   577.67698763 +655.06036266j,\n",
       "         979.05084984 -925.91144757j,    94.58291966 -950.75097464j,\n",
       "           3.14042364 -849.46755489j,  -743.54492502  -20.90411795j,\n",
       "         424.40339803 +246.14936495j,   310.3589322  +405.63196284j,\n",
       "           0.           +0.j        ,     0.           +0.j        ,\n",
       "           0.           +0.j        ,     0.           +0.j        ,\n",
       "           0.           +0.j        ,     0.           +0.j        ,\n",
       "           0.           +0.j        ,     0.           +0.j        ,\n",
       "           0.           +0.j        ,     0.           +0.j        ,\n",
       "           0.           +0.j        ,     0.           +0.j        ,\n",
       "           0.           +0.j        ,     0.           +0.j        ,\n",
       "           0.           +0.j        ,     0.           +0.j        ,\n",
       "           0.           +0.j        ,     0.           +0.j        ,\n",
       "           0.           +0.j        ,     0.           +0.j        ,\n",
       "           0.           +0.j        ,     0.           +0.j        ,\n",
       "           0.           +0.j        ,     0.           +0.j        ,\n",
       "           0.           +0.j        ,     0.           +0.j        ,\n",
       "           0.           +0.j        ,     0.           +0.j        ,\n",
       "           0.           +0.j        ,     0.           +0.j        ,\n",
       "           0.           +0.j        ,     0.           +0.j        ,\n",
       "           0.           +0.j        ,     0.           +0.j        ,\n",
       "           0.           +0.j        ,     0.           +0.j        ,\n",
       "           0.           +0.j        ,     0.           +0.j        ,\n",
       "           0.           +0.j        ,     0.           +0.j        ,\n",
       "           0.           +0.j        ,     0.           +0.j        ,\n",
       "           0.           +0.j        ,     0.           +0.j        ,\n",
       "           0.           +0.j        ,     0.           +0.j        ,\n",
       "           0.           +0.j        ,     0.           +0.j        ,\n",
       "           0.           +0.j        ,     0.           +0.j        ,\n",
       "           0.           +0.j        ,     0.           +0.j        ,\n",
       "           0.           +0.j        ,     0.           +0.j        ,\n",
       "           0.           +0.j        ,     0.           +0.j        ,\n",
       "           0.           +0.j        ,     0.           +0.j        ,\n",
       "           0.           +0.j        ,     0.           +0.j        ,\n",
       "           0.           +0.j        ,     0.           +0.j        ,\n",
       "           0.           +0.j        ,     0.           +0.j        ,\n",
       "           0.           +0.j        ,     0.           +0.j        ,\n",
       "           0.           +0.j        ,     0.           +0.j        ,\n",
       "           0.           +0.j        ,     0.           +0.j        ,\n",
       "           0.           +0.j        ,     0.           +0.j        ,\n",
       "           0.           +0.j        ,     0.           +0.j        ,\n",
       "           0.           +0.j        ,     0.           +0.j        ,\n",
       "           0.           +0.j        ,     0.           +0.j        ,\n",
       "           0.           +0.j        ,     0.           +0.j        ,\n",
       "           0.           +0.j        ,     0.           +0.j        ,\n",
       "           0.           +0.j        ,     0.           +0.j        ,\n",
       "           0.           +0.j        ,     0.           +0.j        ,\n",
       "           0.           +0.j        ,     0.           +0.j        ,\n",
       "           0.           +0.j        ,     0.           +0.j        ,\n",
       "           0.           +0.j        ,     0.           +0.j        ,\n",
       "           0.           +0.j        ,     0.           +0.j        ,\n",
       "           0.           +0.j        ,     0.           +0.j        ,\n",
       "           0.           +0.j        ,     0.           +0.j        ,\n",
       "           0.           +0.j        ,     0.           +0.j        ,\n",
       "           0.           +0.j        ,     0.           +0.j        ,\n",
       "           0.           +0.j        ,     0.           +0.j        ,\n",
       "           0.           +0.j        ,     0.           +0.j        ,\n",
       "           0.           +0.j        ,     0.           +0.j        ,\n",
       "           0.           +0.j        ,     0.           +0.j        ,\n",
       "           0.           +0.j        ,     0.           +0.j        ,\n",
       "           0.           +0.j        ,     0.           +0.j        ,\n",
       "           0.           +0.j        ,     0.           +0.j        ,\n",
       "           0.           +0.j        ,     0.           +0.j        ,\n",
       "           0.           +0.j        ,     0.           +0.j        ,\n",
       "           0.           +0.j        ,     0.           +0.j        ,\n",
       "           0.           +0.j        ,     0.           +0.j        ,\n",
       "           0.           +0.j        ,     0.           +0.j        ,\n",
       "           0.           +0.j        ,     0.           +0.j        ,\n",
       "           0.           +0.j        ,   310.3589322  -405.63196284j,\n",
       "         424.40339803 -246.14936495j,  -743.54492502  +20.90411795j,\n",
       "           3.14042364 +849.46755489j,    94.58291966 +950.75097464j,\n",
       "         979.05084984 +925.91144757j,   577.67698763 -655.06036266j,\n",
       "        1359.29904258 +975.79469867j, -1874.77637777 +240.01789272j,\n",
       "           0.           +0.j        ,     0.           +0.j        ,\n",
       "          31.71028735 -726.32300762j,     0.           +0.j        ,\n",
       "           0.           +0.j        ,     0.           +0.j        ,\n",
       "           0.           +0.j        ,  -307.90783351 -393.58968717j,\n",
       "           0.           +0.j        ,     0.           +0.j        ,\n",
       "         406.04912407 -516.88054775j,  -880.2058582  -416.99252238j,\n",
       "          59.8265464 +1462.75454308j,     0.           +0.j        ])"
      ]
     },
     "execution_count": 128,
     "metadata": {},
     "output_type": "execute_result"
    }
   ],
   "source": [
    "Hn_cut"
   ]
  },
  {
   "cell_type": "code",
   "execution_count": 135,
   "metadata": {},
   "outputs": [],
   "source": [
    "model2= fft.ifft(Hn_cut)"
   ]
  },
  {
   "cell_type": "code",
   "execution_count": 136,
   "metadata": {},
   "outputs": [
    {
     "name": "stderr",
     "output_type": "stream",
     "text": [
      "/usr/local/lib/python3.5/dist-packages/numpy/core/numeric.py:492: ComplexWarning: Casting complex values to real discards the imaginary part\n",
      "  return array(a, dtype, copy=False, order=order)\n"
     ]
    },
    {
     "data": {
      "image/png": "[encoded data removed]",
      "text/plain": [
       "<Figure size 432x288 with 1 Axes>"
      ]
     },
     "metadata": {},
     "output_type": "display_data"
    }
   ],
   "source": [
    "plt.plot(x,model2,'-k')\n",
    "plt.plot(x,data['manchas']-data['manchas'].mean())\n",
    "plt.show()"
   ]
  },
  {
   "cell_type": "code",
   "execution_count": 137,
   "metadata": {},
   "outputs": [],
   "source": [
    "fft.fft?"
   ]
  },
  {
   "cell_type": "code",
   "execution_count": 139,
   "metadata": {},
   "outputs": [],
   "source": [
    "fft.ifft?"
   ]
  },
  {
   "cell_type": "code",
   "execution_count": 143,
   "metadata": {},
   "outputs": [
    {
     "data": {
      "text/plain": [
       "14.0"
      ]
     },
     "execution_count": 143,
     "metadata": {},
     "output_type": "execute_result"
    }
   ],
   "source": [
    "len(Hn_cut[Hn_cut!=0])/2"
   ]
  },
  {
   "cell_type": "code",
   "execution_count": 144,
   "metadata": {},
   "outputs": [],
   "source": [
    "sigma=1."
   ]
  },
  {
   "cell_type": "code",
   "execution_count": 147,
   "metadata": {},
   "outputs": [],
   "source": [
    "tt=np.arange(-N/2,N/2)\n",
    "g=np.exp(-tt**2/2/sigma**2)/np.sqrt(2*np.pi)/sigma"
   ]
  },
  {
   "cell_type": "code",
   "execution_count": 148,
   "metadata": {},
   "outputs": [
    {
     "data": {
      "image/png": "[encoded data removed]",
      "text/plain": [
       "<Figure size 432x288 with 1 Axes>"
      ]
     },
     "metadata": {},
     "output_type": "display_data"
    }
   ],
   "source": [
    "plt.plot(tt,g)\n",
    "plt.show()"
   ]
  },
  {
   "cell_type": "code",
   "execution_count": 149,
   "metadata": {},
   "outputs": [],
   "source": [
    "hn=data['manchas']-data['manchas'].mean()"
   ]
  },
  {
   "cell_type": "code",
   "execution_count": 151,
   "metadata": {},
   "outputs": [],
   "source": [
    "hn_smoothed=np.convolve(hn,g)"
   ]
  },
  {
   "cell_type": "code",
   "execution_count": 176,
   "metadata": {},
   "outputs": [
    {
     "name": "stderr",
     "output_type": "stream",
     "text": [
      "/usr/local/lib/python3.5/dist-packages/numpy/core/numeric.py:492: ComplexWarning: Casting complex values to real discards the imaginary part\n",
      "  return array(a, dtype, copy=False, order=order)\n"
     ]
    },
    {
     "data": {
      "image/png": "[encoded data removed]",
      "text/plain": [
       "<Figure size 432x288 with 1 Axes>"
      ]
     },
     "metadata": {},
     "output_type": "display_data"
    }
   ],
   "source": [
    "tt2=np.arange(-N,N-1)\n",
    "plt.plot(x,hn_smoothed[int(N/2):int(3*N/2)],'.-', label='convoluted')\n",
    "plt.plot(x,model2,'-k',label='filtered w/ fft')\n",
    "plt.plot(x,data['manchas']-data['manchas'].mean(),'g-',label='original')\n",
    "plt.legend()\n",
    "plt.show()"
   ]
  },
  {
   "cell_type": "code",
   "execution_count": 155,
   "metadata": {},
   "outputs": [
    {
     "data": {
      "text/plain": [
       "352"
      ]
     },
     "execution_count": 155,
     "metadata": {},
     "output_type": "execute_result"
    }
   ],
   "source": [
    "len(tt2)"
   ]
  },
  {
   "cell_type": "code",
   "execution_count": 156,
   "metadata": {},
   "outputs": [
    {
     "data": {
      "text/plain": [
       "351"
      ]
     },
     "execution_count": 156,
     "metadata": {},
     "output_type": "execute_result"
    }
   ],
   "source": [
    "len(hn_smoothed)"
   ]
  },
  {
   "cell_type": "code",
   "execution_count": 164,
   "metadata": {},
   "outputs": [
    {
     "data": {
      "text/plain": [
       "176"
      ]
     },
     "execution_count": 164,
     "metadata": {},
     "output_type": "execute_result"
    }
   ],
   "source": [
    "len(hn_smoothed[int(N/2):int(3*N/2)])"
   ]
  },
  {
   "cell_type": "code",
   "execution_count": 161,
   "metadata": {},
   "outputs": [
    {
     "data": {
      "text/plain": [
       "176"
      ]
     },
     "execution_count": 161,
     "metadata": {},
     "output_type": "execute_result"
    }
   ],
   "source": [
    "len(tt)"
   ]
  },
  {
   "cell_type": "code",
   "execution_count": null,
   "metadata": {},
   "outputs": [],
   "source": []
  }
 ],
 "metadata": {
  "kernelspec": {
   "display_name": "Python 3",
   "language": "python",
   "name": "python3"
  },
  "language_info": {
   "codemirror_mode": {
    "name": "ipython",
    "version": 3
   },
   "file_extension": ".py",
   "mimetype": "text/x-python",
   "name": "python",
   "nbconvert_exporter": "python",
   "pygments_lexer": "ipython3",
   "version": "3.5.2"
  }
 },
 "nbformat": 4,
 "nbformat_minor": 2
}
