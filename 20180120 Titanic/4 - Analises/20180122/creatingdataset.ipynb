{
 "cells": [
  {
   "cell_type": "markdown",
   "metadata": {},
   "source": [
    "# Creating a Python code that reads and manipulates a csv file without employing specific libraries such as pandas or the Python csv module"
   ]
  },
  {
   "cell_type": "markdown",
   "metadata": {},
   "source": [
    "Reads the file with the training dataset and creates an array where each element is a line from the .csv file:"
   ]
  },
  {
   "cell_type": "code",
   "execution_count": 5,
   "metadata": {},
   "outputs": [],
   "source": [
    "from matplotlib import pyplot as plt\n",
    "from __future__ import division\n",
    "\n",
    "train = open(\"./../../2 - Dados Preparados/train.csv\",\"r\")\n",
    "data = [[line] for line in train]\n",
    "train.close()"
   ]
  },
  {
   "cell_type": "code",
   "execution_count": 6,
   "metadata": {
    "collapsed": true
   },
   "outputs": [],
   "source": [
    "def readcsv(dataset,qualifier,delimiter):\n",
    "    datatemp = []\n",
    "    for i, content in enumerate(dataset):\n",
    "        datatemp += [content[0].strip(\"\\n\").split(delimiter)]\n",
    "        for j, element in enumerate(datatemp[i]):\n",
    "            if qualifier in element:\n",
    "                datatemp[i][j] = datatemp[i][j] + datatemp[i][j+1]\n",
    "                datatemp[i][j] = datatemp[i][j].strip(qualifier)\n",
    "                datatemp[i].pop(j+1)\n",
    "    return datatemp    \n",
    "\n",
    "data = readcsv(data, '\"', \",\")"
   ]
  },
  {
   "cell_type": "code",
   "execution_count": 7,
   "metadata": {},
   "outputs": [],
   "source": [
    "datadict = {}\n",
    "for col in data[0]:\n",
    "    datadict[col]=[el[data[0].index(col)] for el in data[1:]]\n",
    "    \n",
    "#print(datadict)\n",
    "\n"
   ]
  },
  {
   "cell_type": "code",
   "execution_count": 8,
   "metadata": {},
   "outputs": [
    {
     "name": "stdout",
     "output_type": "stream",
     "text": [
      "The age average among the passengers in the Titanic was 29.7.\n",
      "The oldest passenger on the ship was 80.0 years old.\n"
     ]
    }
   ],
   "source": [
    "survAge = [datadict[\"Age\"],datadict[\"Survived\"]]\n",
    "\n",
    "Age = [float(el) for el in survAge[0]\n",
    "               if el]\n",
    "\n",
    "print(\"The age average among the passengers in the Titanic was \" +str(\"%.1f\" % (sum(Age)/len(Age))) +\".\")\n",
    "#print(Age)\n",
    "print(\"The oldest passenger on the ship was \" + str(max(Age)) + \" years old.\")\n",
    "\n",
    "#print(survAge)"
   ]
  },
  {
   "cell_type": "code",
   "execution_count": 9,
   "metadata": {
    "collapsed": true
   },
   "outputs": [],
   "source": [
    "\n",
    "ageRange=[0,5,10,15,21,31,41,51,61,71,81]\n",
    "agePop = []\n",
    "for i, el in enumerate(ageRange):\n",
    "    if el != ageRange[-1]:\n",
    "        agePop += [[ageRange[i+1],0,0]]\n",
    "        for a, surv in zip(survAge[0],survAge[1]):\n",
    "            if(a):\n",
    "                if(surv):\n",
    "                    if ((float(a) <= ageRange[i+1]) & (float(a)> ageRange[i])): \n",
    "                        agePop[i][1] += int(surv)\n",
    "                        agePop[i][2] += 1"
   ]
  },
  {
   "cell_type": "code",
   "execution_count": 10,
   "metadata": {
    "collapsed": true
   },
   "outputs": [],
   "source": [
    "xs = [((ageRange[i]+ageRange[i+1])/2) for i, el in enumerate(ageRange)\n",
    "                                      if el != ageRange[-1]]\n",
    "ys = [y/z for k,y,z in agePop]\n",
    "xt = [(ageRange[i+1]-ageRange[i]) -0.5 for i, el in enumerate(ageRange)\n",
    "                                      if el != ageRange[-1]]"
   ]
  },
  {
   "cell_type": "code",
   "execution_count": 11,
   "metadata": {},
   "outputs": [
    {
     "data": {
      "image/png": "[encoded data removed]",
      "text/plain": [
       "<matplotlib.figure.Figure at 0x22378be8278>"
      ]
     },
     "metadata": {},
     "output_type": "display_data"
    }
   ],
   "source": [
    "plt.bar(xs,ys,xt)\n",
    "plt.xticks()\n",
    "plt.title(\"Probability of Surviving according to age\")\n",
    "plt.xlabel(\"Age\")\n",
    "plt.ylabel(\"Chance of survival\")\n",
    "plt.axis([-1,82,0,1])\n",
    "plt.show()"
   ]
  },
  {
   "cell_type": "markdown",
   "metadata": {},
   "source": [
    "# I need to learn how to use RegEx"
   ]
  },
  {
   "cell_type": "code",
   "execution_count": null,
   "metadata": {
    "collapsed": true
   },
   "outputs": [],
   "source": []
  }
 ],
 "metadata": {
  "kernelspec": {
   "display_name": "Python 3",
   "language": "python",
   "name": "python3"
  },
  "language_info": {
   "codemirror_mode": {
    "name": "ipython",
    "version": 3
   },
   "file_extension": ".py",
   "mimetype": "text/x-python",
   "name": "python",
   "nbconvert_exporter": "python",
   "pygments_lexer": "ipython3",
   "version": "3.6.1"
  }
 },
 "nbformat": 4,
 "nbformat_minor": 2
}
