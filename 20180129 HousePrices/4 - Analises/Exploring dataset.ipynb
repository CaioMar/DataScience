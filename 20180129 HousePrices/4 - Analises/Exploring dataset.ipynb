{
 "cells": [
  {
   "cell_type": "markdown",
   "metadata": {},
   "source": [
    "# Housing prices in Ames, Iwoa (dataset downloaded from Kaggle)"
   ]
  },
  {
   "cell_type": "markdown",
   "metadata": {},
   "source": [
    "We first import the libraries:"
   ]
  },
  {
   "cell_type": "code",
   "execution_count": 1,
   "metadata": {
    "collapsed": true
   },
   "outputs": [],
   "source": [
    "#importing main libraries\n",
    "\n",
    "import pandas as pd\n",
    "import numpy as np\n",
    "import matplotlib.pyplot as plt"
   ]
  },
  {
   "cell_type": "markdown",
   "metadata": {},
   "source": [
    "We then load the data (training set into the housing variable and the validation set into validation_set):"
   ]
  },
  {
   "cell_type": "code",
   "execution_count": 131,
   "metadata": {
    "collapsed": true
   },
   "outputs": [],
   "source": [
    "housing = pd.read_csv('./../1 - Dados Originais/train.csv')\n",
    "validation_set = pd.read_csv('./../1 - Dados Originais/test.csv')"
   ]
  },
  {
   "cell_type": "markdown",
   "metadata": {},
   "source": [
    "We now have a check some entries and the type of the different attributes in the dataset (what are the categorical and the numerical ones?):"
   ]
  },
  {
   "cell_type": "code",
   "execution_count": 3,
   "metadata": {},
   "outputs": [
    {
     "data": {
      "text/html": [
       "<div>\n",
       "<style>\n",
       "    .dataframe thead tr:only-child th {\n",
       "        text-align: right;\n",
       "    }\n",
       "\n",
       "    .dataframe thead th {\n",
       "        text-align: left;\n",
       "    }\n",
       "\n",
       "    .dataframe tbody tr th {\n",
       "        vertical-align: top;\n",
       "    }\n",
       "</style>\n",
       "<table border=\"1\" class=\"dataframe\">\n",
       "  <thead>\n",
       "    <tr style=\"text-align: right;\">\n",
       "      <th></th>\n",
       "      <th>Id</th>\n",
       "      <th>MSSubClass</th>\n",
       "      <th>MSZoning</th>\n",
       "      <th>LotFrontage</th>\n",
       "      <th>LotArea</th>\n",
       "      <th>Street</th>\n",
       "      <th>Alley</th>\n",
       "      <th>LotShape</th>\n",
       "      <th>LandContour</th>\n",
       "      <th>Utilities</th>\n",
       "      <th>...</th>\n",
       "      <th>PoolArea</th>\n",
       "      <th>PoolQC</th>\n",
       "      <th>Fence</th>\n",
       "      <th>MiscFeature</th>\n",
       "      <th>MiscVal</th>\n",
       "      <th>MoSold</th>\n",
       "      <th>YrSold</th>\n",
       "      <th>SaleType</th>\n",
       "      <th>SaleCondition</th>\n",
       "      <th>SalePrice</th>\n",
       "    </tr>\n",
       "  </thead>\n",
       "  <tbody>\n",
       "    <tr>\n",
       "      <th>0</th>\n",
       "      <td>1</td>\n",
       "      <td>60</td>\n",
       "      <td>RL</td>\n",
       "      <td>65.0</td>\n",
       "      <td>8450</td>\n",
       "      <td>Pave</td>\n",
       "      <td>NaN</td>\n",
       "      <td>Reg</td>\n",
       "      <td>Lvl</td>\n",
       "      <td>AllPub</td>\n",
       "      <td>...</td>\n",
       "      <td>0</td>\n",
       "      <td>NaN</td>\n",
       "      <td>NaN</td>\n",
       "      <td>NaN</td>\n",
       "      <td>0</td>\n",
       "      <td>2</td>\n",
       "      <td>2008</td>\n",
       "      <td>WD</td>\n",
       "      <td>Normal</td>\n",
       "      <td>208500</td>\n",
       "    </tr>\n",
       "    <tr>\n",
       "      <th>1</th>\n",
       "      <td>2</td>\n",
       "      <td>20</td>\n",
       "      <td>RL</td>\n",
       "      <td>80.0</td>\n",
       "      <td>9600</td>\n",
       "      <td>Pave</td>\n",
       "      <td>NaN</td>\n",
       "      <td>Reg</td>\n",
       "      <td>Lvl</td>\n",
       "      <td>AllPub</td>\n",
       "      <td>...</td>\n",
       "      <td>0</td>\n",
       "      <td>NaN</td>\n",
       "      <td>NaN</td>\n",
       "      <td>NaN</td>\n",
       "      <td>0</td>\n",
       "      <td>5</td>\n",
       "      <td>2007</td>\n",
       "      <td>WD</td>\n",
       "      <td>Normal</td>\n",
       "      <td>181500</td>\n",
       "    </tr>\n",
       "    <tr>\n",
       "      <th>2</th>\n",
       "      <td>3</td>\n",
       "      <td>60</td>\n",
       "      <td>RL</td>\n",
       "      <td>68.0</td>\n",
       "      <td>11250</td>\n",
       "      <td>Pave</td>\n",
       "      <td>NaN</td>\n",
       "      <td>IR1</td>\n",
       "      <td>Lvl</td>\n",
       "      <td>AllPub</td>\n",
       "      <td>...</td>\n",
       "      <td>0</td>\n",
       "      <td>NaN</td>\n",
       "      <td>NaN</td>\n",
       "      <td>NaN</td>\n",
       "      <td>0</td>\n",
       "      <td>9</td>\n",
       "      <td>2008</td>\n",
       "      <td>WD</td>\n",
       "      <td>Normal</td>\n",
       "      <td>223500</td>\n",
       "    </tr>\n",
       "    <tr>\n",
       "      <th>3</th>\n",
       "      <td>4</td>\n",
       "      <td>70</td>\n",
       "      <td>RL</td>\n",
       "      <td>60.0</td>\n",
       "      <td>9550</td>\n",
       "      <td>Pave</td>\n",
       "      <td>NaN</td>\n",
       "      <td>IR1</td>\n",
       "      <td>Lvl</td>\n",
       "      <td>AllPub</td>\n",
       "      <td>...</td>\n",
       "      <td>0</td>\n",
       "      <td>NaN</td>\n",
       "      <td>NaN</td>\n",
       "      <td>NaN</td>\n",
       "      <td>0</td>\n",
       "      <td>2</td>\n",
       "      <td>2006</td>\n",
       "      <td>WD</td>\n",
       "      <td>Abnorml</td>\n",
       "      <td>140000</td>\n",
       "    </tr>\n",
       "    <tr>\n",
       "      <th>4</th>\n",
       "      <td>5</td>\n",
       "      <td>60</td>\n",
       "      <td>RL</td>\n",
       "      <td>84.0</td>\n",
       "      <td>14260</td>\n",
       "      <td>Pave</td>\n",
       "      <td>NaN</td>\n",
       "      <td>IR1</td>\n",
       "      <td>Lvl</td>\n",
       "      <td>AllPub</td>\n",
       "      <td>...</td>\n",
       "      <td>0</td>\n",
       "      <td>NaN</td>\n",
       "      <td>NaN</td>\n",
       "      <td>NaN</td>\n",
       "      <td>0</td>\n",
       "      <td>12</td>\n",
       "      <td>2008</td>\n",
       "      <td>WD</td>\n",
       "      <td>Normal</td>\n",
       "      <td>250000</td>\n",
       "    </tr>\n",
       "  </tbody>\n",
       "</table>\n",
       "<p>5 rows × 81 columns</p>\n",
       "</div>"
      ],
      "text/plain": [
       "   Id  MSSubClass MSZoning  LotFrontage  LotArea Street Alley LotShape  \\\n",
       "0   1          60       RL         65.0     8450   Pave   NaN      Reg   \n",
       "1   2          20       RL         80.0     9600   Pave   NaN      Reg   \n",
       "2   3          60       RL         68.0    11250   Pave   NaN      IR1   \n",
       "3   4          70       RL         60.0     9550   Pave   NaN      IR1   \n",
       "4   5          60       RL         84.0    14260   Pave   NaN      IR1   \n",
       "\n",
       "  LandContour Utilities    ...     PoolArea PoolQC Fence MiscFeature MiscVal  \\\n",
       "0         Lvl    AllPub    ...            0    NaN   NaN         NaN       0   \n",
       "1         Lvl    AllPub    ...            0    NaN   NaN         NaN       0   \n",
       "2         Lvl    AllPub    ...            0    NaN   NaN         NaN       0   \n",
       "3         Lvl    AllPub    ...            0    NaN   NaN         NaN       0   \n",
       "4         Lvl    AllPub    ...            0    NaN   NaN         NaN       0   \n",
       "\n",
       "  MoSold YrSold  SaleType  SaleCondition  SalePrice  \n",
       "0      2   2008        WD         Normal     208500  \n",
       "1      5   2007        WD         Normal     181500  \n",
       "2      9   2008        WD         Normal     223500  \n",
       "3      2   2006        WD        Abnorml     140000  \n",
       "4     12   2008        WD         Normal     250000  \n",
       "\n",
       "[5 rows x 81 columns]"
      ]
     },
     "execution_count": 3,
     "metadata": {},
     "output_type": "execute_result"
    }
   ],
   "source": [
    "housing.head()"
   ]
  },
  {
   "cell_type": "code",
   "execution_count": 4,
   "metadata": {},
   "outputs": [
    {
     "name": "stdout",
     "output_type": "stream",
     "text": [
      "<class 'pandas.core.frame.DataFrame'>\n",
      "RangeIndex: 1460 entries, 0 to 1459\n",
      "Data columns (total 81 columns):\n",
      "Id               1460 non-null int64\n",
      "MSSubClass       1460 non-null int64\n",
      "MSZoning         1460 non-null object\n",
      "LotFrontage      1201 non-null float64\n",
      "LotArea          1460 non-null int64\n",
      "Street           1460 non-null object\n",
      "Alley            91 non-null object\n",
      "LotShape         1460 non-null object\n",
      "LandContour      1460 non-null object\n",
      "Utilities        1460 non-null object\n",
      "LotConfig        1460 non-null object\n",
      "LandSlope        1460 non-null object\n",
      "Neighborhood     1460 non-null object\n",
      "Condition1       1460 non-null object\n",
      "Condition2       1460 non-null object\n",
      "BldgType         1460 non-null object\n",
      "HouseStyle       1460 non-null object\n",
      "OverallQual      1460 non-null int64\n",
      "OverallCond      1460 non-null int64\n",
      "YearBuilt        1460 non-null int64\n",
      "YearRemodAdd     1460 non-null int64\n",
      "RoofStyle        1460 non-null object\n",
      "RoofMatl         1460 non-null object\n",
      "Exterior1st      1460 non-null object\n",
      "Exterior2nd      1460 non-null object\n",
      "MasVnrType       1452 non-null object\n",
      "MasVnrArea       1452 non-null float64\n",
      "ExterQual        1460 non-null object\n",
      "ExterCond        1460 non-null object\n",
      "Foundation       1460 non-null object\n",
      "BsmtQual         1423 non-null object\n",
      "BsmtCond         1423 non-null object\n",
      "BsmtExposure     1422 non-null object\n",
      "BsmtFinType1     1423 non-null object\n",
      "BsmtFinSF1       1460 non-null int64\n",
      "BsmtFinType2     1422 non-null object\n",
      "BsmtFinSF2       1460 non-null int64\n",
      "BsmtUnfSF        1460 non-null int64\n",
      "TotalBsmtSF      1460 non-null int64\n",
      "Heating          1460 non-null object\n",
      "HeatingQC        1460 non-null object\n",
      "CentralAir       1460 non-null object\n",
      "Electrical       1459 non-null object\n",
      "1stFlrSF         1460 non-null int64\n",
      "2ndFlrSF         1460 non-null int64\n",
      "LowQualFinSF     1460 non-null int64\n",
      "GrLivArea        1460 non-null int64\n",
      "BsmtFullBath     1460 non-null int64\n",
      "BsmtHalfBath     1460 non-null int64\n",
      "FullBath         1460 non-null int64\n",
      "HalfBath         1460 non-null int64\n",
      "BedroomAbvGr     1460 non-null int64\n",
      "KitchenAbvGr     1460 non-null int64\n",
      "KitchenQual      1460 non-null object\n",
      "TotRmsAbvGrd     1460 non-null int64\n",
      "Functional       1460 non-null object\n",
      "Fireplaces       1460 non-null int64\n",
      "FireplaceQu      770 non-null object\n",
      "GarageType       1379 non-null object\n",
      "GarageYrBlt      1379 non-null float64\n",
      "GarageFinish     1379 non-null object\n",
      "GarageCars       1460 non-null int64\n",
      "GarageArea       1460 non-null int64\n",
      "GarageQual       1379 non-null object\n",
      "GarageCond       1379 non-null object\n",
      "PavedDrive       1460 non-null object\n",
      "WoodDeckSF       1460 non-null int64\n",
      "OpenPorchSF      1460 non-null int64\n",
      "EnclosedPorch    1460 non-null int64\n",
      "3SsnPorch        1460 non-null int64\n",
      "ScreenPorch      1460 non-null int64\n",
      "PoolArea         1460 non-null int64\n",
      "PoolQC           7 non-null object\n",
      "Fence            281 non-null object\n",
      "MiscFeature      54 non-null object\n",
      "MiscVal          1460 non-null int64\n",
      "MoSold           1460 non-null int64\n",
      "YrSold           1460 non-null int64\n",
      "SaleType         1460 non-null object\n",
      "SaleCondition    1460 non-null object\n",
      "SalePrice        1460 non-null int64\n",
      "dtypes: float64(3), int64(35), object(43)\n",
      "memory usage: 924.0+ KB\n"
     ]
    }
   ],
   "source": [
    "housing.info()"
   ]
  },
  {
   "cell_type": "markdown",
   "metadata": {},
   "source": [
    "As we can see there are 38 are numerical attributes and 43 categorical ones, with a total of 81 attributes. Naturally some of the 35 integer attributes may be discrete. There are also 1460 entries in the training set. We can see that there are some attributes with a lot of missing instances (such as PoolQC, MiscFeature and Fence). Perhaps, we can throw some away in future steps? For now lets hold onto all the data.\n",
    "Next, we call the describe function to probe the properties of the numerical attributes:"
   ]
  },
  {
   "cell_type": "code",
   "execution_count": 5,
   "metadata": {},
   "outputs": [
    {
     "data": {
      "text/html": [
       "<div>\n",
       "<style>\n",
       "    .dataframe thead tr:only-child th {\n",
       "        text-align: right;\n",
       "    }\n",
       "\n",
       "    .dataframe thead th {\n",
       "        text-align: left;\n",
       "    }\n",
       "\n",
       "    .dataframe tbody tr th {\n",
       "        vertical-align: top;\n",
       "    }\n",
       "</style>\n",
       "<table border=\"1\" class=\"dataframe\">\n",
       "  <thead>\n",
       "    <tr style=\"text-align: right;\">\n",
       "      <th></th>\n",
       "      <th>Id</th>\n",
       "      <th>MSSubClass</th>\n",
       "      <th>LotFrontage</th>\n",
       "      <th>LotArea</th>\n",
       "      <th>OverallQual</th>\n",
       "      <th>OverallCond</th>\n",
       "      <th>YearBuilt</th>\n",
       "      <th>YearRemodAdd</th>\n",
       "      <th>MasVnrArea</th>\n",
       "      <th>BsmtFinSF1</th>\n",
       "      <th>...</th>\n",
       "      <th>WoodDeckSF</th>\n",
       "      <th>OpenPorchSF</th>\n",
       "      <th>EnclosedPorch</th>\n",
       "      <th>3SsnPorch</th>\n",
       "      <th>ScreenPorch</th>\n",
       "      <th>PoolArea</th>\n",
       "      <th>MiscVal</th>\n",
       "      <th>MoSold</th>\n",
       "      <th>YrSold</th>\n",
       "      <th>SalePrice</th>\n",
       "    </tr>\n",
       "  </thead>\n",
       "  <tbody>\n",
       "    <tr>\n",
       "      <th>count</th>\n",
       "      <td>1460.000000</td>\n",
       "      <td>1460.000000</td>\n",
       "      <td>1201.000000</td>\n",
       "      <td>1460.000000</td>\n",
       "      <td>1460.000000</td>\n",
       "      <td>1460.000000</td>\n",
       "      <td>1460.000000</td>\n",
       "      <td>1460.000000</td>\n",
       "      <td>1452.000000</td>\n",
       "      <td>1460.000000</td>\n",
       "      <td>...</td>\n",
       "      <td>1460.000000</td>\n",
       "      <td>1460.000000</td>\n",
       "      <td>1460.000000</td>\n",
       "      <td>1460.000000</td>\n",
       "      <td>1460.000000</td>\n",
       "      <td>1460.000000</td>\n",
       "      <td>1460.000000</td>\n",
       "      <td>1460.000000</td>\n",
       "      <td>1460.000000</td>\n",
       "      <td>1460.000000</td>\n",
       "    </tr>\n",
       "    <tr>\n",
       "      <th>mean</th>\n",
       "      <td>730.500000</td>\n",
       "      <td>56.897260</td>\n",
       "      <td>70.049958</td>\n",
       "      <td>10516.828082</td>\n",
       "      <td>6.099315</td>\n",
       "      <td>5.575342</td>\n",
       "      <td>1971.267808</td>\n",
       "      <td>1984.865753</td>\n",
       "      <td>103.685262</td>\n",
       "      <td>443.639726</td>\n",
       "      <td>...</td>\n",
       "      <td>94.244521</td>\n",
       "      <td>46.660274</td>\n",
       "      <td>21.954110</td>\n",
       "      <td>3.409589</td>\n",
       "      <td>15.060959</td>\n",
       "      <td>2.758904</td>\n",
       "      <td>43.489041</td>\n",
       "      <td>6.321918</td>\n",
       "      <td>2007.815753</td>\n",
       "      <td>180921.195890</td>\n",
       "    </tr>\n",
       "    <tr>\n",
       "      <th>std</th>\n",
       "      <td>421.610009</td>\n",
       "      <td>42.300571</td>\n",
       "      <td>24.284752</td>\n",
       "      <td>9981.264932</td>\n",
       "      <td>1.382997</td>\n",
       "      <td>1.112799</td>\n",
       "      <td>30.202904</td>\n",
       "      <td>20.645407</td>\n",
       "      <td>181.066207</td>\n",
       "      <td>456.098091</td>\n",
       "      <td>...</td>\n",
       "      <td>125.338794</td>\n",
       "      <td>66.256028</td>\n",
       "      <td>61.119149</td>\n",
       "      <td>29.317331</td>\n",
       "      <td>55.757415</td>\n",
       "      <td>40.177307</td>\n",
       "      <td>496.123024</td>\n",
       "      <td>2.703626</td>\n",
       "      <td>1.328095</td>\n",
       "      <td>79442.502883</td>\n",
       "    </tr>\n",
       "    <tr>\n",
       "      <th>min</th>\n",
       "      <td>1.000000</td>\n",
       "      <td>20.000000</td>\n",
       "      <td>21.000000</td>\n",
       "      <td>1300.000000</td>\n",
       "      <td>1.000000</td>\n",
       "      <td>1.000000</td>\n",
       "      <td>1872.000000</td>\n",
       "      <td>1950.000000</td>\n",
       "      <td>0.000000</td>\n",
       "      <td>0.000000</td>\n",
       "      <td>...</td>\n",
       "      <td>0.000000</td>\n",
       "      <td>0.000000</td>\n",
       "      <td>0.000000</td>\n",
       "      <td>0.000000</td>\n",
       "      <td>0.000000</td>\n",
       "      <td>0.000000</td>\n",
       "      <td>0.000000</td>\n",
       "      <td>1.000000</td>\n",
       "      <td>2006.000000</td>\n",
       "      <td>34900.000000</td>\n",
       "    </tr>\n",
       "    <tr>\n",
       "      <th>25%</th>\n",
       "      <td>365.750000</td>\n",
       "      <td>20.000000</td>\n",
       "      <td>59.000000</td>\n",
       "      <td>7553.500000</td>\n",
       "      <td>5.000000</td>\n",
       "      <td>5.000000</td>\n",
       "      <td>1954.000000</td>\n",
       "      <td>1967.000000</td>\n",
       "      <td>0.000000</td>\n",
       "      <td>0.000000</td>\n",
       "      <td>...</td>\n",
       "      <td>0.000000</td>\n",
       "      <td>0.000000</td>\n",
       "      <td>0.000000</td>\n",
       "      <td>0.000000</td>\n",
       "      <td>0.000000</td>\n",
       "      <td>0.000000</td>\n",
       "      <td>0.000000</td>\n",
       "      <td>5.000000</td>\n",
       "      <td>2007.000000</td>\n",
       "      <td>129975.000000</td>\n",
       "    </tr>\n",
       "    <tr>\n",
       "      <th>50%</th>\n",
       "      <td>730.500000</td>\n",
       "      <td>50.000000</td>\n",
       "      <td>69.000000</td>\n",
       "      <td>9478.500000</td>\n",
       "      <td>6.000000</td>\n",
       "      <td>5.000000</td>\n",
       "      <td>1973.000000</td>\n",
       "      <td>1994.000000</td>\n",
       "      <td>0.000000</td>\n",
       "      <td>383.500000</td>\n",
       "      <td>...</td>\n",
       "      <td>0.000000</td>\n",
       "      <td>25.000000</td>\n",
       "      <td>0.000000</td>\n",
       "      <td>0.000000</td>\n",
       "      <td>0.000000</td>\n",
       "      <td>0.000000</td>\n",
       "      <td>0.000000</td>\n",
       "      <td>6.000000</td>\n",
       "      <td>2008.000000</td>\n",
       "      <td>163000.000000</td>\n",
       "    </tr>\n",
       "    <tr>\n",
       "      <th>75%</th>\n",
       "      <td>1095.250000</td>\n",
       "      <td>70.000000</td>\n",
       "      <td>80.000000</td>\n",
       "      <td>11601.500000</td>\n",
       "      <td>7.000000</td>\n",
       "      <td>6.000000</td>\n",
       "      <td>2000.000000</td>\n",
       "      <td>2004.000000</td>\n",
       "      <td>166.000000</td>\n",
       "      <td>712.250000</td>\n",
       "      <td>...</td>\n",
       "      <td>168.000000</td>\n",
       "      <td>68.000000</td>\n",
       "      <td>0.000000</td>\n",
       "      <td>0.000000</td>\n",
       "      <td>0.000000</td>\n",
       "      <td>0.000000</td>\n",
       "      <td>0.000000</td>\n",
       "      <td>8.000000</td>\n",
       "      <td>2009.000000</td>\n",
       "      <td>214000.000000</td>\n",
       "    </tr>\n",
       "    <tr>\n",
       "      <th>max</th>\n",
       "      <td>1460.000000</td>\n",
       "      <td>190.000000</td>\n",
       "      <td>313.000000</td>\n",
       "      <td>215245.000000</td>\n",
       "      <td>10.000000</td>\n",
       "      <td>9.000000</td>\n",
       "      <td>2010.000000</td>\n",
       "      <td>2010.000000</td>\n",
       "      <td>1600.000000</td>\n",
       "      <td>5644.000000</td>\n",
       "      <td>...</td>\n",
       "      <td>857.000000</td>\n",
       "      <td>547.000000</td>\n",
       "      <td>552.000000</td>\n",
       "      <td>508.000000</td>\n",
       "      <td>480.000000</td>\n",
       "      <td>738.000000</td>\n",
       "      <td>15500.000000</td>\n",
       "      <td>12.000000</td>\n",
       "      <td>2010.000000</td>\n",
       "      <td>755000.000000</td>\n",
       "    </tr>\n",
       "  </tbody>\n",
       "</table>\n",
       "<p>8 rows × 38 columns</p>\n",
       "</div>"
      ],
      "text/plain": [
       "                Id   MSSubClass  LotFrontage        LotArea  OverallQual  \\\n",
       "count  1460.000000  1460.000000  1201.000000    1460.000000  1460.000000   \n",
       "mean    730.500000    56.897260    70.049958   10516.828082     6.099315   \n",
       "std     421.610009    42.300571    24.284752    9981.264932     1.382997   \n",
       "min       1.000000    20.000000    21.000000    1300.000000     1.000000   \n",
       "25%     365.750000    20.000000    59.000000    7553.500000     5.000000   \n",
       "50%     730.500000    50.000000    69.000000    9478.500000     6.000000   \n",
       "75%    1095.250000    70.000000    80.000000   11601.500000     7.000000   \n",
       "max    1460.000000   190.000000   313.000000  215245.000000    10.000000   \n",
       "\n",
       "       OverallCond    YearBuilt  YearRemodAdd   MasVnrArea   BsmtFinSF1  \\\n",
       "count  1460.000000  1460.000000   1460.000000  1452.000000  1460.000000   \n",
       "mean      5.575342  1971.267808   1984.865753   103.685262   443.639726   \n",
       "std       1.112799    30.202904     20.645407   181.066207   456.098091   \n",
       "min       1.000000  1872.000000   1950.000000     0.000000     0.000000   \n",
       "25%       5.000000  1954.000000   1967.000000     0.000000     0.000000   \n",
       "50%       5.000000  1973.000000   1994.000000     0.000000   383.500000   \n",
       "75%       6.000000  2000.000000   2004.000000   166.000000   712.250000   \n",
       "max       9.000000  2010.000000   2010.000000  1600.000000  5644.000000   \n",
       "\n",
       "           ...         WoodDeckSF  OpenPorchSF  EnclosedPorch    3SsnPorch  \\\n",
       "count      ...        1460.000000  1460.000000    1460.000000  1460.000000   \n",
       "mean       ...          94.244521    46.660274      21.954110     3.409589   \n",
       "std        ...         125.338794    66.256028      61.119149    29.317331   \n",
       "min        ...           0.000000     0.000000       0.000000     0.000000   \n",
       "25%        ...           0.000000     0.000000       0.000000     0.000000   \n",
       "50%        ...           0.000000    25.000000       0.000000     0.000000   \n",
       "75%        ...         168.000000    68.000000       0.000000     0.000000   \n",
       "max        ...         857.000000   547.000000     552.000000   508.000000   \n",
       "\n",
       "       ScreenPorch     PoolArea       MiscVal       MoSold       YrSold  \\\n",
       "count  1460.000000  1460.000000   1460.000000  1460.000000  1460.000000   \n",
       "mean     15.060959     2.758904     43.489041     6.321918  2007.815753   \n",
       "std      55.757415    40.177307    496.123024     2.703626     1.328095   \n",
       "min       0.000000     0.000000      0.000000     1.000000  2006.000000   \n",
       "25%       0.000000     0.000000      0.000000     5.000000  2007.000000   \n",
       "50%       0.000000     0.000000      0.000000     6.000000  2008.000000   \n",
       "75%       0.000000     0.000000      0.000000     8.000000  2009.000000   \n",
       "max     480.000000   738.000000  15500.000000    12.000000  2010.000000   \n",
       "\n",
       "           SalePrice  \n",
       "count    1460.000000  \n",
       "mean   180921.195890  \n",
       "std     79442.502883  \n",
       "min     34900.000000  \n",
       "25%    129975.000000  \n",
       "50%    163000.000000  \n",
       "75%    214000.000000  \n",
       "max    755000.000000  \n",
       "\n",
       "[8 rows x 38 columns]"
      ]
     },
     "execution_count": 5,
     "metadata": {},
     "output_type": "execute_result"
    }
   ],
   "source": [
    "housing.describe()"
   ]
  },
  {
   "cell_type": "markdown",
   "metadata": {},
   "source": [
    "We also want to probe for correlations between the numerical attributes and the target:"
   ]
  },
  {
   "cell_type": "code",
   "execution_count": 6,
   "metadata": {},
   "outputs": [
    {
     "data": {
      "text/plain": [
       "SalePrice        1.000000\n",
       "OverallQual      0.790982\n",
       "GrLivArea        0.708624\n",
       "GarageCars       0.640409\n",
       "GarageArea       0.623431\n",
       "TotalBsmtSF      0.613581\n",
       "1stFlrSF         0.605852\n",
       "FullBath         0.560664\n",
       "TotRmsAbvGrd     0.533723\n",
       "YearBuilt        0.522897\n",
       "YearRemodAdd     0.507101\n",
       "GarageYrBlt      0.486362\n",
       "MasVnrArea       0.477493\n",
       "Fireplaces       0.466929\n",
       "BsmtFinSF1       0.386420\n",
       "LotFrontage      0.351799\n",
       "WoodDeckSF       0.324413\n",
       "2ndFlrSF         0.319334\n",
       "OpenPorchSF      0.315856\n",
       "HalfBath         0.284108\n",
       "LotArea          0.263843\n",
       "BsmtFullBath     0.227122\n",
       "BsmtUnfSF        0.214479\n",
       "BedroomAbvGr     0.168213\n",
       "ScreenPorch      0.111447\n",
       "PoolArea         0.092404\n",
       "MoSold           0.046432\n",
       "3SsnPorch        0.044584\n",
       "BsmtFinSF2      -0.011378\n",
       "BsmtHalfBath    -0.016844\n",
       "MiscVal         -0.021190\n",
       "Id              -0.021917\n",
       "LowQualFinSF    -0.025606\n",
       "YrSold          -0.028923\n",
       "OverallCond     -0.077856\n",
       "MSSubClass      -0.084284\n",
       "EnclosedPorch   -0.128578\n",
       "KitchenAbvGr    -0.135907\n",
       "Name: SalePrice, dtype: float64"
      ]
     },
     "execution_count": 6,
     "metadata": {},
     "output_type": "execute_result"
    }
   ],
   "source": [
    "corr_matrix = housing.corr()\n",
    "corr_matrix['SalePrice'].sort_values(ascending=False)"
   ]
  },
  {
   "cell_type": "code",
   "execution_count": 7,
   "metadata": {},
   "outputs": [
    {
     "data": {
      "text/plain": [
       "2009    338\n",
       "2007    329\n",
       "2006    314\n",
       "2008    304\n",
       "2010    175\n",
       "Name: YrSold, dtype: int64"
      ]
     },
     "execution_count": 7,
     "metadata": {},
     "output_type": "execute_result"
    }
   ],
   "source": [
    "housing[\"YrSold\"].value_counts()"
   ]
  },
  {
   "cell_type": "markdown",
   "metadata": {},
   "source": [
    "We can see that there are some attributes that have a strong correlation with our target attribute, the Sale Price. Let's check the scatter matrix:"
   ]
  },
  {
   "cell_type": "code",
   "execution_count": 8,
   "metadata": {},
   "outputs": [
    {
     "name": "stderr",
     "output_type": "stream",
     "text": [
      "C:\\Users\\Caio\\Anaconda3\\lib\\site-packages\\ipykernel_launcher.py:3: FutureWarning: 'pandas.tools.plotting.scatter_matrix' is deprecated, import 'pandas.plotting.scatter_matrix' instead.\n",
      "  This is separate from the ipykernel package so we can avoid doing imports until\n"
     ]
    },
    {
     "data": {
      "image/png": "[encoded data removed]",
      "text/plain": [
       "<matplotlib.figure.Figure at 0x194502f5cc0>"
      ]
     },
     "metadata": {},
     "output_type": "display_data"
    }
   ],
   "source": [
    "from pandas.tools.plotting import scatter_matrix\n",
    "attributes = ['OverallQual','GrLivArea','GarageCars','GarageArea','TotalBsmtSF','SalePrice']\n",
    "scatter_matrix(housing[attributes],figsize=(12,8))\n",
    "plt.show()"
   ]
  },
  {
   "cell_type": "markdown",
   "metadata": {},
   "source": [
    "Before we proceed, I will train some models with the current numerical attributes only and see how well they perform. First I make a copy of the training set and then I drop the categorical columns:"
   ]
  },
  {
   "cell_type": "code",
   "execution_count": 9,
   "metadata": {
    "collapsed": true
   },
   "outputs": [],
   "source": [
    "housing_num = housing.copy() #creates a copy of the training dataset"
   ]
  },
  {
   "cell_type": "code",
   "execution_count": 10,
   "metadata": {
    "collapsed": true
   },
   "outputs": [],
   "source": [
    "allcol = housing_num.columns\n",
    "num = housing_num._get_numeric_data().columns\n",
    "cat = list(set(allcol) - set(num)) #got a list of names with all categorical attributes"
   ]
  },
  {
   "cell_type": "code",
   "execution_count": 11,
   "metadata": {},
   "outputs": [
    {
     "data": {
      "text/plain": [
       "38"
      ]
     },
     "execution_count": 11,
     "metadata": {},
     "output_type": "execute_result"
    }
   ],
   "source": [
    "housing_num = housing_num.drop(cat, axis=1) #finally the number of attributes in this dataset is now 38, the number of numerical attributes in the original dataset\n",
    "housing_num.columns.size"
   ]
  },
  {
   "cell_type": "markdown",
   "metadata": {},
   "source": [
    "We now split the predictor and target attributes: "
   ]
  },
  {
   "cell_type": "code",
   "execution_count": 12,
   "metadata": {
    "collapsed": true
   },
   "outputs": [],
   "source": [
    "housing_labels = housing_num['SalePrice'].copy()\n",
    "housing_num = housing_num.drop('SalePrice', axis=1)"
   ]
  },
  {
   "cell_type": "markdown",
   "metadata": {},
   "source": [
    "Here we import the models we will employ as well as cost/score functions:"
   ]
  },
  {
   "cell_type": "code",
   "execution_count": 13,
   "metadata": {
    "collapsed": true
   },
   "outputs": [],
   "source": [
    "from sklearn.linear_model import LinearRegression\n",
    "from sklearn.metrics import mean_squared_error\n",
    "from sklearn.tree import DecisionTreeRegressor\n",
    "from sklearn.ensemble import RandomForestRegressor\n",
    "from sklearn.model_selection import cross_val_score\n",
    "from sklearn.svm import SVR\n",
    "from sklearn.pipeline import Pipeline\n",
    "from sklearn.preprocessing import Imputer\n",
    "from sklearn.preprocessing import StandardScaler\n",
    "from sklearn.preprocessing import LabelBinarizer\n",
    "from sklearn.pipeline import FeatureUnion"
   ]
  },
  {
   "cell_type": "code",
   "execution_count": 14,
   "metadata": {},
   "outputs": [
    {
     "data": {
      "text/plain": [
       "Imputer(axis=0, copy=True, missing_values='NaN', strategy='median', verbose=0)"
      ]
     },
     "execution_count": 14,
     "metadata": {},
     "output_type": "execute_result"
    }
   ],
   "source": [
    "imputer = Imputer(strategy='median')\n",
    "imputer.fit(housing_num)"
   ]
  },
  {
   "cell_type": "code",
   "execution_count": 15,
   "metadata": {
    "collapsed": true
   },
   "outputs": [],
   "source": [
    "X = imputer.transform(housing_num)\n",
    "housing_num_df = pd.DataFrame(X, columns=housing_num.columns)"
   ]
  },
  {
   "cell_type": "markdown",
   "metadata": {},
   "source": [
    "We now transform the DataFrames in numpy arrays:"
   ]
  },
  {
   "cell_type": "code",
   "execution_count": 16,
   "metadata": {
    "collapsed": true
   },
   "outputs": [],
   "source": [
    "housing_prep = housing_num_df.values\n",
    "housing_prep_labels = housing_labels.values.reshape(-1,1)"
   ]
  },
  {
   "cell_type": "code",
   "execution_count": 17,
   "metadata": {},
   "outputs": [
    {
     "data": {
      "text/plain": [
       "LinearRegression(copy_X=True, fit_intercept=True, n_jobs=1, normalize=False)"
      ]
     },
     "execution_count": 17,
     "metadata": {},
     "output_type": "execute_result"
    }
   ],
   "source": [
    "lin_reg = LinearRegression()\n",
    "lin_reg.fit(housing_prep,housing_prep_labels)"
   ]
  },
  {
   "cell_type": "code",
   "execution_count": 18,
   "metadata": {
    "collapsed": true
   },
   "outputs": [],
   "source": [
    "scores = cross_val_score(lin_reg, housing_prep,housing_prep_labels,scoring = 'neg_mean_squared_error', cv=10)\n",
    "lin_reg_rmse_scores = np.sqrt(-scores)"
   ]
  },
  {
   "cell_type": "code",
   "execution_count": 19,
   "metadata": {
    "collapsed": true
   },
   "outputs": [],
   "source": [
    "def display_scores(scores):\n",
    "    print(\"Scores:\", scores)\n",
    "    print(\"Mean:\", scores.mean())\n",
    "    print(\"Standard Deviation:\", scores.std())"
   ]
  },
  {
   "cell_type": "code",
   "execution_count": 20,
   "metadata": {},
   "outputs": [
    {
     "name": "stdout",
     "output_type": "stream",
     "text": [
      "Scores: [ 27938.70342533  29960.39193438  26808.21834256  41727.46299053\n",
      "  40034.96054643  31646.32284844  30271.83195023  30207.22082169\n",
      "  63969.97253671  29106.23354987]\n",
      "Mean: 35167.1318946\n",
      "Standard Deviation: 10692.3540361\n"
     ]
    }
   ],
   "source": [
    "display_scores(lin_reg_rmse_scores)"
   ]
  },
  {
   "cell_type": "markdown",
   "metadata": {},
   "source": [
    "There seems to be some models that are performing really poorly (take a look at the second last model!), so we will shuffle the instances and see if we can reduce this problem:"
   ]
  },
  {
   "cell_type": "code",
   "execution_count": 21,
   "metadata": {},
   "outputs": [
    {
     "data": {
      "text/plain": [
       "LinearRegression(copy_X=True, fit_intercept=True, n_jobs=1, normalize=False)"
      ]
     },
     "execution_count": 21,
     "metadata": {},
     "output_type": "execute_result"
    }
   ],
   "source": [
    "np.random.seed(42)\n",
    "shuffle_indexes = np.random.permutation(len(housing_prep_labels))\n",
    "shuf_housing_prep, shuf_housing_labels = housing_prep[shuffle_indexes], housing_prep_labels[shuffle_indexes]\n",
    "lin_reg.fit(shuf_housing_prep,shuf_housing_labels)"
   ]
  },
  {
   "cell_type": "code",
   "execution_count": 22,
   "metadata": {
    "scrolled": true
   },
   "outputs": [
    {
     "name": "stdout",
     "output_type": "stream",
     "text": [
      "Scores: [ 39794.30830061  33917.81092214  28313.55011681  40905.68654548\n",
      "  43686.70598824  63113.61068372  35371.60276011  24730.97263329\n",
      "  26990.71630119  24722.23280281]\n",
      "Mean: 36154.7197054\n",
      "Standard Deviation: 11097.8132851\n"
     ]
    }
   ],
   "source": [
    "scores = cross_val_score(lin_reg, shuf_housing_prep,shuf_housing_labels,scoring = 'neg_mean_squared_error', cv=10)\n",
    "shuf_lin_reg_rmse_scores = np.sqrt(-scores)\n",
    "display_scores(shuf_lin_reg_rmse_scores)"
   ]
  },
  {
   "cell_type": "markdown",
   "metadata": {},
   "source": [
    "Well, its seems it actually got worse! Let's try other models!"
   ]
  },
  {
   "cell_type": "code",
   "execution_count": 23,
   "metadata": {},
   "outputs": [
    {
     "name": "stdout",
     "output_type": "stream",
     "text": [
      "Scores: [ 34200.28588691  40775.10365172  38022.42262662  67537.22568444\n",
      "  39936.73205577  38383.9066322   43303.59963596  42883.39383445\n",
      "  33341.76424772  35866.19038156]\n",
      "Mean: 41425.0624637\n",
      "Standard Deviation: 9270.39927043\n"
     ]
    }
   ],
   "source": [
    "# A descision tree model!\n",
    "tree_reg = DecisionTreeRegressor()\n",
    "tree_reg.fit(shuf_housing_prep,shuf_housing_labels)\n",
    "scores = cross_val_score(tree_reg, shuf_housing_prep,shuf_housing_labels,scoring = 'neg_mean_squared_error', cv=10)\n",
    "tree_reg_rmse_scores = np.sqrt(-scores)\n",
    "display_scores(tree_reg_rmse_scores)"
   ]
  },
  {
   "cell_type": "code",
   "execution_count": 24,
   "metadata": {
    "scrolled": true
   },
   "outputs": [
    {
     "name": "stdout",
     "output_type": "stream",
     "text": [
      "Scores: [ 30387.2907782   30635.54292113  21337.81324145  34273.24862584\n",
      "  43260.17871855  41109.74120878  33514.6652352   28288.00250258\n",
      "  27067.42698637  23169.13764816]\n",
      "Mean: 31304.3047866\n",
      "Standard Deviation: 6683.10626817\n"
     ]
    }
   ],
   "source": [
    "# A random forest regressor model!\n",
    "forest_reg = RandomForestRegressor()\n",
    "forest_reg.fit(shuf_housing_prep,shuf_housing_labels.ravel())\n",
    "scores = cross_val_score(forest_reg, shuf_housing_prep,shuf_housing_labels.ravel(),scoring = 'neg_mean_squared_error', cv=10)\n",
    "forest_reg_rmse_scores = np.sqrt(-scores)\n",
    "display_scores(forest_reg_rmse_scores)"
   ]
  },
  {
   "cell_type": "code",
   "execution_count": 25,
   "metadata": {
    "scrolled": false
   },
   "outputs": [
    {
     "name": "stdout",
     "output_type": "stream",
     "text": [
      "Scores: [ 97334.84883458  79300.11610582  77198.69635692  93286.31166699\n",
      "  75192.36968867  77971.72380474  85848.55674982  75439.73688012\n",
      "  73211.44293564  75355.1379786 ]\n",
      "Mean: 81013.8941002\n",
      "Standard Deviation: 7905.49472493\n"
     ]
    }
   ],
   "source": [
    "# A support vector machine regressor model!\n",
    "svm_reg = SVR()\n",
    "svm_reg.fit(shuf_housing_prep,shuf_housing_labels.ravel())\n",
    "scores = cross_val_score(svm_reg, shuf_housing_prep,shuf_housing_labels.ravel(),scoring = 'neg_mean_squared_error', cv=10)\n",
    "svm_reg_rmse_scores = np.sqrt(-scores)\n",
    "display_scores(svm_reg_rmse_scores)"
   ]
  },
  {
   "cell_type": "markdown",
   "metadata": {},
   "source": [
    "It seems the best method for the numerical part of the dataset is the random forest regressor. Aside from filling the numerical attributes with the median, we haven't performed any sort of cleaning nor manipulation. So let's do just that! And in order to make everything easier we will place these transformations on our pipeline. "
   ]
  },
  {
   "cell_type": "markdown",
   "metadata": {},
   "source": [
    "\n",
    "\n",
    "\n",
    "\n",
    "\n",
    "# Second part starts here\n",
    "\n",
    "\n",
    "\n",
    "\n"
   ]
  },
  {
   "cell_type": "markdown",
   "metadata": {},
   "source": [
    "Let's make a copy of our training set:"
   ]
  },
  {
   "cell_type": "code",
   "execution_count": 26,
   "metadata": {
    "collapsed": true
   },
   "outputs": [],
   "source": [
    "housing2 = housing.copy()"
   ]
  },
  {
   "cell_type": "markdown",
   "metadata": {},
   "source": [
    "Regarding the categorical attributes, there are basically two groups the ones which have categories that are basically grading that feature and the ones which don't. Therefore we have 3 different groups of attributes: numerical, 'grading' categorical and 'descriptive' categorical. Each group has to be treated separately:"
   ]
  },
  {
   "cell_type": "code",
   "execution_count": 107,
   "metadata": {
    "scrolled": true
   },
   "outputs": [
    {
     "name": "stdout",
     "output_type": "stream",
     "text": [
      "['Fence', 'ExterCond', 'PoolQC', 'ExterQual', 'Functional', 'Street', 'BsmtFinType1', 'GarageQual', 'BsmtCond', 'Utilities', 'LandSlope', 'BsmtQual', 'BsmtFinType2', 'BsmtExposure', 'PavedDrive', 'CentralAir', 'GarageCond', 'HeatingQC', 'FireplaceQu'] ['Street', 'Utilities', 'LandSlope', 'ExterQual', 'ExterCond', 'BsmtQual', 'BsmtCond', 'BsmtExposure', 'BsmtFinType1', 'BsmtFinType2', 'HeatingQC', 'CentralAir', 'Functional', 'FireplaceQu', 'GarageQual', 'GarageCond', 'PavedDrive', 'PoolQC', 'Fence'] ['SaleType', 'MSZoning', 'GarageFinish', 'KitchenQual', 'Condition2', 'GarageType', 'Neighborhood', 'LandContour', 'HouseStyle', 'LotConfig', 'RoofMatl', 'Condition1', 'Heating', 'Alley', 'Exterior1st', 'RoofStyle', 'Electrical', 'SaleCondition', 'MiscFeature', 'Foundation', 'Exterior2nd', 'MasVnrType', 'LotShape', 'BldgType']\n"
     ]
    }
   ],
   "source": [
    "grading_attributes = ['Street','Utilities','LandSlope','ExterQual','ExterCond','BsmtQual','BsmtCond','BsmtExposure','BsmtFinType1','BsmtFinType2','HeatingQC','CentralAir','Functional','FireplaceQu','GarageQual','GarageCond','PavedDrive','PoolQC','Fence']\n",
    "desc_attributes = list(set(cat)-set(grading_attributes))\n",
    "num = list(set(num)-set(['SalePrice']))\n",
    "print(num, grading_attributes,desc_attributes)"
   ]
  },
  {
   "cell_type": "markdown",
   "metadata": {},
   "source": [
    "Next, we set out to create a list of lists, where each one of the lists contains the values that are present in the columns. This will be important later on to assign numerical grades instead of words such as 'Excelent' or 'Poor'. This point will be made clear later on:"
   ]
  },
  {
   "cell_type": "code",
   "execution_count": 28,
   "metadata": {},
   "outputs": [
    {
     "name": "stdout",
     "output_type": "stream",
     "text": [
      "[['Pave', 'Grvl'], ['AllPub', 'NoSeWa'], ['Gtl', 'Mod', 'Sev'], ['Gd', 'TA', 'Ex', 'Fa'], ['TA', 'Gd', 'Fa', 'Po', 'Ex'], ['Gd', 'TA', 'Ex', nan, 'Fa'], ['TA', 'Gd', nan, 'Fa', 'Po'], ['No', 'Gd', 'Mn', 'Av', nan], ['GLQ', 'ALQ', 'Unf', 'Rec', 'BLQ', nan, 'LwQ'], ['Unf', 'BLQ', nan, 'ALQ', 'Rec', 'LwQ', 'GLQ'], ['Ex', 'Gd', 'TA', 'Fa', 'Po'], ['Y', 'N'], ['Typ', 'Min1', 'Maj1', 'Min2', 'Mod', 'Maj2', 'Sev'], [nan, 'TA', 'Gd', 'Fa', 'Ex', 'Po'], ['TA', 'Fa', 'Gd', nan, 'Ex', 'Po'], ['TA', 'Fa', nan, 'Gd', 'Po', 'Ex'], ['Y', 'N', 'P'], [nan, 'Ex', 'Fa', 'Gd'], [nan, 'MnPrv', 'GdWo', 'GdPrv', 'MnWw']]\n"
     ]
    }
   ],
   "source": [
    "grdattr_grades = []\n",
    "for el in grading_attributes:\n",
    "    grdattr_grades += [list(housing2[el].unique())]\n",
    "print(grdattr_grades)"
   ]
  },
  {
   "cell_type": "markdown",
   "metadata": {},
   "source": [
    "We then modify the list generated including the missing values which were not present in the columns but that appear in the description file, and we also modify the order of the values so that values that represent the best grades get the higher indices and the values that are associated with poor quality get bad grades. We did this manually since the number of attributes is not very large, but a better approach would be to read the description file and create this list directly from the values that are present there."
   ]
  },
  {
   "cell_type": "code",
   "execution_count": 29,
   "metadata": {
    "collapsed": true
   },
   "outputs": [],
   "source": [
    "grdattr_grades = [['Grvl', 'Pave'], ['ELO', 'NoSeWa', 'NoSewr', 'AllPub'], ['Sev','Mod', 'Gtl'], ['Po','Fa', 'TA', 'Gd', 'Ex'], ['Po','Fa', 'TA', 'Gd', 'Ex'], ['NA',\"Po\",\"Fa\",\"TA\",\"Gd\",\"Ex\"], ['NA',\"Po\",\"Fa\",\"TA\",\"Gd\",\"Ex\"], ['NA', 'No', 'Mn', 'Av', 'Gd'], ['NA', 'Unf', 'Rec', 'LwQ', 'BLQ', 'ALQ', 'GLQ'], ['NA', 'Unf', 'Rec', 'LwQ', 'BLQ', 'ALQ', 'GLQ'], ['Po','Fa', 'TA', 'Gd', 'Ex'], ['N', 'Y'], ['Sal', 'Sev', 'Maj2', 'Maj1', 'Mod', 'Min2', 'Min1', 'Typ'], ['NA',\"Po\",\"Fa\",\"TA\",\"Gd\",\"Ex\"], ['NA',\"Po\",\"Fa\",\"TA\",\"Gd\",\"Ex\"], ['NA',\"Po\",\"Fa\",\"TA\",\"Gd\",\"Ex\"], ['N', 'P', 'Y'], ['NA', 'Fa', 'TA', 'Gd', 'Ex'], ['NA', 'MnWw', 'GdWo',  'MnPrv', 'GdPrv']]"
   ]
  },
  {
   "cell_type": "markdown",
   "metadata": {},
   "source": [
    "Now that we've settled this, we will create three different pipelines for each one of those groups to make it easier the cleaning and transformation of our dataset. This will make part of the finetuning much easier later on. But, first, we will create a transformation which will allow us to select the attributes we want and return a numpy array. We will create it in a way as to make it fully compatible with the pipeline module from scikitlearn:"
   ]
  },
  {
   "cell_type": "code",
   "execution_count": 30,
   "metadata": {
    "collapsed": true
   },
   "outputs": [],
   "source": [
    "from sklearn.base import TransformerMixin, BaseEstimator\n",
    "\n",
    "class Selector(BaseEstimator, TransformerMixin):\n",
    "    def __init__(self,attribute_names):\n",
    "        self.attribute_names = attribute_names\n",
    "    def fit(self, DF, y=None):\n",
    "        return self\n",
    "    def transform(self, DF):\n",
    "        return DF[self.attribute_names].values"
   ]
  },
  {
   "cell_type": "markdown",
   "metadata": {},
   "source": [
    "We will also create two important categorical classes that will allow us to deal with the categorical attributes more efficiently:"
   ]
  },
  {
   "cell_type": "code",
   "execution_count": 64,
   "metadata": {
    "collapsed": true
   },
   "outputs": [],
   "source": [
    "#allows us to fill all NaN categorical values with any text we want. Default = 'NA'\n",
    "class FillCatNaN(BaseEstimator,TransformerMixin):\n",
    "    def __init__(self,attribute_names,txt='NA'):\n",
    "        self.attribute_names = attribute_names\n",
    "        self.txt = txt\n",
    "    def fit(self, DF, y=None):\n",
    "        return self\n",
    "    def transform(self, DF):\n",
    "        for attr in self.attribute_names:\n",
    "            DF[attr].fillna(self.txt, inplace=True)\n",
    "        return DF\n",
    "\n",
    "#this class allows us to assign an integer value based on the string grade. For instance, 'Ex' = 5, 'TA'=3, 'Po'=1 and so on. \n",
    "#the higher the value, the better condition of the house is.\n",
    "class ChangeGrdTxtToNum(BaseEstimator,TransformerMixin):\n",
    "    def __init__(self,attribute_names,attribute_values):\n",
    "        self.attribute_names = attribute_names\n",
    "        self.attribute_values = attribute_values\n",
    "    def fit(self,DF,y=None):\n",
    "        return self\n",
    "    def transform(self, DF):\n",
    "        for i, attr in enumerate(self.attribute_names):\n",
    "            DF[attr] = DF[attr].apply(lambda x : self.attribute_values[i].index(x))\n",
    "        return DF\n",
    "    \n",
    "#this class creates a multicolumn label binarizer. this is important because the label binarizer that comes with scikit learn\n",
    "#only takes 1d arrays\n",
    "class MultiColumnLabelBinarizer(BaseEstimator,TransformerMixin):\n",
    "    def __init__(self,attribute_names):\n",
    "        self.attribute_names = attribute_names\n",
    "    def fit(self,DSET,y=None):\n",
    "        return self\n",
    "    def transform(self, DSET):\n",
    "        lb = LabelBinarizer()\n",
    "        lb.fit(DSET[:,0])\n",
    "        TRANSFMSET = lb.transform(DSET[:,0]) \n",
    "        for i, _ in enumerate(DSET[1,1:]):\n",
    "            lb.fit(DSET[:,i+1])\n",
    "            TEMP = lb.transform(DSET[:,i+1])\n",
    "            TRANSFMSET = np.column_stack((TRANSFMSET,TEMP))\n",
    "        return TRANSFMSET"
   ]
  },
  {
   "cell_type": "code",
   "execution_count": 87,
   "metadata": {
    "collapsed": true
   },
   "outputs": [],
   "source": [
    "num_pipeline = Pipeline([\n",
    "        ('selector', Selector(num)),\n",
    "        ('imputer', Imputer(strategy='median')),\n",
    "        ('std_scaler', StandardScaler()),\n",
    "])\n",
    "\n",
    "grading_cat_pipeline = Pipeline([\n",
    "        ('fillcat', FillCatNaN(grading_attributes)),\n",
    "        ('txttonum', ChangeGrdTxtToNum(grading_attributes,grdattr_grades)),\n",
    "        ('selector', Selector(grading_attributes)),\n",
    "])\n",
    "\n",
    "desc_cat_pipeline = Pipeline([\n",
    "        ('fillcat', FillCatNaN(desc_attributes)),\n",
    "        ('selector', Selector(desc_attributes)),\n",
    "        ('label_binarizer', MultiColumnLabelBinarizer(desc_attributes)),\n",
    "])\n",
    "\n",
    "full_pipeline = FeatureUnion(transformer_list = [\n",
    "        ('num_pipeline', num_pipeline),\n",
    "        ('grading_cat_pipeline', grading_cat_pipeline),\n",
    "        ('desc_cat_pipeline', desc_cat_pipeline),\n",
    "])"
   ]
  },
  {
   "cell_type": "markdown",
   "metadata": {},
   "source": [
    "After creating the full transformation pipeline, we apply it to our dataset and subsequently check how the models we previously tried performed:"
   ]
  },
  {
   "cell_type": "code",
   "execution_count": 133,
   "metadata": {
    "scrolled": true
   },
   "outputs": [
    {
     "name": "stdout",
     "output_type": "stream",
     "text": [
      "['BsmtFinSF1', 'BsmtUnfSF', 'Id', 'BsmtFinSF2', 'KitchenAbvGr', 'GarageArea', 'GarageYrBlt', 'LotFrontage', 'BsmtHalfBath', 'LotArea', '1stFlrSF', 'BsmtFullBath', 'ScreenPorch', 'GrLivArea', 'MoSold', '2ndFlrSF', 'GarageCars', 'YrSold', 'TotalBsmtSF', 'YearBuilt', 'PoolArea', 'FullBath', 'EnclosedPorch', 'WoodDeckSF', '3SsnPorch', 'LowQualFinSF', 'OpenPorchSF', 'MiscVal', 'TotRmsAbvGrd', 'BedroomAbvGr', 'OverallCond', 'OverallQual', 'YearRemodAdd', 'MasVnrArea', 'HalfBath', 'MSSubClass', 'Fireplaces'] ['Street', 'Utilities', 'LandSlope', 'ExterQual', 'ExterCond', 'BsmtQual', 'BsmtCond', 'BsmtExposure', 'BsmtFinType1', 'BsmtFinType2', 'HeatingQC', 'CentralAir', 'Functional', 'FireplaceQu', 'GarageQual', 'GarageCond', 'PavedDrive', 'PoolQC', 'Fence'] ['SaleType', 'MSZoning', 'GarageFinish', 'KitchenQual', 'Condition2', 'GarageType', 'Neighborhood', 'LandContour', 'HouseStyle', 'LotConfig', 'RoofMatl', 'Condition1', 'Heating', 'Alley', 'Exterior1st', 'RoofStyle', 'Electrical', 'SaleCondition', 'MiscFeature', 'Foundation', 'Exterior2nd', 'MasVnrType', 'LotShape', 'BldgType']\n"
     ]
    }
   ],
   "source": [
    "num = housing._get_numeric_data().columns\n",
    "grading_attributes = ['Street','Utilities','LandSlope','ExterQual','ExterCond','BsmtQual','BsmtCond','BsmtExposure','BsmtFinType1','BsmtFinType2','HeatingQC','CentralAir','Functional','FireplaceQu','GarageQual','GarageCond','PavedDrive','PoolQC','Fence']\n",
    "desc_attributes = list(set(cat)-set(grading_attributes))\n",
    "num = list(set(num)-set(['SalePrice']))\n",
    "print(num, grading_attributes,desc_attributes)"
   ]
  },
  {
   "cell_type": "code",
   "execution_count": 134,
   "metadata": {},
   "outputs": [
    {
     "data": {
      "text/plain": [
       "(1460, 235)"
      ]
     },
     "execution_count": 134,
     "metadata": {},
     "output_type": "execute_result"
    }
   ],
   "source": [
    "housing2 = housing.copy()\n",
    "np.random.seed(42)\n",
    "housing_labels = housing2['SalePrice'].copy()\n",
    "housing2 = housing2.drop('SalePrice', axis=1)\n",
    "shuffle_indexes = np.random.permutation(len(housing_labels))\n",
    "housing_labels, housing2 = housing_labels[shuffle_indexes], pd.DataFrame(np.array(housing2)[shuffle_indexes], columns=housing2.columns)\n",
    "housing_prep = full_pipeline.fit_transform(housing2)\n",
    "housing_prep.shape"
   ]
  },
  {
   "cell_type": "code",
   "execution_count": 123,
   "metadata": {},
   "outputs": [
    {
     "name": "stdout",
     "output_type": "stream",
     "text": [
      "Scores: [ 35002.51633866  28855.02588336  23044.93015577  32691.74517449\n",
      "  42779.95159403  50356.17091739  30308.85414036  31477.35889802\n",
      "  28009.81458436  22585.37107149]\n",
      "Mean: 32511.1738758\n",
      "Standard Deviation: 8110.55533991\n"
     ]
    }
   ],
   "source": [
    "# A random forest regressor model!\n",
    "forest_reg = RandomForestRegressor()\n",
    "forest_reg.fit(housing_prep,housing_labels.ravel())\n",
    "scores = cross_val_score(forest_reg, housing_prep,housing_labels.ravel(),scoring = 'neg_mean_squared_error', cv=10)\n",
    "forest_reg_rmse_scores = np.sqrt(-scores)\n",
    "display_scores(forest_reg_rmse_scores)"
   ]
  },
  {
   "cell_type": "code",
   "execution_count": 83,
   "metadata": {
    "scrolled": true
   },
   "outputs": [
    {
     "name": "stdout",
     "output_type": "stream",
     "text": [
      "Scores: [  8.88096497e+13   6.69818553e+13   5.94258607e+14   3.05701065e+04\n",
      "   1.37658968e+14   5.57912161e+14   8.86619165e+13   2.71872298e+14\n",
      "   6.13741951e+14   3.90190783e+14]\n",
      "Mean: 2.81008819013e+14\n",
      "Standard Deviation: 2.27327282562e+14\n"
     ]
    }
   ],
   "source": [
    "lin_reg = LinearRegression()\n",
    "lin_reg.fit(housing_prep,housing_labels)\n",
    "scores = cross_val_score(lin_reg, housing_prep, housing_labels,scoring = 'neg_mean_squared_error', cv=10)\n",
    "lin_reg_rmse_scores = np.sqrt(-scores)\n",
    "display_scores(lin_reg_rmse_scores)"
   ]
  },
  {
   "cell_type": "code",
   "execution_count": 84,
   "metadata": {},
   "outputs": [
    {
     "name": "stdout",
     "output_type": "stream",
     "text": [
      "Scores: [ 38559.35166727  42637.93311808  38555.10856349  58411.93903213\n",
      "  41295.53580628  47129.73023002  39258.74411569  42751.75322777\n",
      "  36768.32793902  36477.82746203]\n",
      "Mean: 42184.6251162\n",
      "Standard Deviation: 6211.90772586\n"
     ]
    }
   ],
   "source": [
    "# A descision tree model!\n",
    "tree_reg = DecisionTreeRegressor()\n",
    "tree_reg.fit(housing_prep, housing_labels)\n",
    "scores = cross_val_score(tree_reg, housing_prep,housing_labels,scoring = 'neg_mean_squared_error', cv=10)\n",
    "tree_reg_rmse_scores = np.sqrt(-scores)\n",
    "display_scores(tree_reg_rmse_scores)"
   ]
  },
  {
   "cell_type": "code",
   "execution_count": 85,
   "metadata": {
    "scrolled": false
   },
   "outputs": [
    {
     "name": "stdout",
     "output_type": "stream",
     "text": [
      "Scores: [ 97290.45081973  79258.5457689   77154.88069096  93244.1125862\n",
      "  75138.75269931  77932.9420013   85802.60785567  75398.44427387\n",
      "  73164.45412662  75314.28487063]\n",
      "Mean: 80969.9475693\n",
      "Standard Deviation: 7905.89858213\n"
     ]
    }
   ],
   "source": [
    "# A support vector machine regressor model!\n",
    "svm_reg = SVR()\n",
    "svm_reg.fit(housing_prep,housing_labels.ravel())\n",
    "scores = cross_val_score(svm_reg, housing_prep,housing_labels.ravel(),scoring = 'neg_mean_squared_error', cv=10)\n",
    "svm_reg_rmse_scores = np.sqrt(-scores)\n",
    "display_scores(svm_reg_rmse_scores)"
   ]
  },
  {
   "cell_type": "markdown",
   "metadata": {},
   "source": [
    "No great changes!"
   ]
  },
  {
   "cell_type": "code",
   "execution_count": 139,
   "metadata": {},
   "outputs": [],
   "source": [
    "Attributes = []\n",
    "Attributes += num\n",
    "Attributes += grading_attributes\n",
    "lb = LabelBinarizer()\n",
    "h = housing.copy()\n",
    "FNaN = FillCatNaN(desc_attributes)\n",
    "FNaN.fit_transform(h)\n",
    "for el in desc_attributes:\n",
    "    lb.fit(h[el])\n",
    "    a = list(lb.classes_)\n",
    "    for i, word in enumerate(a):\n",
    "        a[i] = el + ' - ' + word \n",
    "    Attributes += a\n",
    "Attributes += ['SalePrice']"
   ]
  },
  {
   "cell_type": "markdown",
   "metadata": {},
   "source": [
    "Now that we have transformed our dataset, we have only numerical attributes. Next, we check the correlations between the predictors and target attributes, before and after the transformation. We can see that there is non negligible number of categorical attributes with high (anti)correlations with the Sale Price (before the transformation we couldn't see that!)."
   ]
  },
  {
   "cell_type": "code",
   "execution_count": 140,
   "metadata": {},
   "outputs": [
    {
     "data": {
      "text/plain": [
       "SalePrice             1.000000\n",
       "OverallQual           0.790982\n",
       "GrLivArea             0.708624\n",
       "ExterQual             0.682639\n",
       "GarageCars            0.640409\n",
       "GarageArea            0.623431\n",
       "TotalBsmtSF           0.613581\n",
       "1stFlrSF              0.605852\n",
       "BsmtQual              0.585207\n",
       "FullBath              0.560664\n",
       "TotRmsAbvGrd          0.533723\n",
       "YearBuilt             0.522897\n",
       "FireplaceQu           0.520438\n",
       "YearRemodAdd          0.507101\n",
       "KitchenQual - Ex      0.504094\n",
       "Foundation - PConc    0.497734\n",
       "MasVnrArea            0.472614\n",
       "Fireplaces            0.466929\n",
       "GarageYrBlt           0.466754\n",
       "HeatingQC             0.427649\n",
       "Name: SalePrice, dtype: float64"
      ]
     },
     "execution_count": 140,
     "metadata": {},
     "output_type": "execute_result"
    }
   ],
   "source": [
    "corr_matrix2 = pd.DataFrame(np.column_stack((housing_prep,housing_labels)), columns=Attributes).corr()\n",
    "#corr_matrix['SalePrice'].sort_values(ascending=False).head(15)\n",
    "corr_matrix2.iloc[:,-1].sort_values(ascending=False).head(20)"
   ]
  },
  {
   "cell_type": "code",
   "execution_count": 141,
   "metadata": {},
   "outputs": [
    {
     "data": {
      "text/plain": [
       "SalePrice       1.000000\n",
       "OverallQual     0.790982\n",
       "GrLivArea       0.708624\n",
       "GarageCars      0.640409\n",
       "GarageArea      0.623431\n",
       "TotalBsmtSF     0.613581\n",
       "1stFlrSF        0.605852\n",
       "FullBath        0.560664\n",
       "TotRmsAbvGrd    0.533723\n",
       "YearBuilt       0.522897\n",
       "YearRemodAdd    0.507101\n",
       "GarageYrBlt     0.486362\n",
       "MasVnrArea      0.477493\n",
       "Fireplaces      0.466929\n",
       "BsmtFinSF1      0.386420\n",
       "LotFrontage     0.351799\n",
       "WoodDeckSF      0.324413\n",
       "2ndFlrSF        0.319334\n",
       "OpenPorchSF     0.315856\n",
       "HalfBath        0.284108\n",
       "Name: SalePrice, dtype: float64"
      ]
     },
     "execution_count": 141,
     "metadata": {},
     "output_type": "execute_result"
    }
   ],
   "source": [
    "corr_matrix = housing.corr()\n",
    "corr_matrix['SalePrice'].sort_values(ascending=False).head(20)"
   ]
  },
  {
   "cell_type": "markdown",
   "metadata": {
    "collapsed": true
   },
   "source": [
    "Let's attempt a grid search using the random forest regressor algorithm!"
   ]
  },
  {
   "cell_type": "code",
   "execution_count": 91,
   "metadata": {
    "collapsed": true
   },
   "outputs": [],
   "source": [
    "from sklearn.model_selection import GridSearchCV"
   ]
  },
  {
   "cell_type": "code",
   "execution_count": 99,
   "metadata": {},
   "outputs": [],
   "source": [
    "param_grid = [\n",
    "    {'n_estimators': [100,300,1000], 'max_features': [1,2,3]},\n",
    "    #{'bootstrap': [False], 'n_estimators': [3,30], 'max_features': [2, 8, 16]}\n",
    "]"
   ]
  },
  {
   "cell_type": "code",
   "execution_count": 100,
   "metadata": {},
   "outputs": [
    {
     "data": {
      "text/plain": [
       "GridSearchCV(cv=10, error_score='raise',\n",
       "       estimator=RandomForestRegressor(bootstrap=True, criterion='mse', max_depth=None,\n",
       "           max_features='auto', max_leaf_nodes=None,\n",
       "           min_impurity_split=1e-07, min_samples_leaf=1,\n",
       "           min_samples_split=2, min_weight_fraction_leaf=0.0,\n",
       "           n_estimators=10, n_jobs=1, oob_score=False, random_state=None,\n",
       "           verbose=0, warm_start=False),\n",
       "       fit_params={}, iid=True, n_jobs=1,\n",
       "       param_grid=[{'n_estimators': [100, 300, 1000], 'max_features': [1, 2, 3]}],\n",
       "       pre_dispatch='2*n_jobs', refit=True, return_train_score=True,\n",
       "       scoring='neg_mean_squared_error', verbose=0)"
      ]
     },
     "execution_count": 100,
     "metadata": {},
     "output_type": "execute_result"
    }
   ],
   "source": [
    "forest_reg = RandomForestRegressor()\n",
    "grid_search = GridSearchCV(forest_reg, param_grid, cv=10, scoring='neg_mean_squared_error')\n",
    "grid_search.fit(housing_prep, housing_prep_labels.ravel())"
   ]
  },
  {
   "cell_type": "code",
   "execution_count": 101,
   "metadata": {},
   "outputs": [
    {
     "data": {
      "text/plain": [
       "RandomForestRegressor(bootstrap=True, criterion='mse', max_depth=None,\n",
       "           max_features=1, max_leaf_nodes=None, min_impurity_split=1e-07,\n",
       "           min_samples_leaf=1, min_samples_split=2,\n",
       "           min_weight_fraction_leaf=0.0, n_estimators=1000, n_jobs=1,\n",
       "           oob_score=False, random_state=None, verbose=0, warm_start=False)"
      ]
     },
     "execution_count": 101,
     "metadata": {},
     "output_type": "execute_result"
    }
   ],
   "source": [
    "grid_search.best_estimator_"
   ]
  },
  {
   "cell_type": "markdown",
   "metadata": {},
   "source": [
    "Now we can finally check what are the attributes that are not important to generate a good model! What's more it seems really strange that the Id attribute (which I forgot to remove earlier) is important to fit it."
   ]
  },
  {
   "cell_type": "code",
   "execution_count": 214,
   "metadata": {},
   "outputs": [
    {
     "data": {
      "text/plain": [
       "[(0.028524385922523925, 'Id'),\n",
       " (0.027042084973779155, 'BsmtUnfSF'),\n",
       " (0.02670685226376732, 'LotArea'),\n",
       " (0.02662246807954784, 'GarageArea'),\n",
       " (0.026572754483141139, '1stFlrSF'),\n",
       " (0.026204720461673554, 'YearBuilt'),\n",
       " (0.025898675142681776, 'GrLivArea'),\n",
       " (0.025457311835071664, 'TotalBsmtSF'),\n",
       " (0.024502904491894986, 'MoSold'),\n",
       " (0.024328618620400887, 'GarageYrBlt'),\n",
       " (0.023010957731200061, 'LotFrontage'),\n",
       " (0.022873417208009096, 'YearRemodAdd'),\n",
       " (0.022327405203855961, 'BsmtFinSF1'),\n",
       " (0.019803974963697984, 'YrSold'),\n",
       " (0.01901544049521017, 'OpenPorchSF'),\n",
       " (0.018812971010114098, 'WoodDeckSF'),\n",
       " (0.018167037808223443, 'TotRmsAbvGrd'),\n",
       " (0.017279415131265848, 'MasVnrArea'),\n",
       " (0.015567943555472658, '2ndFlrSF'),\n",
       " (0.014858952516452986, 'OverallQual'),\n",
       " (0.014571762471720701, 'BsmtFinType1'),\n",
       " (0.01302614332684014, 'OverallCond'),\n",
       " (0.012081962093587632, 'BedroomAbvGr'),\n",
       " (0.011981211029080771, 'FireplaceQu'),\n",
       " (0.011868436682755034, 'BsmtExposure'),\n",
       " (0.01130645041232955, 'MSSubClass'),\n",
       " (0.010474193005596572, 'HeatingQC'),\n",
       " (0.010336979183640859, 'Fireplaces'),\n",
       " (0.0090291648682803705, 'GarageCars'),\n",
       " (0.008720824955710537, 'BsmtFullBath'),\n",
       " (0.0080553652901713593, 'Fence'),\n",
       " (0.0079873850689159403, 'BsmtQual'),\n",
       " (0.0076202654906313751, 'EnclosedPorch'),\n",
       " (0.0073764498067944891, 'ExterQual'),\n",
       " (0.0073342198737283495, 'FullBath'),\n",
       " (0.0070178018629771018, 'LotShape - IR1'),\n",
       " (0.0069397864088191798, 'HalfBath'),\n",
       " (0.0067048162727312201, 'LotShape - Reg'),\n",
       " (0.0066307784304913079, 'MasVnrType - BrkFace'),\n",
       " (0.0065359787110246016, 'LotConfig - Inside'),\n",
       " (0.0062266517793186128, 'GarageFinish - RFn'),\n",
       " (0.0061192412870253957, 'GarageFinish - Unf'),\n",
       " (0.0060958485986479984, 'GarageType - Attchd'),\n",
       " (0.006057520060371923, 'BsmtFinType2'),\n",
       " (0.0060491578386831979, 'HouseStyle - 1Story'),\n",
       " (0.0060323335094947554, 'BsmtFinSF2'),\n",
       " (0.0059930619590348334, 'KitchenQual - Gd'),\n",
       " (0.0059431228905193678, 'GarageFinish - Fin'),\n",
       " (0.0058140533395017527, 'MasVnrType - None'),\n",
       " (0.0055707020895292662, 'LandContour - Lvl'),\n",
       " (0.0055444475525134448, 'SaleCondition - Normal'),\n",
       " (0.0054896677049434701, 'LotConfig - Corner'),\n",
       " (0.0053764673603213286, 'RoofStyle - Gable'),\n",
       " (0.0052699582300146097, 'KitchenQual - TA'),\n",
       " (0.0052599596903205583, 'Foundation - CBlock'),\n",
       " (0.0052522136761644174, 'Exterior1st - Wd Sdng'),\n",
       " (0.0051775416009908039, 'Exterior2nd - Wd Sdng'),\n",
       " (0.0051639820632615116, 'RoofStyle - Hip'),\n",
       " (0.0049069877362594664, 'BsmtCond'),\n",
       " (0.0048565020283069136, 'HouseStyle - 2Story'),\n",
       " (0.004792999477927812, 'Neighborhood - NAmes'),\n",
       " (0.0047462187140963211, 'GarageType - Detchd'),\n",
       " (0.004653567370690918, 'ScreenPorch'),\n",
       " (0.0045513870757809636, 'Exterior2nd - VinylSd'),\n",
       " (0.0045391711641903591, 'Condition1 - Norm'),\n",
       " (0.0045184314373921146, 'BsmtHalfBath'),\n",
       " (0.0044948346092383087, 'MSZoning - RL'),\n",
       " (0.004448543622895337, 'ExterCond'),\n",
       " (0.0044338472062004754, 'HouseStyle - 1.5Fin'),\n",
       " (0.004425490363724735, 'Foundation - PConc'),\n",
       " (0.0043376682074612472, 'Functional'),\n",
       " (0.0042680474199594766, 'Exterior1st - VinylSd'),\n",
       " (0.0038885250166201288, 'MiscVal'),\n",
       " (0.0038287040863834356, 'MiscFeature - NA'),\n",
       " (0.0038222602723662173, 'Exterior1st - HdBoard'),\n",
       " (0.0037729698165148923, 'SaleType - WD'),\n",
       " (0.0037389696987264794, 'SaleCondition - Abnorml'),\n",
       " (0.0036770395267421525, 'Exterior2nd - HdBoard'),\n",
       " (0.0036018534675294539, 'MiscFeature - Shed'),\n",
       " (0.003584719836726034, 'MSZoning - RM'),\n",
       " (0.0034798943996813374, 'Exterior1st - MetalSd'),\n",
       " (0.0034482180379198234, 'Exterior2nd - MetalSd'),\n",
       " (0.0033937240684451891, 'Exterior2nd - Plywood'),\n",
       " (0.0032983268652422592, 'LandContour - HLS'),\n",
       " (0.0032070917449574087, 'Neighborhood - Timber'),\n",
       " (0.0031956460529885644, 'LotConfig - CulDSac'),\n",
       " (0.0031740936127595963, 'GarageQual'),\n",
       " (0.0031664435565460988, 'BldgType - 1Fam'),\n",
       " (0.0031526116743837117, 'Neighborhood - Sawyer'),\n",
       " (0.003152494383826331, 'Neighborhood - CollgCr'),\n",
       " (0.0030868697299605364, 'Neighborhood - OldTown'),\n",
       " (0.0029728586740270066, 'MasVnrType - Stone'),\n",
       " (0.0027852704681649958, 'Condition1 - Artery'),\n",
       " (0.0027800041227518803, 'PavedDrive'),\n",
       " (0.0026953577438322942, 'GarageCond'),\n",
       " (0.002679009046886064, 'Electrical - SBrkr'),\n",
       " (0.0026171515367749859, 'Neighborhood - NWAmes'),\n",
       " (0.002549612787762257, 'SaleCondition - Partial'),\n",
       " (0.0025138904791149027, 'Exterior1st - Plywood'),\n",
       " (0.0024509285354739215, 'Foundation - BrkTil'),\n",
       " (0.0024158411055141657, 'Electrical - FuseA'),\n",
       " (0.0022957874254840821, 'Neighborhood - Edwards'),\n",
       " (0.0022503440722455997, 'BldgType - TwnhsE'),\n",
       " (0.0022193505770913354, 'SaleType - New'),\n",
       " (0.0021579807133021091, 'HouseStyle - SLvl'),\n",
       " (0.0021473986081501236, 'CentralAir'),\n",
       " (0.0020706419228400295, 'LandSlope'),\n",
       " (0.0020179417729846287, 'Condition1 - Feedr'),\n",
       " (0.001991415341163151, 'KitchenQual - Ex'),\n",
       " (0.0019822474385146108, 'Neighborhood - SawyerW'),\n",
       " (0.0019698018701044691, 'GarageType - BuiltIn'),\n",
       " (0.0019294335404644127, 'SaleType - Con'),\n",
       " (0.0018455376834946528, 'Alley - NA'),\n",
       " (0.0018003311913692157, 'Neighborhood - BrkSide'),\n",
       " (0.0017461140106817426, 'Neighborhood - Gilbert'),\n",
       " (0.0017238890186030403, 'LandContour - Bnk'),\n",
       " (0.0017109912787113637, 'KitchenAbvGr'),\n",
       " (0.0016870887425530169, 'Neighborhood - Somerst'),\n",
       " (0.0016474817168279667, 'Neighborhood - NridgHt'),\n",
       " (0.0015926095082598648, 'Neighborhood - Crawfor'),\n",
       " (0.0015692830869019614, 'SaleType - COD'),\n",
       " (0.0015251439486461608, 'HouseStyle - SFoyer'),\n",
       " (0.0014882675817606498, 'Neighborhood - Mitchel'),\n",
       " (0.0014312280579539848, 'Condition1 - RRAn'),\n",
       " (0.0014284898326143386, 'Exterior2nd - Wd Shng'),\n",
       " (0.0013971123509519611, 'Exterior1st - BrkFace'),\n",
       " (0.0013415882068859477, 'MSZoning - FV'),\n",
       " (0.0013216269724663809, 'BldgType - Duplex'),\n",
       " (0.0012755340952632734, 'Exterior1st - CemntBd'),\n",
       " (0.0012588758074338631, 'LotConfig - FR2'),\n",
       " (0.0012251915061692667, 'LowQualFinSF'),\n",
       " (0.0012195324423356696, 'BldgType - Twnhs'),\n",
       " (0.0012163179067796919, 'Exterior2nd - CmentBd'),\n",
       " (0.0011990484846524858, 'Foundation - Stone'),\n",
       " (0.0011700371782575479, 'Alley - Grvl'),\n",
       " (0.0011636912567873677, '3SsnPorch'),\n",
       " (0.0011560223425138593, 'Neighborhood - IDOTRR'),\n",
       " (0.0011516785767592104, 'Neighborhood - StoneBr'),\n",
       " (0.0011260754486394041, 'Condition2 - Norm'),\n",
       " (0.0011055255600686195, 'GarageFinish - NA'),\n",
       " (0.0010768124487258994, 'LotShape - IR2'),\n",
       " (0.001070798554555652, 'MasVnrType - BrkCmn'),\n",
       " (0.0010379006981796931, 'Alley - Pave'),\n",
       " (0.0010336274714344853, 'GarageType - NA'),\n",
       " (0.00099708920277170529, 'Foundation - Slab'),\n",
       " (0.00098672566607697584, 'HouseStyle - 1.5Unf'),\n",
       " (0.00096513603335994166, 'Neighborhood - NoRidge'),\n",
       " (0.00095817471233511635, 'Neighborhood - ClearCr'),\n",
       " (0.00094935298030529981, 'Electrical - FuseF'),\n",
       " (0.00091620819086106421, 'LandContour - Low'),\n",
       " (0.0009106683167008396, 'Exterior1st - WdShing'),\n",
       " (0.00088712639836915615, 'KitchenQual - Fa'),\n",
       " (0.00088385186773480724, 'Exterior2nd - Stucco'),\n",
       " (0.00085844563859830412, 'Exterior1st - Stucco'),\n",
       " (0.00084887385050324638, 'MSZoning - RH'),\n",
       " (0.00084102644829427121, 'GarageType - Basment'),\n",
       " (0.00082898860476355121, 'Exterior2nd - BrkFace'),\n",
       " (0.00082838402905167864, 'Exterior2nd - AsbShng'),\n",
       " (0.00080276975523725798, 'RoofMatl - CompShg'),\n",
       " (0.00078306147897354956, 'Heating - GasA'),\n",
       " (0.00077801104063952495, 'LotShape - IR3'),\n",
       " (0.0007572752803656289, 'Exterior1st - AsbShng'),\n",
       " (0.00074987327422199122, 'Neighborhood - SWISU'),\n",
       " (0.00074701272960009412, 'Condition1 - PosN'),\n",
       " (0.00072619174553437745, 'Condition2 - Feedr'),\n",
       " (0.00071805765139584549, 'BldgType - 2fmCon'),\n",
       " (0.0007174391620270612, 'RoofStyle - Mansard'),\n",
       " (0.00069754700596813633, 'RoofStyle - Flat'),\n",
       " (0.00064333120238508463, 'SaleCondition - Family'),\n",
       " (0.00057630608840869503, 'HouseStyle - 2.5Unf'),\n",
       " (0.00055240390998575193, 'MasVnrType - NA'),\n",
       " (0.00053614358950617835, 'Heating - GasW'),\n",
       " (0.0005356895085258885, 'Condition1 - RRAe'),\n",
       " (0.00048804161282947406, 'Neighborhood - BrDale'),\n",
       " (0.00048410293359294604, 'RoofStyle - Gambrel'),\n",
       " (0.00044821206366568717, 'Exterior2nd - ImStucc'),\n",
       " (0.00043840604095705591, 'Neighborhood - Blmngtn'),\n",
       " (0.00043306635193114142, 'PoolArea'),\n",
       " (0.00041777495537110372, 'GarageType - CarPort'),\n",
       " (0.0004147277988618586, 'SaleCondition - Alloca'),\n",
       " (0.00040177405539641736, 'RoofMatl - Tar&Grv'),\n",
       " (0.0003972121633815021, 'RoofMatl - WdShake'),\n",
       " (0.00037590032146282866, 'PoolQC'),\n",
       " (0.00036837639697782931, 'Neighborhood - Veenker'),\n",
       " (0.00034983878782559821, 'Neighborhood - MeadowV'),\n",
       " (0.0003481611067623193, 'MiscFeature - TenC'),\n",
       " (0.00033958459884685126, 'SaleType - ConLI'),\n",
       " (0.00033697437646345799, 'Heating - Wall'),\n",
       " (0.00033666655164587563, 'MSZoning - C (all)'),\n",
       " (0.0003273314314677356, 'SaleType - ConLw'),\n",
       " (0.00031430437243581944, 'SaleType - Oth'),\n",
       " (0.00030976554106684469, 'GarageType - 2Types'),\n",
       " (0.00029615567844657348, 'Exterior2nd - AsphShn'),\n",
       " (0.00029328825782026584, 'LotConfig - FR3'),\n",
       " (0.0002870729680215205, 'Exterior1st - Stone'),\n",
       " (0.00028213997369085883, 'Exterior2nd - Stone'),\n",
       " (0.00028120464698858989, 'Condition2 - RRNn'),\n",
       " (0.00025835940475105602, 'Condition1 - RRNn'),\n",
       " (0.00025194996039878275, 'Neighborhood - NPkVill'),\n",
       " (0.00025147558633945987, 'HouseStyle - 2.5Fin'),\n",
       " (0.00024092621676391813, 'MiscFeature - Othr'),\n",
       " (0.00023216396820399996, 'Condition1 - PosA'),\n",
       " (0.00023030934922911529, 'Condition1 - RRNe'),\n",
       " (0.00022430961199841525, 'SaleType - ConLD'),\n",
       " (0.00021423223824921516, 'Condition2 - PosA'),\n",
       " (0.00018313398854919751, 'Exterior2nd - Brk Cmn'),\n",
       " (0.00013286535255764987, 'SaleType - CWD'),\n",
       " (0.00013156040502468626, 'Condition2 - PosN'),\n",
       " (0.00011766629950142558, 'RoofMatl - WdShngl'),\n",
       " (0.00010487403923749264, 'Electrical - FuseP'),\n",
       " (9.4308788307020876e-05, 'RoofMatl - Roll'),\n",
       " (9.2691089921394926e-05, 'Street'),\n",
       " (9.0768603843097576e-05, 'Heating - Grav'),\n",
       " (8.9883333011968444e-05, 'RoofMatl - Metal'),\n",
       " (7.7270138944161024e-05, 'SaleCondition - AdjLand'),\n",
       " (7.635656619232287e-05, 'Exterior1st - BrkComm'),\n",
       " (7.5122675114825972e-05, 'Exterior1st - CBlock'),\n",
       " (6.6958701293882251e-05, 'Exterior2nd - CBlock'),\n",
       " (6.0863999309800961e-05, 'Heating - OthW'),\n",
       " (5.816339468020908e-05, 'Heating - Floor'),\n",
       " (4.945787380925962e-05, 'Exterior1st - ImStucc'),\n",
       " (4.8650434474392976e-05, 'Foundation - Wood'),\n",
       " (4.5457230058845457e-05, 'Electrical - NA'),\n",
       " (4.061687440721158e-05, 'Utilities'),\n",
       " (3.3239799498224749e-05, 'RoofStyle - Shed'),\n",
       " (2.8195341536826541e-05, 'Neighborhood - Blueste'),\n",
       " (2.5945133601035525e-05, 'Exterior1st - AsphShn'),\n",
       " (2.5939131382942425e-05, 'RoofMatl - ClyTile'),\n",
       " (2.2686351707661275e-05, 'MiscFeature - Gar2'),\n",
       " (1.9953303821156771e-05, 'RoofMatl - Membran'),\n",
       " (1.7493050953427523e-05, 'Condition2 - RRAe'),\n",
       " (1.537078653368084e-05, 'Condition2 - Artery'),\n",
       " (8.9246912254699281e-06, 'Electrical - Mix'),\n",
       " (8.9193916218914205e-06, 'Exterior2nd - Other'),\n",
       " (7.6171387356953123e-06, 'Condition2 - RRAn')]"
      ]
     },
     "execution_count": 214,
     "metadata": {},
     "output_type": "execute_result"
    }
   ],
   "source": [
    "feature_importances = grid_search.best_estimator_.feature_importances_\n",
    "Attr = Attributes\n",
    "Attr.pop(-1)\n",
    "bestattributes = sorted(zip(feature_importances,Attr), reverse = True)\n",
    "bestattributes"
   ]
  },
  {
   "cell_type": "markdown",
   "metadata": {},
   "source": [
    "What I'll do now to select the attributes that have a weight greater than 0.001. I'll try employing only those attributes to create the next model. Of course, I'll remove the Id attribute as well. Employing a list comprehension:"
   ]
  },
  {
   "cell_type": "code",
   "execution_count": 298,
   "metadata": {},
   "outputs": [],
   "source": [
    "abovethresh = [bestattributes[i][1] for i, _ in enumerate(bestattributes) if bestattributes[i][0] > 0.007 ]"
   ]
  },
  {
   "cell_type": "code",
   "execution_count": 299,
   "metadata": {},
   "outputs": [],
   "source": [
    "abovethresh.remove('Id')\n",
    "belowthresh = list(set(Attr) - set(abovethresh))\n",
    "indexed = pd.DataFrame(housing_prep, columns=Attr)\n",
    "housing_dropped = indexed.copy()\n",
    "for el in belowthresh:\n",
    "    housing_dropped = housing_dropped.drop(el, axis=1)"
   ]
  },
  {
   "cell_type": "markdown",
   "metadata": {},
   "source": [
    "We have just dropped 92 attributes:"
   ]
  },
  {
   "cell_type": "code",
   "execution_count": 300,
   "metadata": {},
   "outputs": [
    {
     "data": {
      "text/plain": [
       "200"
      ]
     },
     "execution_count": 300,
     "metadata": {},
     "output_type": "execute_result"
    }
   ],
   "source": [
    "len(belowthresh)"
   ]
  },
  {
   "cell_type": "code",
   "execution_count": 301,
   "metadata": {
    "collapsed": true
   },
   "outputs": [],
   "source": [
    "select = Selector(abovethresh)\n",
    "housing_dropped_prep = select.fit_transform(housing_dropped)"
   ]
  },
  {
   "cell_type": "code",
   "execution_count": 302,
   "metadata": {},
   "outputs": [
    {
     "name": "stdout",
     "output_type": "stream",
     "text": [
      "Scores: [ 29382.43951316  29656.10708272  21017.4609035   25784.23894998\n",
      "  40777.75057169  35837.13430323  33280.28156598  27415.24464831\n",
      "  27593.61347943  23115.95169877]\n",
      "Mean: 29386.0222717\n",
      "Standard Deviation: 5621.76729664\n"
     ]
    }
   ],
   "source": [
    "# A random forest regressor model!\n",
    "forest_reg = RandomForestRegressor()\n",
    "forest_reg.fit(housing_dropped_prep,housing_labels.ravel())\n",
    "scores = cross_val_score(forest_reg, housing_dropped_prep,housing_labels.ravel(),scoring = 'neg_mean_squared_error', cv=10)\n",
    "forest_reg_rmse_scores = np.sqrt(-scores)\n",
    "display_scores(forest_reg_rmse_scores)"
   ]
  },
  {
   "cell_type": "code",
   "execution_count": 303,
   "metadata": {},
   "outputs": [
    {
     "name": "stdout",
     "output_type": "stream",
     "text": [
      "Scores: [ 37971.10024476  32445.82965826  27371.02521801  39119.20386835\n",
      "  42917.27782191  59403.66779549  33557.64400408  26664.40275076\n",
      "  25211.80092064  23942.83513705]\n",
      "Mean: 34860.4787419\n",
      "Standard Deviation: 10189.1130921\n"
     ]
    }
   ],
   "source": [
    "lin_reg = LinearRegression()\n",
    "lin_reg.fit(housing_dropped_prep,housing_labels)\n",
    "scores = cross_val_score(lin_reg, housing_dropped_prep, housing_labels,scoring = 'neg_mean_squared_error', cv=10)\n",
    "lin_reg_rmse_scores = np.sqrt(-scores)\n",
    "display_scores(lin_reg_rmse_scores)"
   ]
  },
  {
   "cell_type": "markdown",
   "metadata": {},
   "source": [
    "It seems our models are getting better. Have a look at the linear regression model, its a huge improvement over the model built upon the 235 column set. That probably has to do with the fact that many of the attributes were not independent!"
   ]
  },
  {
   "cell_type": "code",
   "execution_count": null,
   "metadata": {
    "collapsed": true
   },
   "outputs": [],
   "source": []
  }
 ],
 "metadata": {
  "kernelspec": {
   "display_name": "Python 3",
   "language": "python",
   "name": "python3"
  },
  "language_info": {
   "codemirror_mode": {
    "name": "ipython",
    "version": 3
   },
   "file_extension": ".py",
   "mimetype": "text/x-python",
   "name": "python",
   "nbconvert_exporter": "python",
   "pygments_lexer": "ipython3",
   "version": "3.6.1"
  }
 },
 "nbformat": 4,
 "nbformat_minor": 2
}
