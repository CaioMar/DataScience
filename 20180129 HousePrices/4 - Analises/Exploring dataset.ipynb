{
 "cells": [
  {
   "cell_type": "markdown",
   "metadata": {},
   "source": [
    "# Housing prices in Ames, Iwoa (dataset downloaded from Kaggle)"
   ]
  },
  {
   "cell_type": "markdown",
   "metadata": {},
   "source": [
    "We first import the libraries:"
   ]
  },
  {
   "cell_type": "code",
   "execution_count": 1,
   "metadata": {},
   "outputs": [],
   "source": [
    "#importing main libraries\n",
    "\n",
    "import pandas as pd\n",
    "import numpy as np\n",
    "import matplotlib.pyplot as plt"
   ]
  },
  {
   "cell_type": "markdown",
   "metadata": {},
   "source": [
    "We then load the data (training set into the housing variable and the validation set into validation_set):"
   ]
  },
  {
   "cell_type": "code",
   "execution_count": 2,
   "metadata": {},
   "outputs": [],
   "source": [
    "housing = pd.read_csv('./../1 - Dados Originais/train.csv')\n",
    "validation_set = pd.read_csv('./../1 - Dados Originais/test.csv')"
   ]
  },
  {
   "cell_type": "markdown",
   "metadata": {},
   "source": [
    "We now have a check some entries and the type of the different attributes in the dataset (what are the categorical and the numerical ones?):"
   ]
  },
  {
   "cell_type": "code",
   "execution_count": 3,
   "metadata": {},
   "outputs": [
    {
     "data": {
      "text/html": [
       "<div>\n",
       "<style scoped>\n",
       "    .dataframe tbody tr th:only-of-type {\n",
       "        vertical-align: middle;\n",
       "    }\n",
       "\n",
       "    .dataframe tbody tr th {\n",
       "        vertical-align: top;\n",
       "    }\n",
       "\n",
       "    .dataframe thead th {\n",
       "        text-align: right;\n",
       "    }\n",
       "</style>\n",
       "<table border=\"1\" class=\"dataframe\">\n",
       "  <thead>\n",
       "    <tr style=\"text-align: right;\">\n",
       "      <th></th>\n",
       "      <th>Id</th>\n",
       "      <th>MSSubClass</th>\n",
       "      <th>MSZoning</th>\n",
       "      <th>LotFrontage</th>\n",
       "      <th>LotArea</th>\n",
       "      <th>Street</th>\n",
       "      <th>Alley</th>\n",
       "      <th>LotShape</th>\n",
       "      <th>LandContour</th>\n",
       "      <th>Utilities</th>\n",
       "      <th>...</th>\n",
       "      <th>PoolArea</th>\n",
       "      <th>PoolQC</th>\n",
       "      <th>Fence</th>\n",
       "      <th>MiscFeature</th>\n",
       "      <th>MiscVal</th>\n",
       "      <th>MoSold</th>\n",
       "      <th>YrSold</th>\n",
       "      <th>SaleType</th>\n",
       "      <th>SaleCondition</th>\n",
       "      <th>SalePrice</th>\n",
       "    </tr>\n",
       "  </thead>\n",
       "  <tbody>\n",
       "    <tr>\n",
       "      <th>0</th>\n",
       "      <td>1</td>\n",
       "      <td>60</td>\n",
       "      <td>RL</td>\n",
       "      <td>65.0</td>\n",
       "      <td>8450</td>\n",
       "      <td>Pave</td>\n",
       "      <td>NaN</td>\n",
       "      <td>Reg</td>\n",
       "      <td>Lvl</td>\n",
       "      <td>AllPub</td>\n",
       "      <td>...</td>\n",
       "      <td>0</td>\n",
       "      <td>NaN</td>\n",
       "      <td>NaN</td>\n",
       "      <td>NaN</td>\n",
       "      <td>0</td>\n",
       "      <td>2</td>\n",
       "      <td>2008</td>\n",
       "      <td>WD</td>\n",
       "      <td>Normal</td>\n",
       "      <td>208500</td>\n",
       "    </tr>\n",
       "    <tr>\n",
       "      <th>1</th>\n",
       "      <td>2</td>\n",
       "      <td>20</td>\n",
       "      <td>RL</td>\n",
       "      <td>80.0</td>\n",
       "      <td>9600</td>\n",
       "      <td>Pave</td>\n",
       "      <td>NaN</td>\n",
       "      <td>Reg</td>\n",
       "      <td>Lvl</td>\n",
       "      <td>AllPub</td>\n",
       "      <td>...</td>\n",
       "      <td>0</td>\n",
       "      <td>NaN</td>\n",
       "      <td>NaN</td>\n",
       "      <td>NaN</td>\n",
       "      <td>0</td>\n",
       "      <td>5</td>\n",
       "      <td>2007</td>\n",
       "      <td>WD</td>\n",
       "      <td>Normal</td>\n",
       "      <td>181500</td>\n",
       "    </tr>\n",
       "    <tr>\n",
       "      <th>2</th>\n",
       "      <td>3</td>\n",
       "      <td>60</td>\n",
       "      <td>RL</td>\n",
       "      <td>68.0</td>\n",
       "      <td>11250</td>\n",
       "      <td>Pave</td>\n",
       "      <td>NaN</td>\n",
       "      <td>IR1</td>\n",
       "      <td>Lvl</td>\n",
       "      <td>AllPub</td>\n",
       "      <td>...</td>\n",
       "      <td>0</td>\n",
       "      <td>NaN</td>\n",
       "      <td>NaN</td>\n",
       "      <td>NaN</td>\n",
       "      <td>0</td>\n",
       "      <td>9</td>\n",
       "      <td>2008</td>\n",
       "      <td>WD</td>\n",
       "      <td>Normal</td>\n",
       "      <td>223500</td>\n",
       "    </tr>\n",
       "    <tr>\n",
       "      <th>3</th>\n",
       "      <td>4</td>\n",
       "      <td>70</td>\n",
       "      <td>RL</td>\n",
       "      <td>60.0</td>\n",
       "      <td>9550</td>\n",
       "      <td>Pave</td>\n",
       "      <td>NaN</td>\n",
       "      <td>IR1</td>\n",
       "      <td>Lvl</td>\n",
       "      <td>AllPub</td>\n",
       "      <td>...</td>\n",
       "      <td>0</td>\n",
       "      <td>NaN</td>\n",
       "      <td>NaN</td>\n",
       "      <td>NaN</td>\n",
       "      <td>0</td>\n",
       "      <td>2</td>\n",
       "      <td>2006</td>\n",
       "      <td>WD</td>\n",
       "      <td>Abnorml</td>\n",
       "      <td>140000</td>\n",
       "    </tr>\n",
       "    <tr>\n",
       "      <th>4</th>\n",
       "      <td>5</td>\n",
       "      <td>60</td>\n",
       "      <td>RL</td>\n",
       "      <td>84.0</td>\n",
       "      <td>14260</td>\n",
       "      <td>Pave</td>\n",
       "      <td>NaN</td>\n",
       "      <td>IR1</td>\n",
       "      <td>Lvl</td>\n",
       "      <td>AllPub</td>\n",
       "      <td>...</td>\n",
       "      <td>0</td>\n",
       "      <td>NaN</td>\n",
       "      <td>NaN</td>\n",
       "      <td>NaN</td>\n",
       "      <td>0</td>\n",
       "      <td>12</td>\n",
       "      <td>2008</td>\n",
       "      <td>WD</td>\n",
       "      <td>Normal</td>\n",
       "      <td>250000</td>\n",
       "    </tr>\n",
       "  </tbody>\n",
       "</table>\n",
       "<p>5 rows × 81 columns</p>\n",
       "</div>"
      ],
      "text/plain": [
       "   Id  MSSubClass MSZoning  LotFrontage  LotArea Street Alley LotShape  \\\n",
       "0   1          60       RL         65.0     8450   Pave   NaN      Reg   \n",
       "1   2          20       RL         80.0     9600   Pave   NaN      Reg   \n",
       "2   3          60       RL         68.0    11250   Pave   NaN      IR1   \n",
       "3   4          70       RL         60.0     9550   Pave   NaN      IR1   \n",
       "4   5          60       RL         84.0    14260   Pave   NaN      IR1   \n",
       "\n",
       "  LandContour Utilities    ...     PoolArea PoolQC Fence MiscFeature MiscVal  \\\n",
       "0         Lvl    AllPub    ...            0    NaN   NaN         NaN       0   \n",
       "1         Lvl    AllPub    ...            0    NaN   NaN         NaN       0   \n",
       "2         Lvl    AllPub    ...            0    NaN   NaN         NaN       0   \n",
       "3         Lvl    AllPub    ...            0    NaN   NaN         NaN       0   \n",
       "4         Lvl    AllPub    ...            0    NaN   NaN         NaN       0   \n",
       "\n",
       "  MoSold YrSold  SaleType  SaleCondition  SalePrice  \n",
       "0      2   2008        WD         Normal     208500  \n",
       "1      5   2007        WD         Normal     181500  \n",
       "2      9   2008        WD         Normal     223500  \n",
       "3      2   2006        WD        Abnorml     140000  \n",
       "4     12   2008        WD         Normal     250000  \n",
       "\n",
       "[5 rows x 81 columns]"
      ]
     },
     "execution_count": 3,
     "metadata": {},
     "output_type": "execute_result"
    }
   ],
   "source": [
    "housing.head()"
   ]
  },
  {
   "cell_type": "code",
   "execution_count": 4,
   "metadata": {},
   "outputs": [
    {
     "name": "stdout",
     "output_type": "stream",
     "text": [
      "<class 'pandas.core.frame.DataFrame'>\n",
      "RangeIndex: 1460 entries, 0 to 1459\n",
      "Data columns (total 81 columns):\n",
      "Id               1460 non-null int64\n",
      "MSSubClass       1460 non-null int64\n",
      "MSZoning         1460 non-null object\n",
      "LotFrontage      1201 non-null float64\n",
      "LotArea          1460 non-null int64\n",
      "Street           1460 non-null object\n",
      "Alley            91 non-null object\n",
      "LotShape         1460 non-null object\n",
      "LandContour      1460 non-null object\n",
      "Utilities        1460 non-null object\n",
      "LotConfig        1460 non-null object\n",
      "LandSlope        1460 non-null object\n",
      "Neighborhood     1460 non-null object\n",
      "Condition1       1460 non-null object\n",
      "Condition2       1460 non-null object\n",
      "BldgType         1460 non-null object\n",
      "HouseStyle       1460 non-null object\n",
      "OverallQual      1460 non-null int64\n",
      "OverallCond      1460 non-null int64\n",
      "YearBuilt        1460 non-null int64\n",
      "YearRemodAdd     1460 non-null int64\n",
      "RoofStyle        1460 non-null object\n",
      "RoofMatl         1460 non-null object\n",
      "Exterior1st      1460 non-null object\n",
      "Exterior2nd      1460 non-null object\n",
      "MasVnrType       1452 non-null object\n",
      "MasVnrArea       1452 non-null float64\n",
      "ExterQual        1460 non-null object\n",
      "ExterCond        1460 non-null object\n",
      "Foundation       1460 non-null object\n",
      "BsmtQual         1423 non-null object\n",
      "BsmtCond         1423 non-null object\n",
      "BsmtExposure     1422 non-null object\n",
      "BsmtFinType1     1423 non-null object\n",
      "BsmtFinSF1       1460 non-null int64\n",
      "BsmtFinType2     1422 non-null object\n",
      "BsmtFinSF2       1460 non-null int64\n",
      "BsmtUnfSF        1460 non-null int64\n",
      "TotalBsmtSF      1460 non-null int64\n",
      "Heating          1460 non-null object\n",
      "HeatingQC        1460 non-null object\n",
      "CentralAir       1460 non-null object\n",
      "Electrical       1459 non-null object\n",
      "1stFlrSF         1460 non-null int64\n",
      "2ndFlrSF         1460 non-null int64\n",
      "LowQualFinSF     1460 non-null int64\n",
      "GrLivArea        1460 non-null int64\n",
      "BsmtFullBath     1460 non-null int64\n",
      "BsmtHalfBath     1460 non-null int64\n",
      "FullBath         1460 non-null int64\n",
      "HalfBath         1460 non-null int64\n",
      "BedroomAbvGr     1460 non-null int64\n",
      "KitchenAbvGr     1460 non-null int64\n",
      "KitchenQual      1460 non-null object\n",
      "TotRmsAbvGrd     1460 non-null int64\n",
      "Functional       1460 non-null object\n",
      "Fireplaces       1460 non-null int64\n",
      "FireplaceQu      770 non-null object\n",
      "GarageType       1379 non-null object\n",
      "GarageYrBlt      1379 non-null float64\n",
      "GarageFinish     1379 non-null object\n",
      "GarageCars       1460 non-null int64\n",
      "GarageArea       1460 non-null int64\n",
      "GarageQual       1379 non-null object\n",
      "GarageCond       1379 non-null object\n",
      "PavedDrive       1460 non-null object\n",
      "WoodDeckSF       1460 non-null int64\n",
      "OpenPorchSF      1460 non-null int64\n",
      "EnclosedPorch    1460 non-null int64\n",
      "3SsnPorch        1460 non-null int64\n",
      "ScreenPorch      1460 non-null int64\n",
      "PoolArea         1460 non-null int64\n",
      "PoolQC           7 non-null object\n",
      "Fence            281 non-null object\n",
      "MiscFeature      54 non-null object\n",
      "MiscVal          1460 non-null int64\n",
      "MoSold           1460 non-null int64\n",
      "YrSold           1460 non-null int64\n",
      "SaleType         1460 non-null object\n",
      "SaleCondition    1460 non-null object\n",
      "SalePrice        1460 non-null int64\n",
      "dtypes: float64(3), int64(35), object(43)\n",
      "memory usage: 924.0+ KB\n"
     ]
    }
   ],
   "source": [
    "housing.info()"
   ]
  },
  {
   "cell_type": "markdown",
   "metadata": {},
   "source": [
    "As we can see there are 38 are numerical attributes and 43 categorical ones, with a total of 81 attributes. Naturally some of the 35 integer attributes may be discrete. There are also 1460 entries in the training set. We can see that there are some attributes with a lot of missing instances (such as PoolQC, MiscFeature and Fence). Perhaps, we can throw some away in future steps? For now lets hold onto all the data.\n",
    "Next, we call the describe function to probe the properties of the numerical attributes:"
   ]
  },
  {
   "cell_type": "code",
   "execution_count": 5,
   "metadata": {},
   "outputs": [
    {
     "data": {
      "text/html": [
       "<div>\n",
       "<style scoped>\n",
       "    .dataframe tbody tr th:only-of-type {\n",
       "        vertical-align: middle;\n",
       "    }\n",
       "\n",
       "    .dataframe tbody tr th {\n",
       "        vertical-align: top;\n",
       "    }\n",
       "\n",
       "    .dataframe thead th {\n",
       "        text-align: right;\n",
       "    }\n",
       "</style>\n",
       "<table border=\"1\" class=\"dataframe\">\n",
       "  <thead>\n",
       "    <tr style=\"text-align: right;\">\n",
       "      <th></th>\n",
       "      <th>Id</th>\n",
       "      <th>MSSubClass</th>\n",
       "      <th>LotFrontage</th>\n",
       "      <th>LotArea</th>\n",
       "      <th>OverallQual</th>\n",
       "      <th>OverallCond</th>\n",
       "      <th>YearBuilt</th>\n",
       "      <th>YearRemodAdd</th>\n",
       "      <th>MasVnrArea</th>\n",
       "      <th>BsmtFinSF1</th>\n",
       "      <th>...</th>\n",
       "      <th>WoodDeckSF</th>\n",
       "      <th>OpenPorchSF</th>\n",
       "      <th>EnclosedPorch</th>\n",
       "      <th>3SsnPorch</th>\n",
       "      <th>ScreenPorch</th>\n",
       "      <th>PoolArea</th>\n",
       "      <th>MiscVal</th>\n",
       "      <th>MoSold</th>\n",
       "      <th>YrSold</th>\n",
       "      <th>SalePrice</th>\n",
       "    </tr>\n",
       "  </thead>\n",
       "  <tbody>\n",
       "    <tr>\n",
       "      <th>count</th>\n",
       "      <td>1460.000000</td>\n",
       "      <td>1460.000000</td>\n",
       "      <td>1201.000000</td>\n",
       "      <td>1460.000000</td>\n",
       "      <td>1460.000000</td>\n",
       "      <td>1460.000000</td>\n",
       "      <td>1460.000000</td>\n",
       "      <td>1460.000000</td>\n",
       "      <td>1452.000000</td>\n",
       "      <td>1460.000000</td>\n",
       "      <td>...</td>\n",
       "      <td>1460.000000</td>\n",
       "      <td>1460.000000</td>\n",
       "      <td>1460.000000</td>\n",
       "      <td>1460.000000</td>\n",
       "      <td>1460.000000</td>\n",
       "      <td>1460.000000</td>\n",
       "      <td>1460.000000</td>\n",
       "      <td>1460.000000</td>\n",
       "      <td>1460.000000</td>\n",
       "      <td>1460.000000</td>\n",
       "    </tr>\n",
       "    <tr>\n",
       "      <th>mean</th>\n",
       "      <td>730.500000</td>\n",
       "      <td>56.897260</td>\n",
       "      <td>70.049958</td>\n",
       "      <td>10516.828082</td>\n",
       "      <td>6.099315</td>\n",
       "      <td>5.575342</td>\n",
       "      <td>1971.267808</td>\n",
       "      <td>1984.865753</td>\n",
       "      <td>103.685262</td>\n",
       "      <td>443.639726</td>\n",
       "      <td>...</td>\n",
       "      <td>94.244521</td>\n",
       "      <td>46.660274</td>\n",
       "      <td>21.954110</td>\n",
       "      <td>3.409589</td>\n",
       "      <td>15.060959</td>\n",
       "      <td>2.758904</td>\n",
       "      <td>43.489041</td>\n",
       "      <td>6.321918</td>\n",
       "      <td>2007.815753</td>\n",
       "      <td>180921.195890</td>\n",
       "    </tr>\n",
       "    <tr>\n",
       "      <th>std</th>\n",
       "      <td>421.610009</td>\n",
       "      <td>42.300571</td>\n",
       "      <td>24.284752</td>\n",
       "      <td>9981.264932</td>\n",
       "      <td>1.382997</td>\n",
       "      <td>1.112799</td>\n",
       "      <td>30.202904</td>\n",
       "      <td>20.645407</td>\n",
       "      <td>181.066207</td>\n",
       "      <td>456.098091</td>\n",
       "      <td>...</td>\n",
       "      <td>125.338794</td>\n",
       "      <td>66.256028</td>\n",
       "      <td>61.119149</td>\n",
       "      <td>29.317331</td>\n",
       "      <td>55.757415</td>\n",
       "      <td>40.177307</td>\n",
       "      <td>496.123024</td>\n",
       "      <td>2.703626</td>\n",
       "      <td>1.328095</td>\n",
       "      <td>79442.502883</td>\n",
       "    </tr>\n",
       "    <tr>\n",
       "      <th>min</th>\n",
       "      <td>1.000000</td>\n",
       "      <td>20.000000</td>\n",
       "      <td>21.000000</td>\n",
       "      <td>1300.000000</td>\n",
       "      <td>1.000000</td>\n",
       "      <td>1.000000</td>\n",
       "      <td>1872.000000</td>\n",
       "      <td>1950.000000</td>\n",
       "      <td>0.000000</td>\n",
       "      <td>0.000000</td>\n",
       "      <td>...</td>\n",
       "      <td>0.000000</td>\n",
       "      <td>0.000000</td>\n",
       "      <td>0.000000</td>\n",
       "      <td>0.000000</td>\n",
       "      <td>0.000000</td>\n",
       "      <td>0.000000</td>\n",
       "      <td>0.000000</td>\n",
       "      <td>1.000000</td>\n",
       "      <td>2006.000000</td>\n",
       "      <td>34900.000000</td>\n",
       "    </tr>\n",
       "    <tr>\n",
       "      <th>25%</th>\n",
       "      <td>365.750000</td>\n",
       "      <td>20.000000</td>\n",
       "      <td>59.000000</td>\n",
       "      <td>7553.500000</td>\n",
       "      <td>5.000000</td>\n",
       "      <td>5.000000</td>\n",
       "      <td>1954.000000</td>\n",
       "      <td>1967.000000</td>\n",
       "      <td>0.000000</td>\n",
       "      <td>0.000000</td>\n",
       "      <td>...</td>\n",
       "      <td>0.000000</td>\n",
       "      <td>0.000000</td>\n",
       "      <td>0.000000</td>\n",
       "      <td>0.000000</td>\n",
       "      <td>0.000000</td>\n",
       "      <td>0.000000</td>\n",
       "      <td>0.000000</td>\n",
       "      <td>5.000000</td>\n",
       "      <td>2007.000000</td>\n",
       "      <td>129975.000000</td>\n",
       "    </tr>\n",
       "    <tr>\n",
       "      <th>50%</th>\n",
       "      <td>730.500000</td>\n",
       "      <td>50.000000</td>\n",
       "      <td>69.000000</td>\n",
       "      <td>9478.500000</td>\n",
       "      <td>6.000000</td>\n",
       "      <td>5.000000</td>\n",
       "      <td>1973.000000</td>\n",
       "      <td>1994.000000</td>\n",
       "      <td>0.000000</td>\n",
       "      <td>383.500000</td>\n",
       "      <td>...</td>\n",
       "      <td>0.000000</td>\n",
       "      <td>25.000000</td>\n",
       "      <td>0.000000</td>\n",
       "      <td>0.000000</td>\n",
       "      <td>0.000000</td>\n",
       "      <td>0.000000</td>\n",
       "      <td>0.000000</td>\n",
       "      <td>6.000000</td>\n",
       "      <td>2008.000000</td>\n",
       "      <td>163000.000000</td>\n",
       "    </tr>\n",
       "    <tr>\n",
       "      <th>75%</th>\n",
       "      <td>1095.250000</td>\n",
       "      <td>70.000000</td>\n",
       "      <td>80.000000</td>\n",
       "      <td>11601.500000</td>\n",
       "      <td>7.000000</td>\n",
       "      <td>6.000000</td>\n",
       "      <td>2000.000000</td>\n",
       "      <td>2004.000000</td>\n",
       "      <td>166.000000</td>\n",
       "      <td>712.250000</td>\n",
       "      <td>...</td>\n",
       "      <td>168.000000</td>\n",
       "      <td>68.000000</td>\n",
       "      <td>0.000000</td>\n",
       "      <td>0.000000</td>\n",
       "      <td>0.000000</td>\n",
       "      <td>0.000000</td>\n",
       "      <td>0.000000</td>\n",
       "      <td>8.000000</td>\n",
       "      <td>2009.000000</td>\n",
       "      <td>214000.000000</td>\n",
       "    </tr>\n",
       "    <tr>\n",
       "      <th>max</th>\n",
       "      <td>1460.000000</td>\n",
       "      <td>190.000000</td>\n",
       "      <td>313.000000</td>\n",
       "      <td>215245.000000</td>\n",
       "      <td>10.000000</td>\n",
       "      <td>9.000000</td>\n",
       "      <td>2010.000000</td>\n",
       "      <td>2010.000000</td>\n",
       "      <td>1600.000000</td>\n",
       "      <td>5644.000000</td>\n",
       "      <td>...</td>\n",
       "      <td>857.000000</td>\n",
       "      <td>547.000000</td>\n",
       "      <td>552.000000</td>\n",
       "      <td>508.000000</td>\n",
       "      <td>480.000000</td>\n",
       "      <td>738.000000</td>\n",
       "      <td>15500.000000</td>\n",
       "      <td>12.000000</td>\n",
       "      <td>2010.000000</td>\n",
       "      <td>755000.000000</td>\n",
       "    </tr>\n",
       "  </tbody>\n",
       "</table>\n",
       "<p>8 rows × 38 columns</p>\n",
       "</div>"
      ],
      "text/plain": [
       "                Id   MSSubClass  LotFrontage        LotArea  OverallQual  \\\n",
       "count  1460.000000  1460.000000  1201.000000    1460.000000  1460.000000   \n",
       "mean    730.500000    56.897260    70.049958   10516.828082     6.099315   \n",
       "std     421.610009    42.300571    24.284752    9981.264932     1.382997   \n",
       "min       1.000000    20.000000    21.000000    1300.000000     1.000000   \n",
       "25%     365.750000    20.000000    59.000000    7553.500000     5.000000   \n",
       "50%     730.500000    50.000000    69.000000    9478.500000     6.000000   \n",
       "75%    1095.250000    70.000000    80.000000   11601.500000     7.000000   \n",
       "max    1460.000000   190.000000   313.000000  215245.000000    10.000000   \n",
       "\n",
       "       OverallCond    YearBuilt  YearRemodAdd   MasVnrArea   BsmtFinSF1  \\\n",
       "count  1460.000000  1460.000000   1460.000000  1452.000000  1460.000000   \n",
       "mean      5.575342  1971.267808   1984.865753   103.685262   443.639726   \n",
       "std       1.112799    30.202904     20.645407   181.066207   456.098091   \n",
       "min       1.000000  1872.000000   1950.000000     0.000000     0.000000   \n",
       "25%       5.000000  1954.000000   1967.000000     0.000000     0.000000   \n",
       "50%       5.000000  1973.000000   1994.000000     0.000000   383.500000   \n",
       "75%       6.000000  2000.000000   2004.000000   166.000000   712.250000   \n",
       "max       9.000000  2010.000000   2010.000000  1600.000000  5644.000000   \n",
       "\n",
       "           ...         WoodDeckSF  OpenPorchSF  EnclosedPorch    3SsnPorch  \\\n",
       "count      ...        1460.000000  1460.000000    1460.000000  1460.000000   \n",
       "mean       ...          94.244521    46.660274      21.954110     3.409589   \n",
       "std        ...         125.338794    66.256028      61.119149    29.317331   \n",
       "min        ...           0.000000     0.000000       0.000000     0.000000   \n",
       "25%        ...           0.000000     0.000000       0.000000     0.000000   \n",
       "50%        ...           0.000000    25.000000       0.000000     0.000000   \n",
       "75%        ...         168.000000    68.000000       0.000000     0.000000   \n",
       "max        ...         857.000000   547.000000     552.000000   508.000000   \n",
       "\n",
       "       ScreenPorch     PoolArea       MiscVal       MoSold       YrSold  \\\n",
       "count  1460.000000  1460.000000   1460.000000  1460.000000  1460.000000   \n",
       "mean     15.060959     2.758904     43.489041     6.321918  2007.815753   \n",
       "std      55.757415    40.177307    496.123024     2.703626     1.328095   \n",
       "min       0.000000     0.000000      0.000000     1.000000  2006.000000   \n",
       "25%       0.000000     0.000000      0.000000     5.000000  2007.000000   \n",
       "50%       0.000000     0.000000      0.000000     6.000000  2008.000000   \n",
       "75%       0.000000     0.000000      0.000000     8.000000  2009.000000   \n",
       "max     480.000000   738.000000  15500.000000    12.000000  2010.000000   \n",
       "\n",
       "           SalePrice  \n",
       "count    1460.000000  \n",
       "mean   180921.195890  \n",
       "std     79442.502883  \n",
       "min     34900.000000  \n",
       "25%    129975.000000  \n",
       "50%    163000.000000  \n",
       "75%    214000.000000  \n",
       "max    755000.000000  \n",
       "\n",
       "[8 rows x 38 columns]"
      ]
     },
     "execution_count": 5,
     "metadata": {},
     "output_type": "execute_result"
    }
   ],
   "source": [
    "housing.describe()"
   ]
  },
  {
   "cell_type": "markdown",
   "metadata": {},
   "source": [
    "We also want to probe for correlations between the numerical attributes and the target:"
   ]
  },
  {
   "cell_type": "code",
   "execution_count": 6,
   "metadata": {},
   "outputs": [
    {
     "data": {
      "text/plain": [
       "SalePrice        1.000000\n",
       "OverallQual      0.790982\n",
       "GrLivArea        0.708624\n",
       "GarageCars       0.640409\n",
       "GarageArea       0.623431\n",
       "TotalBsmtSF      0.613581\n",
       "1stFlrSF         0.605852\n",
       "FullBath         0.560664\n",
       "TotRmsAbvGrd     0.533723\n",
       "YearBuilt        0.522897\n",
       "YearRemodAdd     0.507101\n",
       "GarageYrBlt      0.486362\n",
       "MasVnrArea       0.477493\n",
       "Fireplaces       0.466929\n",
       "BsmtFinSF1       0.386420\n",
       "LotFrontage      0.351799\n",
       "WoodDeckSF       0.324413\n",
       "2ndFlrSF         0.319334\n",
       "OpenPorchSF      0.315856\n",
       "HalfBath         0.284108\n",
       "LotArea          0.263843\n",
       "BsmtFullBath     0.227122\n",
       "BsmtUnfSF        0.214479\n",
       "BedroomAbvGr     0.168213\n",
       "ScreenPorch      0.111447\n",
       "PoolArea         0.092404\n",
       "MoSold           0.046432\n",
       "3SsnPorch        0.044584\n",
       "BsmtFinSF2      -0.011378\n",
       "BsmtHalfBath    -0.016844\n",
       "MiscVal         -0.021190\n",
       "Id              -0.021917\n",
       "LowQualFinSF    -0.025606\n",
       "YrSold          -0.028923\n",
       "OverallCond     -0.077856\n",
       "MSSubClass      -0.084284\n",
       "EnclosedPorch   -0.128578\n",
       "KitchenAbvGr    -0.135907\n",
       "Name: SalePrice, dtype: float64"
      ]
     },
     "execution_count": 6,
     "metadata": {},
     "output_type": "execute_result"
    }
   ],
   "source": [
    "corr_matrix = housing.corr()\n",
    "corr_matrix['SalePrice'].sort_values(ascending=False)"
   ]
  },
  {
   "cell_type": "code",
   "execution_count": 7,
   "metadata": {},
   "outputs": [
    {
     "data": {
      "text/plain": [
       "2009    338\n",
       "2007    329\n",
       "2006    314\n",
       "2008    304\n",
       "2010    175\n",
       "Name: YrSold, dtype: int64"
      ]
     },
     "execution_count": 7,
     "metadata": {},
     "output_type": "execute_result"
    }
   ],
   "source": [
    "housing[\"YrSold\"].value_counts()"
   ]
  },
  {
   "cell_type": "markdown",
   "metadata": {},
   "source": [
    "We can see that there are some attributes that have a strong correlation with our target attribute, the Sale Price. Let's check the scatter matrix:"
   ]
  },
  {
   "cell_type": "code",
   "execution_count": 8,
   "metadata": {},
   "outputs": [
    {
     "name": "stderr",
     "output_type": "stream",
     "text": [
      "/usr/local/lib/python3.5/dist-packages/ipykernel_launcher.py:3: FutureWarning: 'pandas.tools.plotting.scatter_matrix' is deprecated, import 'pandas.plotting.scatter_matrix' instead.\n",
      "  This is separate from the ipykernel package so we can avoid doing imports until\n"
     ]
    },
    {
     "data": {
      "image/png": "[encoded data removed]",
      "text/plain": [
       "<matplotlib.figure.Figure at 0x7f127cf62f60>"
      ]
     },
     "metadata": {},
     "output_type": "display_data"
    }
   ],
   "source": [
    "from pandas.tools.plotting import scatter_matrix\n",
    "attributes = ['OverallQual','GrLivArea','GarageCars','GarageArea','TotalBsmtSF','SalePrice']\n",
    "scatter_matrix(housing[attributes],figsize=(12,8))\n",
    "plt.show()"
   ]
  },
  {
   "cell_type": "markdown",
   "metadata": {},
   "source": [
    "Before we proceed, I will train some models with the current numerical attributes only and see how well they perform. First I make a copy of the training set and then I drop the categorical columns:"
   ]
  },
  {
   "cell_type": "code",
   "execution_count": 9,
   "metadata": {},
   "outputs": [],
   "source": [
    "housing_num = housing.copy() #creates a copy of the training dataset"
   ]
  },
  {
   "cell_type": "code",
   "execution_count": 10,
   "metadata": {},
   "outputs": [],
   "source": [
    "allcol = housing_num.columns\n",
    "num = housing_num._get_numeric_data().columns\n",
    "cat = list(set(allcol) - set(num)) #got a list of names with all categorical attributes"
   ]
  },
  {
   "cell_type": "code",
   "execution_count": 11,
   "metadata": {},
   "outputs": [
    {
     "data": {
      "text/plain": [
       "38"
      ]
     },
     "execution_count": 11,
     "metadata": {},
     "output_type": "execute_result"
    }
   ],
   "source": [
    "housing_num = housing_num.drop(cat, axis=1) #finally the number of attributes in this dataset is now 38, the number of numerical attributes in the original dataset\n",
    "housing_num.columns.size"
   ]
  },
  {
   "cell_type": "markdown",
   "metadata": {},
   "source": [
    "We now split the predictor and target attributes: "
   ]
  },
  {
   "cell_type": "code",
   "execution_count": 12,
   "metadata": {},
   "outputs": [],
   "source": [
    "housing_labels = housing_num['SalePrice'].copy()\n",
    "housing_num = housing_num.drop('SalePrice', axis=1)"
   ]
  },
  {
   "cell_type": "markdown",
   "metadata": {},
   "source": [
    "Here we import the models we will employ as well as cost/score functions:"
   ]
  },
  {
   "cell_type": "code",
   "execution_count": 18,
   "metadata": {},
   "outputs": [],
   "source": [
    "from sklearn.linear_model import LinearRegression\n",
    "from sklearn.metrics import mean_squared_error\n",
    "from sklearn.metrics import mean_absolute_error\n",
    "from sklearn.tree import DecisionTreeRegressor\n",
    "from sklearn.ensemble import RandomForestRegressor\n",
    "from sklearn.model_selection import cross_val_score\n",
    "from sklearn.svm import SVR\n",
    "from sklearn.pipeline import Pipeline\n",
    "from sklearn.preprocessing import Imputer\n",
    "from sklearn.preprocessing import StandardScaler\n",
    "from sklearn.preprocessing import LabelBinarizer\n",
    "from sklearn.pipeline import FeatureUnion"
   ]
  },
  {
   "cell_type": "code",
   "execution_count": 69,
   "metadata": {},
   "outputs": [
    {
     "data": {
      "text/plain": [
       "Imputer(axis=0, copy=True, missing_values='NaN', strategy='median', verbose=0)"
      ]
     },
     "execution_count": 69,
     "metadata": {},
     "output_type": "execute_result"
    }
   ],
   "source": [
    "imputer = Imputer(strategy='median')\n",
    "imputer.fit(housing_num)"
   ]
  },
  {
   "cell_type": "code",
   "execution_count": 70,
   "metadata": {},
   "outputs": [],
   "source": [
    "X = imputer.transform(housing_num)\n",
    "housing_num_df = pd.DataFrame(X, columns=housing_num.columns)"
   ]
  },
  {
   "cell_type": "markdown",
   "metadata": {},
   "source": [
    "We now transform the DataFrames in numpy arrays:"
   ]
  },
  {
   "cell_type": "code",
   "execution_count": 71,
   "metadata": {},
   "outputs": [],
   "source": [
    "housing_prep = housing_num_df.values\n",
    "housing_prep_labels = housing_labels.values.reshape(-1,1)"
   ]
  },
  {
   "cell_type": "code",
   "execution_count": 72,
   "metadata": {},
   "outputs": [
    {
     "data": {
      "text/plain": [
       "LinearRegression(copy_X=True, fit_intercept=True, n_jobs=1, normalize=False)"
      ]
     },
     "execution_count": 72,
     "metadata": {},
     "output_type": "execute_result"
    }
   ],
   "source": [
    "lin_reg = LinearRegression()\n",
    "lin_reg.fit(housing_prep,housing_prep_labels)"
   ]
  },
  {
   "cell_type": "code",
   "execution_count": 73,
   "metadata": {},
   "outputs": [],
   "source": [
    "scores = cross_val_score(lin_reg, housing_prep,housing_prep_labels,scoring = 'neg_mean_absolute_error', cv=10)\n",
    "lin_reg_rmse_scores = -scores"
   ]
  },
  {
   "cell_type": "code",
   "execution_count": 74,
   "metadata": {},
   "outputs": [],
   "source": [
    "def display_scores(scores):\n",
    "    print(\"Scores:\", scores)\n",
    "    print(\"Mean:\", scores.mean())\n",
    "    print(\"Standard Deviation:\", scores.std())"
   ]
  },
  {
   "cell_type": "code",
   "execution_count": 75,
   "metadata": {},
   "outputs": [
    {
     "name": "stdout",
     "output_type": "stream",
     "text": [
      "Scores: [66674.21376446 61728.8488128  54552.12428377 61505.12194337\n",
      " 54612.19193874 54110.77435353 65021.48355829 56734.86231792\n",
      " 58297.96172294 52616.43317892]\n",
      "Mean: 58585.401587474764\n",
      "Standard Deviation: 4652.631209488562\n"
     ]
    }
   ],
   "source": [
    "display_scores(lin_reg_rmse_scores)"
   ]
  },
  {
   "cell_type": "markdown",
   "metadata": {},
   "source": [
    "There seems to be some models that are performing really poorly (take a look at the second last model!), so we will shuffle the instances and see if we can reduce this problem:"
   ]
  },
  {
   "cell_type": "code",
   "execution_count": 78,
   "metadata": {},
   "outputs": [
    {
     "data": {
      "text/plain": [
       "LinearRegression(copy_X=True, fit_intercept=True, n_jobs=1, normalize=False)"
      ]
     },
     "execution_count": 78,
     "metadata": {},
     "output_type": "execute_result"
    }
   ],
   "source": [
    "np.random.seed(42)\n",
    "shuffle_indexes = np.random.permutation(len(housing_prep_labels))\n",
    "shuf_housing_prep, shuf_housing_labels = housing_prep[shuffle_indexes], housing_prep_labels[shuffle_indexes]\n",
    "lin_reg.fit(shuf_housing_prep,shuf_housing_labels)"
   ]
  },
  {
   "cell_type": "code",
   "execution_count": 79,
   "metadata": {
    "scrolled": true
   },
   "outputs": [
    {
     "name": "stdout",
     "output_type": "stream",
     "text": [
      "Scores: [55180.4781331  56488.5523678  59191.133211   69478.64115534\n",
      " 63715.36377784 56144.98244529 60446.49185911 56549.72206953\n",
      " 55870.47203256 53607.23185464]\n",
      "Mean: 58667.306890622014\n",
      "Standard Deviation: 4549.566977374931\n"
     ]
    }
   ],
   "source": [
    "scores = cross_val_score(lin_reg, shuf_housing_prep,shuf_housing_labels,scoring = 'neg_mean_absolute_error', cv=10)\n",
    "shuf_lin_reg_rmse_scores = -scores\n",
    "display_scores(shuf_lin_reg_rmse_scores)"
   ]
  },
  {
   "cell_type": "markdown",
   "metadata": {},
   "source": [
    "Well, its seems it actually got worse! Let's try other models!"
   ]
  },
  {
   "cell_type": "code",
   "execution_count": 80,
   "metadata": {},
   "outputs": [
    {
     "name": "stdout",
     "output_type": "stream",
     "text": [
      "Scores: [81043.53424658 74022.68493151 83181.65068493 93574.78082192\n",
      " 82223.71917808 79999.65753425 85558.30821918 76149.38356164\n",
      " 72018.10273973 81007.46575342]\n",
      "Mean: 80877.92876712329\n",
      "Standard Deviation: 5821.510807576368\n"
     ]
    }
   ],
   "source": [
    "# A descision tree model!\n",
    "tree_reg = DecisionTreeRegressor()\n",
    "tree_reg.fit(shuf_housing_prep,shuf_housing_labels)\n",
    "scores = cross_val_score(tree_reg, shuf_housing_prep,shuf_housing_labels,scoring = 'neg_mean_absolute_error', cv=10)\n",
    "tree_reg_rmse_scores = -scores\n",
    "display_scores(tree_reg_rmse_scores)"
   ]
  },
  {
   "cell_type": "code",
   "execution_count": 81,
   "metadata": {
    "scrolled": true
   },
   "outputs": [
    {
     "name": "stdout",
     "output_type": "stream",
     "text": [
      "Scores: [61651.65890411 58012.40342466 60362.45821918 72096.35136986\n",
      " 68276.84794521 62107.36369863 69910.13082192 63051.66849315\n",
      " 62466.57123288 59206.95068493]\n",
      "Mean: 63714.24047945205\n",
      "Standard Deviation: 4498.4358875349935\n"
     ]
    }
   ],
   "source": [
    "# A random forest regressor model!\n",
    "forest_reg = RandomForestRegressor()\n",
    "forest_reg.fit(shuf_housing_prep,shuf_housing_labels.ravel())\n",
    "scores = cross_val_score(forest_reg, shuf_housing_prep,shuf_housing_labels.ravel(),scoring = 'neg_mean_absolute_error', cv=10)\n",
    "forest_reg_rmse_scores = -scores\n",
    "display_scores(forest_reg_rmse_scores)"
   ]
  },
  {
   "cell_type": "code",
   "execution_count": 82,
   "metadata": {
    "scrolled": false
   },
   "outputs": [
    {
     "name": "stdout",
     "output_type": "stream",
     "text": [
      "Scores: [53601.64383562 50691.25251142 55923.83561644 68862.58767123\n",
      " 56577.91438356 50027.89726027 60034.62328767 52963.99315068\n",
      " 53787.92465753 53829.10228311]\n",
      "Mean: 55630.07746575342\n",
      "Standard Deviation: 5187.678103331702\n"
     ]
    }
   ],
   "source": [
    "# A support vector machine regressor model!\n",
    "svm_reg = SVR()\n",
    "svm_reg.fit(shuf_housing_prep,shuf_housing_labels.ravel())\n",
    "scores = cross_val_score(svm_reg, shuf_housing_prep,shuf_housing_labels.ravel(),scoring = 'neg_mean_absolute_error', cv=10)\n",
    "svm_reg_rmse_scores = -scores\n",
    "display_scores(svm_reg_rmse_scores)"
   ]
  },
  {
   "cell_type": "markdown",
   "metadata": {},
   "source": [
    "It seems the best method for the numerical part of the dataset is the random forest regressor. Aside from filling the numerical attributes with the median, we haven't performed any sort of cleaning nor manipulation. So let's do just that! And in order to make everything easier we will place these transformations on our pipeline. "
   ]
  },
  {
   "cell_type": "markdown",
   "metadata": {},
   "source": [
    "\n",
    "\n",
    "\n",
    "\n",
    "\n",
    "# Second part starts here\n",
    "\n",
    "\n",
    "\n",
    "\n"
   ]
  },
  {
   "cell_type": "markdown",
   "metadata": {},
   "source": [
    "Let's make a copy of our training set:"
   ]
  },
  {
   "cell_type": "code",
   "execution_count": 83,
   "metadata": {},
   "outputs": [],
   "source": [
    "housing2 = housing.copy()"
   ]
  },
  {
   "cell_type": "markdown",
   "metadata": {},
   "source": [
    "Regarding the categorical attributes, there are basically two groups the ones which have categories that are basically grading that feature and the ones which don't. Therefore we have 3 different groups of attributes: numerical, 'grading' categorical and 'descriptive' categorical. Each group has to be treated separately:"
   ]
  },
  {
   "cell_type": "code",
   "execution_count": 84,
   "metadata": {
    "scrolled": true
   },
   "outputs": [
    {
     "name": "stdout",
     "output_type": "stream",
     "text": [
      "['OverallCond', 'OverallQual', 'WoodDeckSF', 'BsmtFullBath', 'BsmtUnfSF', 'Fireplaces', 'BedroomAbvGr', 'LotFrontage', 'YrSold', 'GarageArea', 'MoSold', 'TotRmsAbvGrd', 'LowQualFinSF', 'GarageCars', 'ScreenPorch', 'GrLivArea', '1stFlrSF', 'GarageYrBlt', '2ndFlrSF', 'LotArea', 'YearBuilt', 'MiscVal', 'BsmtHalfBath', 'Id', 'TotalBsmtSF', 'MSSubClass', 'MasVnrArea', 'YearRemodAdd', '3SsnPorch', 'KitchenAbvGr', 'OpenPorchSF', 'FullBath', 'EnclosedPorch', 'BsmtFinSF2', 'BsmtFinSF1', 'PoolArea', 'HalfBath'] ['Street', 'Utilities', 'LandSlope', 'ExterQual', 'ExterCond', 'BsmtQual', 'BsmtCond', 'BsmtExposure', 'BsmtFinType1', 'BsmtFinType2', 'HeatingQC', 'CentralAir', 'Functional', 'FireplaceQu', 'GarageQual', 'GarageCond', 'PavedDrive', 'PoolQC', 'Fence'] ['GarageFinish', 'LotConfig', 'KitchenQual', 'MasVnrType', 'Alley', 'Heating', 'RoofMatl', 'Condition1', 'Electrical', 'LandContour', 'Exterior2nd', 'MiscFeature', 'BldgType', 'HouseStyle', 'SaleCondition', 'Condition2', 'Neighborhood', 'GarageType', 'MSZoning', 'Exterior1st', 'Foundation', 'SaleType', 'RoofStyle', 'LotShape']\n"
     ]
    }
   ],
   "source": [
    "grading_attributes = ['Street','Utilities','LandSlope','ExterQual','ExterCond','BsmtQual','BsmtCond','BsmtExposure','BsmtFinType1','BsmtFinType2','HeatingQC','CentralAir','Functional','FireplaceQu','GarageQual','GarageCond','PavedDrive','PoolQC','Fence']\n",
    "desc_attributes = list(set(cat)-set(grading_attributes))\n",
    "num = list(set(num)-set(['SalePrice']))\n",
    "print(num, grading_attributes,desc_attributes)"
   ]
  },
  {
   "cell_type": "markdown",
   "metadata": {},
   "source": [
    "Next, we set out to create a list of lists, where each one of the lists contains the values that are present in the columns. This will be important later on to assign numerical grades instead of words such as 'Excelent' or 'Poor'. This point will be made clear later on:"
   ]
  },
  {
   "cell_type": "code",
   "execution_count": 85,
   "metadata": {},
   "outputs": [
    {
     "name": "stdout",
     "output_type": "stream",
     "text": [
      "[['Pave', 'Grvl'], ['AllPub', 'NoSeWa'], ['Gtl', 'Mod', 'Sev'], ['Gd', 'TA', 'Ex', 'Fa'], ['TA', 'Gd', 'Fa', 'Po', 'Ex'], ['Gd', 'TA', 'Ex', nan, 'Fa'], ['TA', 'Gd', nan, 'Fa', 'Po'], ['No', 'Gd', 'Mn', 'Av', nan], ['GLQ', 'ALQ', 'Unf', 'Rec', 'BLQ', nan, 'LwQ'], ['Unf', 'BLQ', nan, 'ALQ', 'Rec', 'LwQ', 'GLQ'], ['Ex', 'Gd', 'TA', 'Fa', 'Po'], ['Y', 'N'], ['Typ', 'Min1', 'Maj1', 'Min2', 'Mod', 'Maj2', 'Sev'], [nan, 'TA', 'Gd', 'Fa', 'Ex', 'Po'], ['TA', 'Fa', 'Gd', nan, 'Ex', 'Po'], ['TA', 'Fa', nan, 'Gd', 'Po', 'Ex'], ['Y', 'N', 'P'], [nan, 'Ex', 'Fa', 'Gd'], [nan, 'MnPrv', 'GdWo', 'GdPrv', 'MnWw']]\n"
     ]
    }
   ],
   "source": [
    "grdattr_grades = []\n",
    "for el in grading_attributes:\n",
    "    grdattr_grades += [list(housing2[el].unique())]\n",
    "print(grdattr_grades)"
   ]
  },
  {
   "cell_type": "markdown",
   "metadata": {},
   "source": [
    "We then modify the list generated including the missing values which were not present in the columns but that appear in the description file, and we also modify the order of the values so that values that represent the best grades get the higher indices and the values that are associated with poor quality get bad grades. We did this manually since the number of attributes is not very large, but a better approach would be to read the description file and create this list directly from the values that are present there."
   ]
  },
  {
   "cell_type": "code",
   "execution_count": 86,
   "metadata": {},
   "outputs": [],
   "source": [
    "grdattr_grades = [['Grvl', 'Pave'], ['ELO', 'NoSeWa', 'NoSewr', 'AllPub'], ['Sev','Mod', 'Gtl'], ['Po','Fa', 'TA', 'Gd', 'Ex'], ['Po','Fa', 'TA', 'Gd', 'Ex'], ['NA',\"Po\",\"Fa\",\"TA\",\"Gd\",\"Ex\"], ['NA',\"Po\",\"Fa\",\"TA\",\"Gd\",\"Ex\"], ['NA', 'No', 'Mn', 'Av', 'Gd'], ['NA', 'Unf', 'Rec', 'LwQ', 'BLQ', 'ALQ', 'GLQ'], ['NA', 'Unf', 'Rec', 'LwQ', 'BLQ', 'ALQ', 'GLQ'], ['Po','Fa', 'TA', 'Gd', 'Ex'], ['N', 'Y'], ['Sal', 'Sev', 'Maj2', 'Maj1', 'Mod', 'Min2', 'Min1', 'Typ'], ['NA',\"Po\",\"Fa\",\"TA\",\"Gd\",\"Ex\"], ['NA',\"Po\",\"Fa\",\"TA\",\"Gd\",\"Ex\"], ['NA',\"Po\",\"Fa\",\"TA\",\"Gd\",\"Ex\"], ['N', 'P', 'Y'], ['NA', 'Fa', 'TA', 'Gd', 'Ex'], ['NA', 'MnWw', 'GdWo',  'MnPrv', 'GdPrv']]"
   ]
  },
  {
   "cell_type": "markdown",
   "metadata": {},
   "source": [
    "Now that we've settled this, we will create three different pipelines for each one of those groups to make it easier the cleaning and transformation of our dataset. This will make part of the finetuning much easier later on. But, first, we will create a transformation which will allow us to select the attributes we want and return a numpy array. We will create it in a way as to make it fully compatible with the pipeline module from scikitlearn:"
   ]
  },
  {
   "cell_type": "code",
   "execution_count": 87,
   "metadata": {},
   "outputs": [],
   "source": [
    "from sklearn.base import TransformerMixin, BaseEstimator\n",
    "\n",
    "class Selector(BaseEstimator, TransformerMixin):\n",
    "    def __init__(self,attribute_names):\n",
    "        self.attribute_names = attribute_names\n",
    "    def fit(self, DF, y=None):\n",
    "        return self\n",
    "    def transform(self, DF):\n",
    "        return DF[self.attribute_names].values"
   ]
  },
  {
   "cell_type": "markdown",
   "metadata": {},
   "source": [
    "We will also create two important categorical classes that will allow us to deal with the categorical attributes more efficiently:"
   ]
  },
  {
   "cell_type": "code",
   "execution_count": 88,
   "metadata": {},
   "outputs": [],
   "source": [
    "#allows us to fill all NaN categorical values with any text we want. Default = 'NA'\n",
    "class FillCatNaN(BaseEstimator,TransformerMixin):\n",
    "    def __init__(self,attribute_names,txt='NA'):\n",
    "        self.attribute_names = attribute_names\n",
    "        self.txt = txt\n",
    "    def fit(self, DF, y=None):\n",
    "        return self\n",
    "    def transform(self, DF):\n",
    "        for attr in self.attribute_names:\n",
    "            DF[attr].fillna(self.txt, inplace=True)\n",
    "        return DF\n",
    "\n",
    "#this class allows us to assign an integer value based on the string grade. For instance, 'Ex' = 5, 'TA'=3, 'Po'=1 and so on. \n",
    "#the higher the value, the better condition of the house is.\n",
    "class ChangeGrdTxtToNum(BaseEstimator,TransformerMixin):\n",
    "    def __init__(self,attribute_names,attribute_values):\n",
    "        self.attribute_names = attribute_names\n",
    "        self.attribute_values = attribute_values\n",
    "    def fit(self,DF,y=None):\n",
    "        return self\n",
    "    def transform(self, DF):\n",
    "        for i, attr in enumerate(self.attribute_names):\n",
    "            DF[attr] = DF[attr].apply(lambda x : self.attribute_values[i].index(x))\n",
    "        return DF\n",
    "    \n",
    "#this class creates a multicolumn label binarizer. this is important because the label binarizer that comes with scikit learn\n",
    "#only takes 1d arrays\n",
    "class MultiColumnLabelBinarizer(BaseEstimator,TransformerMixin):\n",
    "    def __init__(self,attribute_names):\n",
    "        self.attribute_names = attribute_names\n",
    "    def fit(self,DSET,y=None):\n",
    "        return self\n",
    "    def transform(self, DSET):\n",
    "        lb = LabelBinarizer()\n",
    "        lb.fit(DSET[:,0])\n",
    "        TRANSFMSET = lb.transform(DSET[:,0]) \n",
    "        for i, _ in enumerate(DSET[1,1:]):\n",
    "            lb.fit(DSET[:,i+1])\n",
    "            TEMP = lb.transform(DSET[:,i+1])\n",
    "            TRANSFMSET = np.column_stack((TRANSFMSET,TEMP))\n",
    "        return TRANSFMSET"
   ]
  },
  {
   "cell_type": "code",
   "execution_count": 89,
   "metadata": {},
   "outputs": [],
   "source": [
    "num_pipeline = Pipeline([\n",
    "        ('selector', Selector(num)),\n",
    "        ('imputer', Imputer(strategy='median')),\n",
    "        ('std_scaler', StandardScaler()),\n",
    "])\n",
    "\n",
    "grading_cat_pipeline = Pipeline([\n",
    "        ('fillcat', FillCatNaN(grading_attributes)),\n",
    "        ('txttonum', ChangeGrdTxtToNum(grading_attributes,grdattr_grades)),\n",
    "        ('selector', Selector(grading_attributes)),\n",
    "])\n",
    "\n",
    "desc_cat_pipeline = Pipeline([\n",
    "        ('fillcat', FillCatNaN(desc_attributes)),\n",
    "        ('selector', Selector(desc_attributes)),\n",
    "        ('label_binarizer', MultiColumnLabelBinarizer(desc_attributes)),\n",
    "])\n",
    "\n",
    "full_pipeline = FeatureUnion(transformer_list = [\n",
    "        ('num_pipeline', num_pipeline),\n",
    "        ('grading_cat_pipeline', grading_cat_pipeline),\n",
    "        ('desc_cat_pipeline', desc_cat_pipeline),\n",
    "])"
   ]
  },
  {
   "cell_type": "markdown",
   "metadata": {},
   "source": [
    "After creating the full transformation pipeline, we apply it to our dataset and subsequently check how the models we previously tried performed:"
   ]
  },
  {
   "cell_type": "code",
   "execution_count": 90,
   "metadata": {
    "scrolled": true
   },
   "outputs": [
    {
     "name": "stdout",
     "output_type": "stream",
     "text": [
      "['OverallCond', 'OverallQual', 'WoodDeckSF', 'BsmtFullBath', 'BsmtUnfSF', 'Fireplaces', 'BedroomAbvGr', 'LotFrontage', 'YrSold', 'GarageArea', 'LowQualFinSF', 'TotRmsAbvGrd', 'MoSold', 'GarageCars', 'ScreenPorch', 'GrLivArea', '1stFlrSF', 'GarageYrBlt', '2ndFlrSF', 'LotArea', 'YearBuilt', 'MiscVal', 'BsmtHalfBath', 'Id', 'TotalBsmtSF', 'MSSubClass', 'MasVnrArea', 'YearRemodAdd', '3SsnPorch', 'KitchenAbvGr', 'OpenPorchSF', 'FullBath', 'EnclosedPorch', 'BsmtFinSF2', 'BsmtFinSF1', 'PoolArea', 'HalfBath'] ['Street', 'Utilities', 'LandSlope', 'ExterQual', 'ExterCond', 'BsmtQual', 'BsmtCond', 'BsmtExposure', 'BsmtFinType1', 'BsmtFinType2', 'HeatingQC', 'CentralAir', 'Functional', 'FireplaceQu', 'GarageQual', 'GarageCond', 'PavedDrive', 'PoolQC', 'Fence'] ['GarageFinish', 'LotConfig', 'KitchenQual', 'MasVnrType', 'Alley', 'Heating', 'RoofMatl', 'Condition1', 'Electrical', 'LandContour', 'Exterior2nd', 'MiscFeature', 'BldgType', 'HouseStyle', 'SaleCondition', 'Condition2', 'Neighborhood', 'GarageType', 'MSZoning', 'Exterior1st', 'Foundation', 'SaleType', 'RoofStyle', 'LotShape']\n"
     ]
    }
   ],
   "source": [
    "num = housing._get_numeric_data().columns\n",
    "grading_attributes = ['Street','Utilities','LandSlope','ExterQual','ExterCond','BsmtQual','BsmtCond','BsmtExposure','BsmtFinType1','BsmtFinType2','HeatingQC','CentralAir','Functional','FireplaceQu','GarageQual','GarageCond','PavedDrive','PoolQC','Fence']\n",
    "desc_attributes = list(set(cat)-set(grading_attributes))\n",
    "num = list(set(num)-set(['SalePrice']))\n",
    "print(num, grading_attributes,desc_attributes)"
   ]
  },
  {
   "cell_type": "code",
   "execution_count": 91,
   "metadata": {},
   "outputs": [
    {
     "data": {
      "text/plain": [
       "(1460, 235)"
      ]
     },
     "execution_count": 91,
     "metadata": {},
     "output_type": "execute_result"
    }
   ],
   "source": [
    "housing2 = housing.copy()\n",
    "np.random.seed(42)\n",
    "housing_labels = housing2['SalePrice'].copy()\n",
    "housing2 = housing2.drop('SalePrice', axis=1)\n",
    "shuffle_indexes = np.random.permutation(len(housing_labels))\n",
    "housing_labels, housing2 = housing_labels[shuffle_indexes], pd.DataFrame(np.array(housing2)[shuffle_indexes], columns=housing2.columns)\n",
    "housing_prep = full_pipeline.fit_transform(housing2)\n",
    "housing_prep.shape"
   ]
  },
  {
   "cell_type": "code",
   "execution_count": 92,
   "metadata": {},
   "outputs": [
    {
     "name": "stdout",
     "output_type": "stream",
     "text": [
      "Scores: [17460.86712329 19409.82328767 15542.52876712 19553.49520548\n",
      " 22897.27739726 21642.29315068 19480.03767123 20636.03150685\n",
      " 19134.22671233 14577.35821918]\n",
      "Mean: 19033.39390410959\n",
      "Standard Deviation: 2438.0626422216733\n"
     ]
    }
   ],
   "source": [
    "# A random forest regressor model!\n",
    "forest_reg = RandomForestRegressor()\n",
    "forest_reg.fit(housing_prep,housing_labels.ravel())\n",
    "scores = cross_val_score(forest_reg, housing_prep,housing_labels.ravel(),scoring = 'neg_mean_absolute_error', cv=10)\n",
    "forest_reg_rmse_scores = -scores\n",
    "display_scores(forest_reg_rmse_scores)"
   ]
  },
  {
   "cell_type": "code",
   "execution_count": 93,
   "metadata": {
    "scrolled": true
   },
   "outputs": [
    {
     "name": "stdout",
     "output_type": "stream",
     "text": [
      "Scores: [2.96977029e+12 2.80370886e+11 6.09170865e+12 1.76457877e+04\n",
      " 4.74414616e+10 2.50113772e+13 1.17167538e+13 2.82605155e+12\n",
      " 2.70769818e+13 7.18167748e+12]\n",
      "Mean: 8320213309558.24\n",
      "Standard Deviation: 9535864521017.512\n"
     ]
    }
   ],
   "source": [
    "lin_reg = LinearRegression()\n",
    "lin_reg.fit(housing_prep,housing_labels)\n",
    "scores = cross_val_score(lin_reg, housing_prep, housing_labels,scoring = 'neg_mean_absolute_error', cv=10)\n",
    "lin_reg_rmse_scores = -scores\n",
    "display_scores(lin_reg_rmse_scores)"
   ]
  },
  {
   "cell_type": "code",
   "execution_count": 94,
   "metadata": {},
   "outputs": [
    {
     "name": "stdout",
     "output_type": "stream",
     "text": [
      "Scores: [22209.8630137  25196.56849315 24129.24657534 35282.23972603\n",
      " 26663.95890411 25276.3630137  25921.26027397 28468.67808219\n",
      " 23101.3630137  22115.1369863 ]\n",
      "Mean: 25836.46780821918\n",
      "Standard Deviation: 3673.720536959051\n"
     ]
    }
   ],
   "source": [
    "# A descision tree model!\n",
    "tree_reg = DecisionTreeRegressor()\n",
    "tree_reg.fit(housing_prep, housing_labels)\n",
    "scores = cross_val_score(tree_reg, housing_prep,housing_labels,scoring = 'neg_mean_absolute_error', cv=10)\n",
    "tree_reg_rmse_scores = -scores\n",
    "display_scores(tree_reg_rmse_scores)"
   ]
  },
  {
   "cell_type": "code",
   "execution_count": 95,
   "metadata": {
    "scrolled": false
   },
   "outputs": [
    {
     "name": "stdout",
     "output_type": "stream",
     "text": [
      "Scores: [62949.57115632 55940.86930677 51984.86146992 60380.78033003\n",
      " 55214.75986171 50240.22547586 60829.27378638 54345.86183891\n",
      " 52795.89958437 51136.0603204 ]\n",
      "Mean: 55581.81631306636\n",
      "Standard Deviation: 4190.914758557625\n"
     ]
    }
   ],
   "source": [
    "# A support vector machine regressor model!\n",
    "svm_reg = SVR()\n",
    "svm_reg.fit(housing_prep,housing_labels.ravel())\n",
    "scores = cross_val_score(svm_reg, housing_prep,housing_labels.ravel(),scoring = 'neg_mean_absolute_error', cv=10)\n",
    "svm_reg_rmse_scores = -scores\n",
    "display_scores(svm_reg_rmse_scores)"
   ]
  },
  {
   "cell_type": "markdown",
   "metadata": {},
   "source": [
    "No great changes!"
   ]
  },
  {
   "cell_type": "code",
   "execution_count": 96,
   "metadata": {},
   "outputs": [],
   "source": [
    "Attributes = []\n",
    "Attributes += num\n",
    "Attributes += grading_attributes\n",
    "lb = LabelBinarizer()\n",
    "h = housing.copy()\n",
    "FNaN = FillCatNaN(desc_attributes)\n",
    "FNaN.fit_transform(h)\n",
    "for el in desc_attributes:\n",
    "    lb.fit(h[el])\n",
    "    a = list(lb.classes_)\n",
    "    for i, word in enumerate(a):\n",
    "        a[i] = el + ' - ' + word \n",
    "    Attributes += a\n",
    "Attributes += ['SalePrice']"
   ]
  },
  {
   "cell_type": "markdown",
   "metadata": {},
   "source": [
    "Now that we have transformed our dataset, we have only numerical attributes. Next, we check the correlations between the predictors and target attributes, before and after the transformation. We can see that there is non negligible number of categorical attributes with high (anti)correlations with the Sale Price (before the transformation we couldn't see that!)."
   ]
  },
  {
   "cell_type": "code",
   "execution_count": 97,
   "metadata": {},
   "outputs": [
    {
     "data": {
      "text/plain": [
       "SalePrice                  1.000000\n",
       "OverallQual                0.790982\n",
       "GrLivArea                  0.708624\n",
       "ExterQual                  0.682639\n",
       "GarageCars                 0.640409\n",
       "GarageArea                 0.623431\n",
       "TotalBsmtSF                0.613581\n",
       "1stFlrSF                   0.605852\n",
       "BsmtQual                   0.585207\n",
       "FullBath                   0.560664\n",
       "TotRmsAbvGrd               0.533723\n",
       "YearBuilt                  0.522897\n",
       "FireplaceQu                0.520438\n",
       "YearRemodAdd               0.507101\n",
       "KitchenQual - Ex           0.504094\n",
       "Foundation - PConc         0.497734\n",
       "MasVnrArea                 0.472614\n",
       "Fireplaces                 0.466929\n",
       "GarageYrBlt                0.466754\n",
       "HeatingQC                  0.427649\n",
       "GarageFinish - Fin         0.419678\n",
       "Neighborhood - NridgHt     0.402149\n",
       "BsmtFinSF1                 0.386420\n",
       "BsmtExposure               0.374696\n",
       "SaleType - New             0.357509\n",
       "SaleCondition - Partial    0.352060\n",
       "GarageType - Attchd        0.335961\n",
       "LotFrontage                0.334771\n",
       "Name: SalePrice, dtype: float64"
      ]
     },
     "execution_count": 97,
     "metadata": {},
     "output_type": "execute_result"
    }
   ],
   "source": [
    "corr_matrix2 = pd.DataFrame(np.column_stack((housing_prep,housing_labels)), columns=Attributes).corr()\n",
    "#corr_matrix['SalePrice'].sort_values(ascending=False).head(15)\n",
    "corr = corr_matrix2.iloc[:,-1].sort_values(ascending=False).head(28)\n",
    "corr"
   ]
  },
  {
   "cell_type": "code",
   "execution_count": 98,
   "metadata": {},
   "outputs": [
    {
     "data": {
      "text/plain": [
       "SalePrice       1.000000\n",
       "OverallQual     0.790982\n",
       "GrLivArea       0.708624\n",
       "GarageCars      0.640409\n",
       "GarageArea      0.623431\n",
       "TotalBsmtSF     0.613581\n",
       "1stFlrSF        0.605852\n",
       "FullBath        0.560664\n",
       "TotRmsAbvGrd    0.533723\n",
       "YearBuilt       0.522897\n",
       "YearRemodAdd    0.507101\n",
       "GarageYrBlt     0.486362\n",
       "MasVnrArea      0.477493\n",
       "Fireplaces      0.466929\n",
       "BsmtFinSF1      0.386420\n",
       "LotFrontage     0.351799\n",
       "WoodDeckSF      0.324413\n",
       "2ndFlrSF        0.319334\n",
       "OpenPorchSF     0.315856\n",
       "HalfBath        0.284108\n",
       "Name: SalePrice, dtype: float64"
      ]
     },
     "execution_count": 98,
     "metadata": {},
     "output_type": "execute_result"
    }
   ],
   "source": [
    "corr_matrix = housing.corr()\n",
    "corr_matrix['SalePrice'].sort_values(ascending=False).head(20)"
   ]
  },
  {
   "cell_type": "markdown",
   "metadata": {
    "collapsed": true
   },
   "source": [
    "Let's attempt a grid search using the random forest regressor algorithm!"
   ]
  },
  {
   "cell_type": "code",
   "execution_count": 99,
   "metadata": {},
   "outputs": [],
   "source": [
    "from sklearn.model_selection import GridSearchCV"
   ]
  },
  {
   "cell_type": "code",
   "execution_count": 100,
   "metadata": {},
   "outputs": [],
   "source": [
    "param_grid = [\n",
    "    {'n_estimators': [800], 'max_features': [5,6,7]},\n",
    "    #{'bootstrap': [False], 'n_estimators': [3,30], 'max_features': [2, 8, 16]}\n",
    "]"
   ]
  },
  {
   "cell_type": "code",
   "execution_count": 101,
   "metadata": {},
   "outputs": [
    {
     "data": {
      "text/plain": [
       "GridSearchCV(cv=10, error_score='raise',\n",
       "       estimator=RandomForestRegressor(bootstrap=True, criterion='mse', max_depth=None,\n",
       "           max_features='auto', max_leaf_nodes=None,\n",
       "           min_impurity_decrease=0.0, min_impurity_split=None,\n",
       "           min_samples_leaf=1, min_samples_split=2,\n",
       "           min_weight_fraction_leaf=0.0, n_estimators=10, n_jobs=1,\n",
       "           oob_score=False, random_state=None, verbose=0, warm_start=False),\n",
       "       fit_params=None, iid=True, n_jobs=1,\n",
       "       param_grid=[{'n_estimators': [800], 'max_features': [5, 6, 7]}],\n",
       "       pre_dispatch='2*n_jobs', refit=True, return_train_score='warn',\n",
       "       scoring='neg_mean_absolute_error', verbose=0)"
      ]
     },
     "execution_count": 101,
     "metadata": {},
     "output_type": "execute_result"
    }
   ],
   "source": [
    "forest_reg = RandomForestRegressor()\n",
    "grid_search = GridSearchCV(forest_reg, param_grid, cv=10, scoring='neg_mean_absolute_error')\n",
    "grid_search.fit(housing_prep, housing_labels.ravel())"
   ]
  },
  {
   "cell_type": "code",
   "execution_count": 102,
   "metadata": {},
   "outputs": [
    {
     "data": {
      "text/plain": [
       "RandomForestRegressor(bootstrap=True, criterion='mse', max_depth=None,\n",
       "           max_features=7, max_leaf_nodes=None, min_impurity_decrease=0.0,\n",
       "           min_impurity_split=None, min_samples_leaf=1,\n",
       "           min_samples_split=2, min_weight_fraction_leaf=0.0,\n",
       "           n_estimators=800, n_jobs=1, oob_score=False, random_state=None,\n",
       "           verbose=0, warm_start=False)"
      ]
     },
     "execution_count": 102,
     "metadata": {},
     "output_type": "execute_result"
    }
   ],
   "source": [
    "grid_search.best_estimator_"
   ]
  },
  {
   "cell_type": "markdown",
   "metadata": {},
   "source": [
    "Now we can finally check what are the attributes that are not important to generate a good model! What's more it seems really strange that the Id attribute (which I forgot to remove earlier) is important to fit it."
   ]
  },
  {
   "cell_type": "code",
   "execution_count": 103,
   "metadata": {},
   "outputs": [
    {
     "data": {
      "text/plain": [
       "[(0.053093181718803145, 'OverallQual'),\n",
       " (0.05034656268329492, 'GrLivArea'),\n",
       " (0.03980022533862318, 'GarageArea'),\n",
       " (0.03677451530914446, 'TotalBsmtSF'),\n",
       " (0.036356434221533784, '1stFlrSF'),\n",
       " (0.03457243678766116, 'GarageCars'),\n",
       " (0.03329680352227829, 'YearBuilt'),\n",
       " (0.032504666800450714, 'BsmtQual'),\n",
       " (0.031644538592388416, 'ExterQual'),\n",
       " (0.02625310837276004, 'BsmtFinSF1'),\n",
       " (0.025039791486644765, 'FullBath'),\n",
       " (0.02358437025476613, 'GarageYrBlt'),\n",
       " (0.022995529322354758, 'TotRmsAbvGrd'),\n",
       " (0.022916066820253506, 'YearRemodAdd'),\n",
       " (0.022275637719385, 'LotArea'),\n",
       " (0.022013584309847265, '2ndFlrSF'),\n",
       " (0.021782577323154376, 'KitchenQual - Ex'),\n",
       " (0.019517311711286612, 'KitchenQual - TA'),\n",
       " (0.018206319868880893, 'MasVnrArea'),\n",
       " (0.017881367698075416, 'FireplaceQu'),\n",
       " (0.01665068374125854, 'Fireplaces'),\n",
       " (0.015939166533881655, 'OpenPorchSF'),\n",
       " (0.015803350488913574, 'LotFrontage'),\n",
       " (0.01556230369698055, 'Foundation - PConc'),\n",
       " (0.012388558100159661, 'BsmtFinType1'),\n",
       " (0.011443857459837795, 'WoodDeckSF'),\n",
       " (0.010757516860461676, 'HeatingQC'),\n",
       " (0.010644714853136818, 'BsmtUnfSF'),\n",
       " (0.010177849442354354, 'KitchenQual - Gd'),\n",
       " (0.00982125667202777, 'BsmtExposure'),\n",
       " (0.009059345792999383, 'GarageFinish - Fin'),\n",
       " (0.007470158051908244, 'Neighborhood - NridgHt'),\n",
       " (0.007409791133132454, 'GarageFinish - Unf'),\n",
       " (0.007383843433428234, 'BedroomAbvGr'),\n",
       " (0.007082876705272428, 'SaleCondition - Partial'),\n",
       " (0.006961668333219932, 'HalfBath'),\n",
       " (0.006851158281048464, 'SaleType - New'),\n",
       " (0.006844187637059029, 'GarageType - Attchd'),\n",
       " (0.006588189995605169, 'MasVnrType - None'),\n",
       " (0.006570016533859401, 'Id'),\n",
       " (0.006246079078595629, 'MSSubClass'),\n",
       " (0.006134685671292103, 'Neighborhood - NoRidge'),\n",
       " (0.0055346139660617435, 'LowQualFinSF'),\n",
       " (0.0054484696040779206, 'OverallCond'),\n",
       " (0.00543821381614314, 'GarageType - Detchd'),\n",
       " (0.005220214030405834, 'Foundation - CBlock'),\n",
       " (0.00496786364406268, 'HouseStyle - 2Story'),\n",
       " (0.004875273167331228, 'RoofStyle - Hip'),\n",
       " (0.0046813896494428105, 'RoofStyle - Gable'),\n",
       " (0.004496740730755475, 'MasVnrType - Stone'),\n",
       " (0.004254341014306995, 'BsmtFullBath'),\n",
       " (0.003939606529688224, 'GarageQual'),\n",
       " (0.0038977297226035316, 'YrSold'),\n",
       " (0.0038842561096312112, 'MSZoning - RM'),\n",
       " (0.00383124105930856, 'Exterior1st - VinylSd'),\n",
       " (0.0037600874885213987, 'Exterior2nd - VinylSd'),\n",
       " (0.003372947005327174, 'LotShape - Reg'),\n",
       " (0.003169865721033959, 'SaleType - WD'),\n",
       " (0.003134854947133547, 'MSZoning - RL'),\n",
       " (0.002863640333929474, 'GarageFinish - RFn'),\n",
       " (0.0028360234634162472, 'LotShape - IR1'),\n",
       " (0.002662001919129638, 'GarageCond'),\n",
       " (0.0025865445161761856, 'HouseStyle - 1Story'),\n",
       " (0.00254562443919706, 'MasVnrType - BrkFace'),\n",
       " (0.0025443039494208197, 'Neighborhood - StoneBr'),\n",
       " (0.002405034535229354, 'BldgType - 1Fam'),\n",
       " (0.0023171946506248737, 'ScreenPorch'),\n",
       " (0.002281720588773189, 'GarageType - BuiltIn'),\n",
       " (0.002270971961539472, 'BsmtCond'),\n",
       " (0.002256378852757756, 'CentralAir'),\n",
       " (0.0021695254798781848, 'RoofMatl - WdShngl'),\n",
       " (0.0021087249000694068, 'GarageType - NA'),\n",
       " (0.002075571581106361, 'Fence'),\n",
       " (0.0020461497415947376, 'SaleCondition - Normal'),\n",
       " (0.001866666548070764, 'EnclosedPorch'),\n",
       " (0.0018033896845789483, 'BsmtFinType2'),\n",
       " (0.0017805775560612884, 'LotConfig - Inside'),\n",
       " (0.0017738292860441573, 'PoolQC'),\n",
       " (0.0017657446184267788, 'LandContour - Lvl'),\n",
       " (0.0017386737592589086, 'PoolArea'),\n",
       " (0.0017368617265205492, 'GarageFinish - NA'),\n",
       " (0.001675160069065669, 'Exterior1st - CemntBd'),\n",
       " (0.0016727960548170715, 'LandSlope'),\n",
       " (0.001650890917077094, 'BsmtFinSF2'),\n",
       " (0.0016117754605972725, 'Exterior2nd - HdBoard'),\n",
       " (0.0016081805092196839, 'PavedDrive'),\n",
       " (0.0015733334682670444, 'Exterior1st - HdBoard'),\n",
       " (0.0015621212089241944, 'LotConfig - CulDSac'),\n",
       " (0.0014950437930836094, 'Exterior2nd - CmentBd'),\n",
       " (0.0014838262873346699, 'ExterCond'),\n",
       " (0.0014702816782704037, 'RoofMatl - CompShg'),\n",
       " (0.0014675636931352756, 'Neighborhood - NAmes'),\n",
       " (0.0014621522434239344, 'LotConfig - Corner'),\n",
       " (0.001427169421197973, 'Exterior1st - Wd Sdng'),\n",
       " (0.0014187270777023765, 'Neighborhood - Crawfor'),\n",
       " (0.0013493085356179096, 'Electrical - SBrkr'),\n",
       " (0.0013108443977112752, 'Neighborhood - Edwards'),\n",
       " (0.0012942768234168952, 'Condition1 - Norm'),\n",
       " (0.0012695927534299425, 'Functional'),\n",
       " (0.0012531963865236673, 'Exterior2nd - MetalSd'),\n",
       " (0.001244560198391108, 'LandContour - HLS'),\n",
       " (0.0012333509610028296, 'SaleCondition - Abnorml'),\n",
       " (0.0012205841812341263, 'Neighborhood - Somerst'),\n",
       " (0.0011557689914178848, 'Foundation - BrkTil'),\n",
       " (0.0010999903630738367, 'LotShape - IR2'),\n",
       " (0.0010969780563773956, 'Neighborhood - CollgCr'),\n",
       " (0.0010945440389133903, 'Exterior1st - MetalSd'),\n",
       " (0.001070668676077525, 'BsmtHalfBath'),\n",
       " (0.001065319994562246, 'Neighborhood - OldTown'),\n",
       " (0.0010428389130946773, 'Exterior1st - BrkFace'),\n",
       " (0.0010198627449870712, 'Exterior2nd - ImStucc'),\n",
       " (0.0009991260969855146, 'Exterior2nd - Wd Sdng'),\n",
       " (0.000940250168380454, 'LandContour - Bnk'),\n",
       " (0.0009027448050937441, 'KitchenAbvGr'),\n",
       " (0.0009017197575794802, 'BldgType - TwnhsE'),\n",
       " (0.0008828356542915293, 'HouseStyle - 1.5Fin'),\n",
       " (0.0008520192003589804, 'Electrical - FuseA'),\n",
       " (0.0008502523768469676, 'Neighborhood - Gilbert'),\n",
       " (0.0008442055012571787, 'Neighborhood - Timber'),\n",
       " (0.0007983661413091194, 'LandContour - Low'),\n",
       " (0.0007981525796389906, 'Exterior2nd - Plywood'),\n",
       " (0.0007273415953637637, 'Neighborhood - NWAmes'),\n",
       " (0.0006631850621897401, 'Exterior1st - Plywood'),\n",
       " (0.0006403551094721677, 'Exterior2nd - BrkFace'),\n",
       " (0.0006378203566228975, 'Condition1 - Feedr'),\n",
       " (0.0006210907881800626, 'MoSold'),\n",
       " (0.0006192725229912326, 'MSZoning - FV'),\n",
       " (0.0006186842150443438, 'Alley - NA'),\n",
       " (0.0005921083745602191, 'Neighborhood - ClearCr'),\n",
       " (0.0005744805998414478, 'Exterior2nd - Wd Shng'),\n",
       " (0.0005689602716864255, 'Neighborhood - IDOTRR'),\n",
       " (0.000565113161000576, 'Exterior2nd - Stucco'),\n",
       " (0.000554465138635401, 'KitchenQual - Fa'),\n",
       " (0.0005105707475701245, 'Exterior1st - Stucco'),\n",
       " (0.00047436380080122866, 'HouseStyle - 2.5Fin'),\n",
       " (0.00047375283930441365, 'Condition1 - PosN'),\n",
       " (0.0004619343016660187, 'BldgType - Twnhs'),\n",
       " (0.00044312766291924313, 'LotShape - IR3'),\n",
       " (0.00043888819692670716, 'BldgType - Duplex'),\n",
       " (0.00043605819796119894, 'Neighborhood - SawyerW'),\n",
       " (0.00043380957989488066, 'Heating - GasA'),\n",
       " (0.00043327819118518915, 'Neighborhood - Sawyer'),\n",
       " (0.0004203592824246295, 'Alley - Pave'),\n",
       " (0.0003815614418418426, 'Neighborhood - BrkSide'),\n",
       " (0.00037628223586716567, 'Condition1 - Artery'),\n",
       " (0.00036102837781555814, 'MiscVal'),\n",
       " (0.00033939348601067757, '3SsnPorch'),\n",
       " (0.0003378888150028044, 'HouseStyle - SLvl'),\n",
       " (0.00033726480227126037, 'Alley - Grvl'),\n",
       " (0.00033599956373549786, 'Neighborhood - Veenker'),\n",
       " (0.0003345225624583609, 'MSZoning - C (all)'),\n",
       " (0.00032918988158472983, 'Heating - GasW'),\n",
       " (0.0003205496398439683, 'Neighborhood - Mitchel'),\n",
       " (0.00029865270312513933, 'LotConfig - FR2'),\n",
       " (0.0002968890296734621, 'Foundation - Slab'),\n",
       " (0.00029600836127059265, 'Condition2 - Norm'),\n",
       " (0.00029175405695472026, 'SaleType - COD'),\n",
       " (0.0002889871010174674, 'Neighborhood - MeadowV'),\n",
       " (0.0002812549522905073, 'SaleCondition - Alloca'),\n",
       " (0.00026985543825878646, 'Exterior1st - WdShing'),\n",
       " (0.00026804617218715936, 'Electrical - FuseF'),\n",
       " (0.0002677274267704345, 'Condition1 - RRAn'),\n",
       " (0.0002590565045323344, 'HouseStyle - SFoyer'),\n",
       " (0.0002584731110556599, 'SaleCondition - Family'),\n",
       " (0.00024958736936110334, 'GarageType - Basment'),\n",
       " (0.00024343846681134824, 'MiscFeature - NA'),\n",
       " (0.00022403069014165051, 'Condition2 - PosN'),\n",
       " (0.0002195322521366056, 'MiscFeature - Shed'),\n",
       " (0.00021723615854110038, 'RoofStyle - Flat'),\n",
       " (0.0001991990342783026, 'Neighborhood - SWISU'),\n",
       " (0.00019812420631569325, 'BldgType - 2fmCon'),\n",
       " (0.00019731037373713122, 'Neighborhood - Blmngtn'),\n",
       " (0.00018300676265430564, 'RoofStyle - Gambrel'),\n",
       " (0.00017641196895196078, 'Exterior1st - AsbShng'),\n",
       " (0.00017191211062250644, 'Neighborhood - BrDale'),\n",
       " (0.00017126595231313203, 'MasVnrType - NA'),\n",
       " (0.0001542661680683414, 'Condition1 - PosA'),\n",
       " (0.00014827558627863468, 'RoofMatl - Tar&Grv'),\n",
       " (0.0001339032219956887, 'HouseStyle - 2.5Unf'),\n",
       " (0.00012843666812351685, 'SaleType - CWD'),\n",
       " (0.00012617209642224044, 'RoofMatl - WdShake'),\n",
       " (0.00012561801840859548, 'MasVnrType - BrkCmn'),\n",
       " (0.0001207299501630066, 'Exterior2nd - AsbShng'),\n",
       " (0.00011685910924234548, 'RoofMatl - ClyTile'),\n",
       " (0.00011376303573752304, 'Heating - Grav'),\n",
       " (0.00010965200553883309, 'Condition1 - RRAe'),\n",
       " (0.00010582921945748516, 'SaleType - ConLD'),\n",
       " (0.00010497863829711857, 'GarageType - CarPort'),\n",
       " (9.600962255175781e-05, 'Condition2 - PosA'),\n",
       " (9.163426236555533e-05, 'SaleType - ConLI'),\n",
       " (8.358277483012333e-05, 'Street'),\n",
       " (8.153365478044786e-05, 'SaleType - Con'),\n",
       " (7.620436425951157e-05, 'MSZoning - RH'),\n",
       " (6.995787126233154e-05, 'Foundation - Stone'),\n",
       " (6.391075198116221e-05, 'HouseStyle - 1.5Unf'),\n",
       " (5.575714517465011e-05, 'RoofStyle - Mansard'),\n",
       " (5.504455392493369e-05, 'Exterior2nd - Brk Cmn'),\n",
       " (4.939347383457483e-05, 'GarageType - 2Types'),\n",
       " (4.9281764232624915e-05, 'Exterior1st - Stone'),\n",
       " (4.841568887230676e-05, 'RoofStyle - Shed'),\n",
       " (4.7359129882182766e-05, 'Exterior1st - BrkComm'),\n",
       " (4.726716532837086e-05, 'Condition1 - RRNn'),\n",
       " (4.414029463273365e-05, 'RoofMatl - Membran'),\n",
       " (3.664460676696102e-05, 'Foundation - Wood'),\n",
       " (3.6299622830315174e-05, 'Exterior2nd - Stone'),\n",
       " (3.435008569283878e-05, 'SaleType - ConLw'),\n",
       " (3.083846987616676e-05, 'Neighborhood - NPkVill'),\n",
       " (2.6496721812530413e-05, 'LotConfig - FR3'),\n",
       " (2.4788860469332316e-05, 'Exterior2nd - Other'),\n",
       " (2.3049260187560288e-05, 'Condition2 - Feedr'),\n",
       " (2.1937684336864557e-05, 'Electrical - FuseP'),\n",
       " (2.1166918093523454e-05, 'MiscFeature - Othr'),\n",
       " (2.0757612916071444e-05, 'Condition2 - RRNn'),\n",
       " (1.9981597164498142e-05, 'SaleCondition - AdjLand'),\n",
       " (1.9816749816707786e-05, 'Heating - Wall'),\n",
       " (1.6872081755306498e-05, 'Exterior2nd - AsphShn'),\n",
       " (1.637138711759778e-05, 'Condition2 - Artery'),\n",
       " (1.627578603010918e-05, 'Exterior1st - CBlock'),\n",
       " (1.43237538284725e-05, 'Exterior1st - ImStucc'),\n",
       " (1.37197734639804e-05, 'MiscFeature - TenC'),\n",
       " (1.3544302920251724e-05, 'Heating - Floor'),\n",
       " (1.2234370325400154e-05, 'Electrical - Mix'),\n",
       " (9.980520341000291e-06, 'RoofMatl - Metal'),\n",
       " (9.277645885034368e-06, 'SaleType - Oth'),\n",
       " (9.160756691055953e-06, 'Condition1 - RRNe'),\n",
       " (8.764057744102671e-06, 'Electrical - NA'),\n",
       " (7.340859239918616e-06, 'Neighborhood - Blueste'),\n",
       " (7.078973647167212e-06, 'Heating - OthW'),\n",
       " (6.995613789105966e-06, 'MiscFeature - Gar2'),\n",
       " (5.403668979392593e-06, 'Exterior1st - AsphShn'),\n",
       " (4.8639632819479896e-06, 'Condition2 - RRAe'),\n",
       " (4.817228716255318e-06, 'Condition2 - RRAn'),\n",
       " (4.448349335223199e-06, 'Utilities'),\n",
       " (3.0518171285736065e-06, 'Exterior2nd - CBlock'),\n",
       " (1.378823146093768e-06, 'RoofMatl - Roll')]"
      ]
     },
     "execution_count": 103,
     "metadata": {},
     "output_type": "execute_result"
    }
   ],
   "source": [
    "feature_importances = grid_search.best_estimator_.feature_importances_\n",
    "Attr = Attributes\n",
    "Attr.pop(-1)\n",
    "bestattributes = sorted(zip(feature_importances,Attr), reverse = True)\n",
    "bestattributes"
   ]
  },
  {
   "cell_type": "markdown",
   "metadata": {},
   "source": [
    "What I'll do now to select the attributes that have a weight greater than 0.001. I'll try employing only those attributes to create the next model. Of course, I'll remove the Id attribute as well. Employing a list comprehension:"
   ]
  },
  {
   "cell_type": "code",
   "execution_count": 104,
   "metadata": {},
   "outputs": [],
   "source": [
    "abovethresh = [bestattributes[i][1] for i, _ in enumerate(bestattributes) if bestattributes[i][0] > 0.01 ]"
   ]
  },
  {
   "cell_type": "code",
   "execution_count": null,
   "metadata": {},
   "outputs": [],
   "source": []
  },
  {
   "cell_type": "code",
   "execution_count": 105,
   "metadata": {},
   "outputs": [],
   "source": [
    "#abovethresh.remove('Id')\n",
    "belowthresh = list(set(Attr) - set(abovethresh))\n",
    "indexed = pd.DataFrame(housing_prep, columns=Attr)\n",
    "housing_dropped = indexed.copy()\n",
    "for el in belowthresh:\n",
    "    housing_dropped = housing_dropped.drop(el, axis=1)"
   ]
  },
  {
   "cell_type": "markdown",
   "metadata": {},
   "source": [
    "We have just dropped 207 attributes:"
   ]
  },
  {
   "cell_type": "code",
   "execution_count": 106,
   "metadata": {},
   "outputs": [
    {
     "data": {
      "text/plain": [
       "206"
      ]
     },
     "execution_count": 106,
     "metadata": {},
     "output_type": "execute_result"
    }
   ],
   "source": [
    "len(belowthresh)"
   ]
  },
  {
   "cell_type": "code",
   "execution_count": 107,
   "metadata": {},
   "outputs": [],
   "source": [
    "select = Selector(abovethresh)\n",
    "housing_dropped_prep = select.fit_transform(housing_dropped)"
   ]
  },
  {
   "cell_type": "code",
   "execution_count": 108,
   "metadata": {},
   "outputs": [
    {
     "name": "stdout",
     "output_type": "stream",
     "text": [
      "Scores: [18378.73630137 20636.99611872 15580.69794521 20522.17876712\n",
      " 22586.18767123 21851.21369863 20341.33082192 19943.2869863\n",
      " 17895.98287671 14672.96027397]\n",
      "Mean: 19240.957146118722\n",
      "Standard Deviation: 2451.8365164572783\n"
     ]
    }
   ],
   "source": [
    "# A random forest regressor model!\n",
    "forest_reg = RandomForestRegressor()\n",
    "forest_reg.fit(housing_dropped_prep,housing_labels.ravel())\n",
    "scores = cross_val_score(forest_reg, housing_dropped_prep,housing_labels.ravel(),scoring = 'neg_mean_absolute_error', cv=10)\n",
    "forest_reg_rmse_scores = -scores\n",
    "display_scores(forest_reg_rmse_scores)"
   ]
  },
  {
   "cell_type": "code",
   "execution_count": 109,
   "metadata": {},
   "outputs": [
    {
     "name": "stdout",
     "output_type": "stream",
     "text": [
      "Scores: [22131.52603176 22795.35382798 19576.5089025  22384.54876545\n",
      " 23226.66734369 24411.36424021 20927.3054535  19254.04228856\n",
      " 19903.64208309 17165.21312297]\n",
      "Mean: 21177.617205971717\n",
      "Standard Deviation: 2090.1714603950873\n"
     ]
    }
   ],
   "source": [
    "lin_reg = LinearRegression()\n",
    "lin_reg.fit(housing_dropped_prep,housing_labels)\n",
    "scores = cross_val_score(lin_reg, housing_dropped_prep, housing_labels,scoring = 'neg_mean_absolute_error', cv=10)\n",
    "lin_reg_rmse_scores = -scores\n",
    "display_scores(lin_reg_rmse_scores)"
   ]
  },
  {
   "cell_type": "markdown",
   "metadata": {},
   "source": [
    "Have a look at the linear regression model, its a huge improvement over the model built upon the 235 column set. That probably has to do with the fact that many of the attributes were not independent! Let's make a grid search again."
   ]
  },
  {
   "cell_type": "code",
   "execution_count": 110,
   "metadata": {},
   "outputs": [
    {
     "data": {
      "text/plain": [
       "GridSearchCV(cv=10, error_score='raise',\n",
       "       estimator=RandomForestRegressor(bootstrap=True, criterion='mse', max_depth=None,\n",
       "           max_features='auto', max_leaf_nodes=None,\n",
       "           min_impurity_decrease=0.0, min_impurity_split=None,\n",
       "           min_samples_leaf=1, min_samples_split=2,\n",
       "           min_weight_fraction_leaf=0.0, n_estimators=10, n_jobs=1,\n",
       "           oob_score=False, random_state=None, verbose=0, warm_start=False),\n",
       "       fit_params=None, iid=True, n_jobs=1,\n",
       "       param_grid=[{'n_estimators': [800, 900], 'max_features': [7]}],\n",
       "       pre_dispatch='2*n_jobs', refit=True, return_train_score='warn',\n",
       "       scoring='neg_mean_absolute_error', verbose=0)"
      ]
     },
     "execution_count": 110,
     "metadata": {},
     "output_type": "execute_result"
    }
   ],
   "source": [
    "param_grid = [\n",
    "    {'n_estimators': [800,900], 'max_features': [7]},\n",
    "    #{'bootstrap': [False], 'n_estimators': [3,30], 'max_features': [2, 8, 16]}\n",
    "]\n",
    "forest_reg = RandomForestRegressor()\n",
    "grid_search = GridSearchCV(forest_reg, param_grid, cv=10, scoring='neg_mean_absolute_error')\n",
    "grid_search.fit(housing_dropped_prep, housing_labels.ravel())"
   ]
  },
  {
   "cell_type": "code",
   "execution_count": 111,
   "metadata": {},
   "outputs": [
    {
     "data": {
      "text/plain": [
       "array([0.20262422, 0.11383817, 0.0495742 , 0.06008971, 0.04519802,\n",
       "       0.08711251, 0.05146655, 0.03641093, 0.08939898, 0.02932813,\n",
       "       0.02267496, 0.0165489 , 0.01559358, 0.01415886, 0.02486226,\n",
       "       0.0303597 , 0.01447295, 0.00775473, 0.01174061, 0.01291913,\n",
       "       0.00933651, 0.00847867, 0.01250498, 0.00303983, 0.00538706,\n",
       "       0.00747607, 0.00234544, 0.00978562, 0.00551872])"
      ]
     },
     "execution_count": 111,
     "metadata": {},
     "output_type": "execute_result"
    }
   ],
   "source": [
    "feature_importances = grid_search.best_estimator_.feature_importances_\n",
    "feature_importances"
   ]
  },
  {
   "cell_type": "code",
   "execution_count": 112,
   "metadata": {},
   "outputs": [
    {
     "data": {
      "text/plain": [
       "RandomForestRegressor(bootstrap=True, criterion='mse', max_depth=None,\n",
       "           max_features=7, max_leaf_nodes=None, min_impurity_decrease=0.0,\n",
       "           min_impurity_split=None, min_samples_leaf=1,\n",
       "           min_samples_split=2, min_weight_fraction_leaf=0.0,\n",
       "           n_estimators=900, n_jobs=1, oob_score=False, random_state=None,\n",
       "           verbose=0, warm_start=False)"
      ]
     },
     "execution_count": 112,
     "metadata": {},
     "output_type": "execute_result"
    }
   ],
   "source": [
    "grid_search.best_estimator_"
   ]
  },
  {
   "cell_type": "code",
   "execution_count": 123,
   "metadata": {},
   "outputs": [
    {
     "name": "stdout",
     "output_type": "stream",
     "text": [
      "16869.001947080884 {'n_estimators': 800, 'max_features': 7}\n",
      "16800.922392675944 {'n_estimators': 900, 'max_features': 7}\n"
     ]
    }
   ],
   "source": [
    "cvres = grid_search.cv_results_\n",
    "for mean_score, params in zip(cvres[\"mean_test_score\"],cvres[\"params\"]):\n",
    "    print(-mean_score,params)"
   ]
  },
  {
   "cell_type": "markdown",
   "metadata": {},
   "source": [
    "Best model has a mean absolute error score of approximately 28584, a bit lower than the original model, but as low as we it could be yet. Below we list the most important attributes used to predict the Sale Price. They are list in order of importance (The first one is the most important and so on so forth)."
   ]
  },
  {
   "cell_type": "code",
   "execution_count": 114,
   "metadata": {},
   "outputs": [
    {
     "data": {
      "text/plain": [
       "29"
      ]
     },
     "execution_count": 114,
     "metadata": {},
     "output_type": "execute_result"
    }
   ],
   "source": [
    "len(abovethresh)"
   ]
  },
  {
   "cell_type": "code",
   "execution_count": 65,
   "metadata": {},
   "outputs": [
    {
     "ename": "ValueError",
     "evalue": "all the input array dimensions except for the concatenation axis must match exactly",
     "output_type": "error",
     "traceback": [
      "\u001b[0;31m---------------------------------------------------------------------------\u001b[0m",
      "\u001b[0;31mValueError\u001b[0m                                Traceback (most recent call last)",
      "\u001b[0;32m<ipython-input-65-12acc09686cd>\u001b[0m in \u001b[0;36m<module>\u001b[0;34m()\u001b[0m\n\u001b[0;32m----> 1\u001b[0;31m \u001b[0mcomparison\u001b[0m \u001b[0;34m=\u001b[0m \u001b[0mnp\u001b[0m\u001b[0;34m.\u001b[0m\u001b[0mcolumn_stack\u001b[0m\u001b[0;34m(\u001b[0m\u001b[0;34m(\u001b[0m\u001b[0mnp\u001b[0m\u001b[0;34m.\u001b[0m\u001b[0marray\u001b[0m\u001b[0;34m(\u001b[0m\u001b[0mabovethresh\u001b[0m\u001b[0;34m)\u001b[0m\u001b[0;34m,\u001b[0m\u001b[0mnp\u001b[0m\u001b[0;34m.\u001b[0m\u001b[0marray\u001b[0m\u001b[0;34m(\u001b[0m\u001b[0mlist\u001b[0m\u001b[0;34m(\u001b[0m\u001b[0mcorr\u001b[0m\u001b[0;34m.\u001b[0m\u001b[0mindex\u001b[0m\u001b[0;34m)\u001b[0m\u001b[0;34m)\u001b[0m\u001b[0;34m)\u001b[0m\u001b[0;34m)\u001b[0m\u001b[0;34m\u001b[0m\u001b[0m\n\u001b[0m",
      "\u001b[0;32m~/.local/lib/python3.5/site-packages/numpy/lib/shape_base.py\u001b[0m in \u001b[0;36mcolumn_stack\u001b[0;34m(tup)\u001b[0m\n\u001b[1;32m    367\u001b[0m             \u001b[0marr\u001b[0m \u001b[0;34m=\u001b[0m \u001b[0marray\u001b[0m\u001b[0;34m(\u001b[0m\u001b[0marr\u001b[0m\u001b[0;34m,\u001b[0m \u001b[0mcopy\u001b[0m\u001b[0;34m=\u001b[0m\u001b[0;32mFalse\u001b[0m\u001b[0;34m,\u001b[0m \u001b[0msubok\u001b[0m\u001b[0;34m=\u001b[0m\u001b[0;32mTrue\u001b[0m\u001b[0;34m,\u001b[0m \u001b[0mndmin\u001b[0m\u001b[0;34m=\u001b[0m\u001b[0;36m2\u001b[0m\u001b[0;34m)\u001b[0m\u001b[0;34m.\u001b[0m\u001b[0mT\u001b[0m\u001b[0;34m\u001b[0m\u001b[0m\n\u001b[1;32m    368\u001b[0m         \u001b[0marrays\u001b[0m\u001b[0;34m.\u001b[0m\u001b[0mappend\u001b[0m\u001b[0;34m(\u001b[0m\u001b[0marr\u001b[0m\u001b[0;34m)\u001b[0m\u001b[0;34m\u001b[0m\u001b[0m\n\u001b[0;32m--> 369\u001b[0;31m     \u001b[0;32mreturn\u001b[0m \u001b[0m_nx\u001b[0m\u001b[0;34m.\u001b[0m\u001b[0mconcatenate\u001b[0m\u001b[0;34m(\u001b[0m\u001b[0marrays\u001b[0m\u001b[0;34m,\u001b[0m \u001b[0;36m1\u001b[0m\u001b[0;34m)\u001b[0m\u001b[0;34m\u001b[0m\u001b[0m\n\u001b[0m\u001b[1;32m    370\u001b[0m \u001b[0;34m\u001b[0m\u001b[0m\n\u001b[1;32m    371\u001b[0m \u001b[0;32mdef\u001b[0m \u001b[0mdstack\u001b[0m\u001b[0;34m(\u001b[0m\u001b[0mtup\u001b[0m\u001b[0;34m)\u001b[0m\u001b[0;34m:\u001b[0m\u001b[0;34m\u001b[0m\u001b[0m\n",
      "\u001b[0;31mValueError\u001b[0m: all the input array dimensions except for the concatenation axis must match exactly"
     ]
    }
   ],
   "source": [
    "comparison = np.column_stack((np.array(abovethresh),np.array(list(corr.index))))"
   ]
  },
  {
   "cell_type": "code",
   "execution_count": null,
   "metadata": {},
   "outputs": [],
   "source": [
    "pd.DataFrame(comparison, columns=[\"Most important attributes according to RF model\",\"Most correlated attributes with target\"])"
   ]
  },
  {
   "cell_type": "code",
   "execution_count": null,
   "metadata": {},
   "outputs": [],
   "source": [
    "for attr in comparison[:,0]:\n",
    "    plt.title(attr)\n",
    "    housing_dropped[attr].hist()\n",
    "    plt.show()"
   ]
  },
  {
   "cell_type": "code",
   "execution_count": 115,
   "metadata": {},
   "outputs": [
    {
     "name": "stdout",
     "output_type": "stream",
     "text": [
      "Scores: [62996.44334753 55988.32647778 52027.78564981 60424.05470027\n",
      " 55260.76471192 50278.24634156 60873.58081606 54386.56417941\n",
      " 52835.84221243 51175.4160741 ]\n",
      "Mean: 55624.702451087265\n",
      "Standard Deviation: 4193.101758108621\n"
     ]
    }
   ],
   "source": [
    "svm_reg = SVR(kernel='rbf', C=10, gamma=10)\n",
    "svm_reg.fit(housing_dropped_prep,housing_labels.ravel())\n",
    "scores = cross_val_score(svm_reg, housing_dropped_prep,housing_labels.ravel(),scoring = 'neg_mean_absolute_error', cv=10)\n",
    "svm_reg_rmse_scores = -scores\n",
    "display_scores(svm_reg_rmse_scores)"
   ]
  },
  {
   "cell_type": "code",
   "execution_count": 116,
   "metadata": {},
   "outputs": [
    {
     "data": {
      "text/plain": [
       "GridSearchCV(cv=10, error_score='raise',\n",
       "       estimator=SVR(C=1.0, cache_size=200, coef0=0.0, degree=3, epsilon=0.1, gamma='auto',\n",
       "  kernel='rbf', max_iter=-1, shrinking=True, tol=0.001, verbose=False),\n",
       "       fit_params=None, iid=True, n_jobs=1,\n",
       "       param_grid=[{'C': [1, 10, 100, 1000, 10000], 'kernel': ['linear']}],\n",
       "       pre_dispatch='2*n_jobs', refit=True, return_train_score='warn',\n",
       "       scoring='neg_mean_absolute_error', verbose=0)"
      ]
     },
     "execution_count": 116,
     "metadata": {},
     "output_type": "execute_result"
    }
   ],
   "source": [
    "param_grid_svm = [\n",
    "    {\"kernel\": ['linear'], \"C\":[1,10,100,1000,10000]}\n",
    "]\n",
    "svm_reg = SVR()\n",
    "gridsvm = GridSearchCV(svm_reg, param_grid_svm, cv=10, scoring=\"neg_mean_absolute_error\")\n",
    "gridsvm.fit(housing_dropped_prep,housing_labels.ravel())"
   ]
  },
  {
   "cell_type": "code",
   "execution_count": 117,
   "metadata": {},
   "outputs": [
    {
     "data": {
      "text/plain": [
       "[(19597.81913025767, {'C': 10000, 'kernel': 'linear'}),\n",
       " (19616.083789996213, {'C': 1000, 'kernel': 'linear'}),\n",
       " (20413.765778663612, {'C': 100, 'kernel': 'linear'}),\n",
       " (25926.987560904945, {'C': 10, 'kernel': 'linear'}),\n",
       " (48683.06902785839, {'C': 1, 'kernel': 'linear'})]"
      ]
     },
     "execution_count": 117,
     "metadata": {},
     "output_type": "execute_result"
    }
   ],
   "source": [
    "sorted(zip(-gridsvm.cv_results_['mean_test_score'],gridsvm.cv_results_[\"params\"]))"
   ]
  },
  {
   "cell_type": "code",
   "execution_count": 118,
   "metadata": {},
   "outputs": [
    {
     "data": {
      "text/plain": [
       "RandomizedSearchCV(cv=10, error_score='raise',\n",
       "          estimator=SVR(C=1.0, cache_size=200, coef0=0.0, degree=3, epsilon=0.1, gamma='auto',\n",
       "  kernel='rbf', max_iter=-1, shrinking=True, tol=0.001, verbose=False),\n",
       "          fit_params=None, iid=True, n_iter=20, n_jobs=4,\n",
       "          param_distributions={'gamma': <scipy.stats._distn_infrastructure.rv_frozen object at 0x7f127ccb9a20>, 'C': <scipy.stats._distn_infrastructure.rv_frozen object at 0x7f127ccb9c88>, 'kernel': ['linear', 'rbf']},\n",
       "          pre_dispatch='2*n_jobs', random_state=42, refit=True,\n",
       "          return_train_score='warn', scoring='neg_mean_squared_error',\n",
       "          verbose=0)"
      ]
     },
     "execution_count": 118,
     "metadata": {},
     "output_type": "execute_result"
    }
   ],
   "source": [
    "from sklearn.model_selection import RandomizedSearchCV\n",
    "from scipy.stats import randint, expon, reciprocal\n",
    "\n",
    "rand_param_grid_svm =     {\"kernel\": ['linear','rbf'],  'C': reciprocal(20, 200000),  'gamma': expon(scale=1.0)}\n",
    "#   {\"kernel\": ['rbf'], \"C\": randint(low=1, high=50000), \"gamma\": randint(low=1, high=10000)}\n",
    "\n",
    "\n",
    "svm_reg = SVR()\n",
    "randsvm = RandomizedSearchCV(svm_reg, param_distributions=rand_param_grid_svm, n_iter=20, n_jobs=4, cv=10, random_state=42, scoring=\"neg_mean_squared_error\")\n",
    "randsvm.fit(housing_dropped_prep, housing_labels.ravel())"
   ]
  },
  {
   "cell_type": "code",
   "execution_count": 119,
   "metadata": {},
   "outputs": [
    {
     "data": {
      "text/plain": [
       "[(1144960906.8057904,\n",
       "  {'C': 113564.03940586245, 'gamma': 0.0007790692366582295, 'kernel': 'rbf'}),\n",
       " (1273197821.222116,\n",
       "  {'C': 5385.293820172355, 'gamma': 0.18696125197741642, 'kernel': 'linear'}),\n",
       " (1279742695.6302423,\n",
       "  {'C': 432.37884813148855, 'gamma': 0.15416196746656105, 'kernel': 'linear'}),\n",
       " (1282464244.1431406,\n",
       "  {'C': 34246.75194632794, 'gamma': 0.3632878599687583, 'kernel': 'linear'}),\n",
       " (1282493777.3375852,\n",
       "  {'C': 27652.464358739708, 'gamma': 0.2227358621286903, 'kernel': 'linear'}),\n",
       " (1284047777.8815928,\n",
       "  {'C': 629.782329591372, 'gamma': 3.010121430917521, 'kernel': 'linear'}),\n",
       " (1288684571.60964,\n",
       "  {'C': 171377.39570378003, 'gamma': 0.628789100540856, 'kernel': 'linear'}),\n",
       " (1339335016.8300045,\n",
       "  {'C': 135.76775824842434, 'gamma': 0.838636245624803, 'kernel': 'linear'}),\n",
       " (1426395234.7563221,\n",
       "  {'C': 61.54360542501371, 'gamma': 0.6835472281341501, 'kernel': 'linear'}),\n",
       " (1697908645.406817,\n",
       "  {'C': 21.344953672647435,\n",
       "   'gamma': 0.023332523598323388,\n",
       "   'kernel': 'linear'}),\n",
       " (3524010688.6994414,\n",
       "  {'C': 157055.10989448498, 'gamma': 0.26497040005002437, 'kernel': 'rbf'}),\n",
       " (4342772242.810467,\n",
       "  {'C': 5603.270317432516, 'gamma': 0.15023452872733867, 'kernel': 'rbf'}),\n",
       " (5909533337.83823,\n",
       "  {'C': 8935.505635947808, 'gamma': 0.37354658165762367, 'kernel': 'rbf'}),\n",
       " (6157590207.848158,\n",
       "  {'C': 84.14107900575871, 'gamma': 0.059838768608680676, 'kernel': 'rbf'}),\n",
       " (6418846008.432354,\n",
       "  {'C': 26290.206464300216, 'gamma': 0.9084469696321253, 'kernel': 'rbf'}),\n",
       " (6582476422.43536,\n",
       "  {'C': 167.7278956080511, 'gamma': 0.2757870542258224, 'kernel': 'rbf'}),\n",
       " (6610720580.036036,\n",
       "  {'C': 108.30488238805073, 'gamma': 0.3627537294604771, 'kernel': 'rbf'}),\n",
       " (6619419530.413402,\n",
       "  {'C': 98.73897389920914, 'gamma': 0.4960365360493639, 'kernel': 'rbf'}),\n",
       " (6625774654.149524,\n",
       "  {'C': 22.59903216621323, 'gamma': 2.850796878935603, 'kernel': 'rbf'}),\n",
       " (6625785982.885965,\n",
       "  {'C': 24.17508294611391, 'gamma': 3.503557475158312, 'kernel': 'rbf'})]"
      ]
     },
     "execution_count": 119,
     "metadata": {},
     "output_type": "execute_result"
    }
   ],
   "source": [
    "sorted(zip(-randsvm.cv_results_['mean_test_score'],randsvm.cv_results_[\"params\"]))"
   ]
  },
  {
   "cell_type": "code",
   "execution_count": 120,
   "metadata": {},
   "outputs": [],
   "source": [
    "def indices_of_top_k(arr, k):\n",
    "    return np.sort(np.argpartition(np.array(arr), -k)[-k:])\n",
    "\n",
    "class TopFeatureSelector(BaseEstimator, TransformerMixin):\n",
    "    def __init__(self, feature_importances, k):\n",
    "        self.feature_importances = feature_importances\n",
    "        self.k = k\n",
    "    def fit(self, X, y=None):\n",
    "        self.feature_indices_ = indices_of_top_k(self.feature_importances, self.k)\n",
    "        return self\n",
    "    def transform(self, X):\n",
    "        return X[:, self.feature_indices_]"
   ]
  },
  {
   "cell_type": "code",
   "execution_count": 121,
   "metadata": {},
   "outputs": [],
   "source": [
    "k=28\n",
    "feature_importances = grid_search.best_estimator_.feature_importances_\n",
    "\n",
    "transf_pipeline = Pipeline([\n",
    " #   ('preparation', full_pipeline),\n",
    "    ('feature_selection', TopFeatureSelector(feature_importances, k))\n",
    "])\n",
    "\n",
    "new_housing = transf_pipeline.fit_transform(housing_dropped_prep)"
   ]
  },
  {
   "cell_type": "code",
   "execution_count": 122,
   "metadata": {},
   "outputs": [
    {
     "name": "stdout",
     "output_type": "stream",
     "text": [
      "Scores: [22490.7699658  22870.90163461 19565.92131711 22402.89998432\n",
      " 23121.52312086 24296.49262736 21238.49550211 19296.73358621\n",
      " 19876.6530806  17416.90794248]\n",
      "Mean: 21257.72987614675\n",
      "Standard Deviation: 2037.3833397509068\n"
     ]
    }
   ],
   "source": [
    "lin_reg = LinearRegression()\n",
    "lin_reg.fit(new_housing,housing_labels)\n",
    "scores = cross_val_score(lin_reg, new_housing, housing_labels,scoring = 'neg_mean_absolute_error', cv=10)\n",
    "lin_reg_rmse_scores = -scores\n",
    "display_scores(lin_reg_rmse_scores)"
   ]
  },
  {
   "cell_type": "code",
   "execution_count": null,
   "metadata": {
    "collapsed": true
   },
   "outputs": [],
   "source": []
  }
 ],
 "metadata": {
  "kernelspec": {
   "display_name": "Python 3",
   "language": "python",
   "name": "python3"
  },
  "language_info": {
   "codemirror_mode": {
    "name": "ipython",
    "version": 3
   },
   "file_extension": ".py",
   "mimetype": "text/x-python",
   "name": "python",
   "nbconvert_exporter": "python",
   "pygments_lexer": "ipython3",
   "version": "3.5.2"
  }
 },
 "nbformat": 4,
 "nbformat_minor": 2
}
