{
 "cells": [
  {
   "cell_type": "markdown",
   "metadata": {},
   "source": [
    "# Housing prices in Ames, Iwoa (dataset downloaded from Kaggle)"
   ]
  },
  {
   "cell_type": "markdown",
   "metadata": {},
   "source": [
    "We first import the libraries:"
   ]
  },
  {
   "cell_type": "code",
   "execution_count": 2,
   "metadata": {
    "collapsed": true
   },
   "outputs": [],
   "source": [
    "#importing main libraries\n",
    "\n",
    "import pandas as pd\n",
    "import numpy as np\n",
    "import matplotlib.pyplot as plt"
   ]
  },
  {
   "cell_type": "markdown",
   "metadata": {},
   "source": [
    "We then load the data (training set into the housing variable and the validation set into validation_set):"
   ]
  },
  {
   "cell_type": "code",
   "execution_count": 3,
   "metadata": {
    "collapsed": true
   },
   "outputs": [],
   "source": [
    "housing = pd.read_csv('./../1 - Dados Originais/train.csv')\n",
    "validation_set = pd.read_csv('./../1 - Dados Originais/test.csv')"
   ]
  },
  {
   "cell_type": "markdown",
   "metadata": {},
   "source": [
    "We now have a check some entries and the type of the different attributes in the dataset (what are the categorical and the numerical ones?):"
   ]
  },
  {
   "cell_type": "code",
   "execution_count": 4,
   "metadata": {},
   "outputs": [
    {
     "data": {
      "text/html": [
       "<div>\n",
       "<style>\n",
       "    .dataframe thead tr:only-child th {\n",
       "        text-align: right;\n",
       "    }\n",
       "\n",
       "    .dataframe thead th {\n",
       "        text-align: left;\n",
       "    }\n",
       "\n",
       "    .dataframe tbody tr th {\n",
       "        vertical-align: top;\n",
       "    }\n",
       "</style>\n",
       "<table border=\"1\" class=\"dataframe\">\n",
       "  <thead>\n",
       "    <tr style=\"text-align: right;\">\n",
       "      <th></th>\n",
       "      <th>Id</th>\n",
       "      <th>MSSubClass</th>\n",
       "      <th>MSZoning</th>\n",
       "      <th>LotFrontage</th>\n",
       "      <th>LotArea</th>\n",
       "      <th>Street</th>\n",
       "      <th>Alley</th>\n",
       "      <th>LotShape</th>\n",
       "      <th>LandContour</th>\n",
       "      <th>Utilities</th>\n",
       "      <th>...</th>\n",
       "      <th>PoolArea</th>\n",
       "      <th>PoolQC</th>\n",
       "      <th>Fence</th>\n",
       "      <th>MiscFeature</th>\n",
       "      <th>MiscVal</th>\n",
       "      <th>MoSold</th>\n",
       "      <th>YrSold</th>\n",
       "      <th>SaleType</th>\n",
       "      <th>SaleCondition</th>\n",
       "      <th>SalePrice</th>\n",
       "    </tr>\n",
       "  </thead>\n",
       "  <tbody>\n",
       "    <tr>\n",
       "      <th>0</th>\n",
       "      <td>1</td>\n",
       "      <td>60</td>\n",
       "      <td>RL</td>\n",
       "      <td>65.0</td>\n",
       "      <td>8450</td>\n",
       "      <td>Pave</td>\n",
       "      <td>NaN</td>\n",
       "      <td>Reg</td>\n",
       "      <td>Lvl</td>\n",
       "      <td>AllPub</td>\n",
       "      <td>...</td>\n",
       "      <td>0</td>\n",
       "      <td>NaN</td>\n",
       "      <td>NaN</td>\n",
       "      <td>NaN</td>\n",
       "      <td>0</td>\n",
       "      <td>2</td>\n",
       "      <td>2008</td>\n",
       "      <td>WD</td>\n",
       "      <td>Normal</td>\n",
       "      <td>208500</td>\n",
       "    </tr>\n",
       "    <tr>\n",
       "      <th>1</th>\n",
       "      <td>2</td>\n",
       "      <td>20</td>\n",
       "      <td>RL</td>\n",
       "      <td>80.0</td>\n",
       "      <td>9600</td>\n",
       "      <td>Pave</td>\n",
       "      <td>NaN</td>\n",
       "      <td>Reg</td>\n",
       "      <td>Lvl</td>\n",
       "      <td>AllPub</td>\n",
       "      <td>...</td>\n",
       "      <td>0</td>\n",
       "      <td>NaN</td>\n",
       "      <td>NaN</td>\n",
       "      <td>NaN</td>\n",
       "      <td>0</td>\n",
       "      <td>5</td>\n",
       "      <td>2007</td>\n",
       "      <td>WD</td>\n",
       "      <td>Normal</td>\n",
       "      <td>181500</td>\n",
       "    </tr>\n",
       "    <tr>\n",
       "      <th>2</th>\n",
       "      <td>3</td>\n",
       "      <td>60</td>\n",
       "      <td>RL</td>\n",
       "      <td>68.0</td>\n",
       "      <td>11250</td>\n",
       "      <td>Pave</td>\n",
       "      <td>NaN</td>\n",
       "      <td>IR1</td>\n",
       "      <td>Lvl</td>\n",
       "      <td>AllPub</td>\n",
       "      <td>...</td>\n",
       "      <td>0</td>\n",
       "      <td>NaN</td>\n",
       "      <td>NaN</td>\n",
       "      <td>NaN</td>\n",
       "      <td>0</td>\n",
       "      <td>9</td>\n",
       "      <td>2008</td>\n",
       "      <td>WD</td>\n",
       "      <td>Normal</td>\n",
       "      <td>223500</td>\n",
       "    </tr>\n",
       "    <tr>\n",
       "      <th>3</th>\n",
       "      <td>4</td>\n",
       "      <td>70</td>\n",
       "      <td>RL</td>\n",
       "      <td>60.0</td>\n",
       "      <td>9550</td>\n",
       "      <td>Pave</td>\n",
       "      <td>NaN</td>\n",
       "      <td>IR1</td>\n",
       "      <td>Lvl</td>\n",
       "      <td>AllPub</td>\n",
       "      <td>...</td>\n",
       "      <td>0</td>\n",
       "      <td>NaN</td>\n",
       "      <td>NaN</td>\n",
       "      <td>NaN</td>\n",
       "      <td>0</td>\n",
       "      <td>2</td>\n",
       "      <td>2006</td>\n",
       "      <td>WD</td>\n",
       "      <td>Abnorml</td>\n",
       "      <td>140000</td>\n",
       "    </tr>\n",
       "    <tr>\n",
       "      <th>4</th>\n",
       "      <td>5</td>\n",
       "      <td>60</td>\n",
       "      <td>RL</td>\n",
       "      <td>84.0</td>\n",
       "      <td>14260</td>\n",
       "      <td>Pave</td>\n",
       "      <td>NaN</td>\n",
       "      <td>IR1</td>\n",
       "      <td>Lvl</td>\n",
       "      <td>AllPub</td>\n",
       "      <td>...</td>\n",
       "      <td>0</td>\n",
       "      <td>NaN</td>\n",
       "      <td>NaN</td>\n",
       "      <td>NaN</td>\n",
       "      <td>0</td>\n",
       "      <td>12</td>\n",
       "      <td>2008</td>\n",
       "      <td>WD</td>\n",
       "      <td>Normal</td>\n",
       "      <td>250000</td>\n",
       "    </tr>\n",
       "  </tbody>\n",
       "</table>\n",
       "<p>5 rows × 81 columns</p>\n",
       "</div>"
      ],
      "text/plain": [
       "   Id  MSSubClass MSZoning  LotFrontage  LotArea Street Alley LotShape  \\\n",
       "0   1          60       RL         65.0     8450   Pave   NaN      Reg   \n",
       "1   2          20       RL         80.0     9600   Pave   NaN      Reg   \n",
       "2   3          60       RL         68.0    11250   Pave   NaN      IR1   \n",
       "3   4          70       RL         60.0     9550   Pave   NaN      IR1   \n",
       "4   5          60       RL         84.0    14260   Pave   NaN      IR1   \n",
       "\n",
       "  LandContour Utilities    ...     PoolArea PoolQC Fence MiscFeature MiscVal  \\\n",
       "0         Lvl    AllPub    ...            0    NaN   NaN         NaN       0   \n",
       "1         Lvl    AllPub    ...            0    NaN   NaN         NaN       0   \n",
       "2         Lvl    AllPub    ...            0    NaN   NaN         NaN       0   \n",
       "3         Lvl    AllPub    ...            0    NaN   NaN         NaN       0   \n",
       "4         Lvl    AllPub    ...            0    NaN   NaN         NaN       0   \n",
       "\n",
       "  MoSold YrSold  SaleType  SaleCondition  SalePrice  \n",
       "0      2   2008        WD         Normal     208500  \n",
       "1      5   2007        WD         Normal     181500  \n",
       "2      9   2008        WD         Normal     223500  \n",
       "3      2   2006        WD        Abnorml     140000  \n",
       "4     12   2008        WD         Normal     250000  \n",
       "\n",
       "[5 rows x 81 columns]"
      ]
     },
     "execution_count": 4,
     "metadata": {},
     "output_type": "execute_result"
    }
   ],
   "source": [
    "housing.head()"
   ]
  },
  {
   "cell_type": "code",
   "execution_count": 5,
   "metadata": {},
   "outputs": [
    {
     "name": "stdout",
     "output_type": "stream",
     "text": [
      "<class 'pandas.core.frame.DataFrame'>\n",
      "RangeIndex: 1460 entries, 0 to 1459\n",
      "Data columns (total 81 columns):\n",
      "Id               1460 non-null int64\n",
      "MSSubClass       1460 non-null int64\n",
      "MSZoning         1460 non-null object\n",
      "LotFrontage      1201 non-null float64\n",
      "LotArea          1460 non-null int64\n",
      "Street           1460 non-null object\n",
      "Alley            91 non-null object\n",
      "LotShape         1460 non-null object\n",
      "LandContour      1460 non-null object\n",
      "Utilities        1460 non-null object\n",
      "LotConfig        1460 non-null object\n",
      "LandSlope        1460 non-null object\n",
      "Neighborhood     1460 non-null object\n",
      "Condition1       1460 non-null object\n",
      "Condition2       1460 non-null object\n",
      "BldgType         1460 non-null object\n",
      "HouseStyle       1460 non-null object\n",
      "OverallQual      1460 non-null int64\n",
      "OverallCond      1460 non-null int64\n",
      "YearBuilt        1460 non-null int64\n",
      "YearRemodAdd     1460 non-null int64\n",
      "RoofStyle        1460 non-null object\n",
      "RoofMatl         1460 non-null object\n",
      "Exterior1st      1460 non-null object\n",
      "Exterior2nd      1460 non-null object\n",
      "MasVnrType       1452 non-null object\n",
      "MasVnrArea       1452 non-null float64\n",
      "ExterQual        1460 non-null object\n",
      "ExterCond        1460 non-null object\n",
      "Foundation       1460 non-null object\n",
      "BsmtQual         1423 non-null object\n",
      "BsmtCond         1423 non-null object\n",
      "BsmtExposure     1422 non-null object\n",
      "BsmtFinType1     1423 non-null object\n",
      "BsmtFinSF1       1460 non-null int64\n",
      "BsmtFinType2     1422 non-null object\n",
      "BsmtFinSF2       1460 non-null int64\n",
      "BsmtUnfSF        1460 non-null int64\n",
      "TotalBsmtSF      1460 non-null int64\n",
      "Heating          1460 non-null object\n",
      "HeatingQC        1460 non-null object\n",
      "CentralAir       1460 non-null object\n",
      "Electrical       1459 non-null object\n",
      "1stFlrSF         1460 non-null int64\n",
      "2ndFlrSF         1460 non-null int64\n",
      "LowQualFinSF     1460 non-null int64\n",
      "GrLivArea        1460 non-null int64\n",
      "BsmtFullBath     1460 non-null int64\n",
      "BsmtHalfBath     1460 non-null int64\n",
      "FullBath         1460 non-null int64\n",
      "HalfBath         1460 non-null int64\n",
      "BedroomAbvGr     1460 non-null int64\n",
      "KitchenAbvGr     1460 non-null int64\n",
      "KitchenQual      1460 non-null object\n",
      "TotRmsAbvGrd     1460 non-null int64\n",
      "Functional       1460 non-null object\n",
      "Fireplaces       1460 non-null int64\n",
      "FireplaceQu      770 non-null object\n",
      "GarageType       1379 non-null object\n",
      "GarageYrBlt      1379 non-null float64\n",
      "GarageFinish     1379 non-null object\n",
      "GarageCars       1460 non-null int64\n",
      "GarageArea       1460 non-null int64\n",
      "GarageQual       1379 non-null object\n",
      "GarageCond       1379 non-null object\n",
      "PavedDrive       1460 non-null object\n",
      "WoodDeckSF       1460 non-null int64\n",
      "OpenPorchSF      1460 non-null int64\n",
      "EnclosedPorch    1460 non-null int64\n",
      "3SsnPorch        1460 non-null int64\n",
      "ScreenPorch      1460 non-null int64\n",
      "PoolArea         1460 non-null int64\n",
      "PoolQC           7 non-null object\n",
      "Fence            281 non-null object\n",
      "MiscFeature      54 non-null object\n",
      "MiscVal          1460 non-null int64\n",
      "MoSold           1460 non-null int64\n",
      "YrSold           1460 non-null int64\n",
      "SaleType         1460 non-null object\n",
      "SaleCondition    1460 non-null object\n",
      "SalePrice        1460 non-null int64\n",
      "dtypes: float64(3), int64(35), object(43)\n",
      "memory usage: 924.0+ KB\n"
     ]
    }
   ],
   "source": [
    "housing.info()"
   ]
  },
  {
   "cell_type": "markdown",
   "metadata": {},
   "source": [
    "As we can see there are 38 are numerical attributes and 43 categorical ones, with a total of 81 attributes. Naturally some of the 35 integer attributes may be discrete. There are also 1460 entries in the training set. We can see that there are some attributes with a lot of missing instances (such as PoolQC, MiscFeature and Fence). Perhaps, we can throw some away in future steps? For now lets hold onto all the data.\n",
    "Next, we call the describe function to probe the properties of the numerical attributes:"
   ]
  },
  {
   "cell_type": "code",
   "execution_count": 6,
   "metadata": {},
   "outputs": [
    {
     "data": {
      "text/html": [
       "<div>\n",
       "<style>\n",
       "    .dataframe thead tr:only-child th {\n",
       "        text-align: right;\n",
       "    }\n",
       "\n",
       "    .dataframe thead th {\n",
       "        text-align: left;\n",
       "    }\n",
       "\n",
       "    .dataframe tbody tr th {\n",
       "        vertical-align: top;\n",
       "    }\n",
       "</style>\n",
       "<table border=\"1\" class=\"dataframe\">\n",
       "  <thead>\n",
       "    <tr style=\"text-align: right;\">\n",
       "      <th></th>\n",
       "      <th>Id</th>\n",
       "      <th>MSSubClass</th>\n",
       "      <th>LotFrontage</th>\n",
       "      <th>LotArea</th>\n",
       "      <th>OverallQual</th>\n",
       "      <th>OverallCond</th>\n",
       "      <th>YearBuilt</th>\n",
       "      <th>YearRemodAdd</th>\n",
       "      <th>MasVnrArea</th>\n",
       "      <th>BsmtFinSF1</th>\n",
       "      <th>...</th>\n",
       "      <th>WoodDeckSF</th>\n",
       "      <th>OpenPorchSF</th>\n",
       "      <th>EnclosedPorch</th>\n",
       "      <th>3SsnPorch</th>\n",
       "      <th>ScreenPorch</th>\n",
       "      <th>PoolArea</th>\n",
       "      <th>MiscVal</th>\n",
       "      <th>MoSold</th>\n",
       "      <th>YrSold</th>\n",
       "      <th>SalePrice</th>\n",
       "    </tr>\n",
       "  </thead>\n",
       "  <tbody>\n",
       "    <tr>\n",
       "      <th>count</th>\n",
       "      <td>1460.000000</td>\n",
       "      <td>1460.000000</td>\n",
       "      <td>1201.000000</td>\n",
       "      <td>1460.000000</td>\n",
       "      <td>1460.000000</td>\n",
       "      <td>1460.000000</td>\n",
       "      <td>1460.000000</td>\n",
       "      <td>1460.000000</td>\n",
       "      <td>1452.000000</td>\n",
       "      <td>1460.000000</td>\n",
       "      <td>...</td>\n",
       "      <td>1460.000000</td>\n",
       "      <td>1460.000000</td>\n",
       "      <td>1460.000000</td>\n",
       "      <td>1460.000000</td>\n",
       "      <td>1460.000000</td>\n",
       "      <td>1460.000000</td>\n",
       "      <td>1460.000000</td>\n",
       "      <td>1460.000000</td>\n",
       "      <td>1460.000000</td>\n",
       "      <td>1460.000000</td>\n",
       "    </tr>\n",
       "    <tr>\n",
       "      <th>mean</th>\n",
       "      <td>730.500000</td>\n",
       "      <td>56.897260</td>\n",
       "      <td>70.049958</td>\n",
       "      <td>10516.828082</td>\n",
       "      <td>6.099315</td>\n",
       "      <td>5.575342</td>\n",
       "      <td>1971.267808</td>\n",
       "      <td>1984.865753</td>\n",
       "      <td>103.685262</td>\n",
       "      <td>443.639726</td>\n",
       "      <td>...</td>\n",
       "      <td>94.244521</td>\n",
       "      <td>46.660274</td>\n",
       "      <td>21.954110</td>\n",
       "      <td>3.409589</td>\n",
       "      <td>15.060959</td>\n",
       "      <td>2.758904</td>\n",
       "      <td>43.489041</td>\n",
       "      <td>6.321918</td>\n",
       "      <td>2007.815753</td>\n",
       "      <td>180921.195890</td>\n",
       "    </tr>\n",
       "    <tr>\n",
       "      <th>std</th>\n",
       "      <td>421.610009</td>\n",
       "      <td>42.300571</td>\n",
       "      <td>24.284752</td>\n",
       "      <td>9981.264932</td>\n",
       "      <td>1.382997</td>\n",
       "      <td>1.112799</td>\n",
       "      <td>30.202904</td>\n",
       "      <td>20.645407</td>\n",
       "      <td>181.066207</td>\n",
       "      <td>456.098091</td>\n",
       "      <td>...</td>\n",
       "      <td>125.338794</td>\n",
       "      <td>66.256028</td>\n",
       "      <td>61.119149</td>\n",
       "      <td>29.317331</td>\n",
       "      <td>55.757415</td>\n",
       "      <td>40.177307</td>\n",
       "      <td>496.123024</td>\n",
       "      <td>2.703626</td>\n",
       "      <td>1.328095</td>\n",
       "      <td>79442.502883</td>\n",
       "    </tr>\n",
       "    <tr>\n",
       "      <th>min</th>\n",
       "      <td>1.000000</td>\n",
       "      <td>20.000000</td>\n",
       "      <td>21.000000</td>\n",
       "      <td>1300.000000</td>\n",
       "      <td>1.000000</td>\n",
       "      <td>1.000000</td>\n",
       "      <td>1872.000000</td>\n",
       "      <td>1950.000000</td>\n",
       "      <td>0.000000</td>\n",
       "      <td>0.000000</td>\n",
       "      <td>...</td>\n",
       "      <td>0.000000</td>\n",
       "      <td>0.000000</td>\n",
       "      <td>0.000000</td>\n",
       "      <td>0.000000</td>\n",
       "      <td>0.000000</td>\n",
       "      <td>0.000000</td>\n",
       "      <td>0.000000</td>\n",
       "      <td>1.000000</td>\n",
       "      <td>2006.000000</td>\n",
       "      <td>34900.000000</td>\n",
       "    </tr>\n",
       "    <tr>\n",
       "      <th>25%</th>\n",
       "      <td>365.750000</td>\n",
       "      <td>20.000000</td>\n",
       "      <td>59.000000</td>\n",
       "      <td>7553.500000</td>\n",
       "      <td>5.000000</td>\n",
       "      <td>5.000000</td>\n",
       "      <td>1954.000000</td>\n",
       "      <td>1967.000000</td>\n",
       "      <td>0.000000</td>\n",
       "      <td>0.000000</td>\n",
       "      <td>...</td>\n",
       "      <td>0.000000</td>\n",
       "      <td>0.000000</td>\n",
       "      <td>0.000000</td>\n",
       "      <td>0.000000</td>\n",
       "      <td>0.000000</td>\n",
       "      <td>0.000000</td>\n",
       "      <td>0.000000</td>\n",
       "      <td>5.000000</td>\n",
       "      <td>2007.000000</td>\n",
       "      <td>129975.000000</td>\n",
       "    </tr>\n",
       "    <tr>\n",
       "      <th>50%</th>\n",
       "      <td>730.500000</td>\n",
       "      <td>50.000000</td>\n",
       "      <td>69.000000</td>\n",
       "      <td>9478.500000</td>\n",
       "      <td>6.000000</td>\n",
       "      <td>5.000000</td>\n",
       "      <td>1973.000000</td>\n",
       "      <td>1994.000000</td>\n",
       "      <td>0.000000</td>\n",
       "      <td>383.500000</td>\n",
       "      <td>...</td>\n",
       "      <td>0.000000</td>\n",
       "      <td>25.000000</td>\n",
       "      <td>0.000000</td>\n",
       "      <td>0.000000</td>\n",
       "      <td>0.000000</td>\n",
       "      <td>0.000000</td>\n",
       "      <td>0.000000</td>\n",
       "      <td>6.000000</td>\n",
       "      <td>2008.000000</td>\n",
       "      <td>163000.000000</td>\n",
       "    </tr>\n",
       "    <tr>\n",
       "      <th>75%</th>\n",
       "      <td>1095.250000</td>\n",
       "      <td>70.000000</td>\n",
       "      <td>80.000000</td>\n",
       "      <td>11601.500000</td>\n",
       "      <td>7.000000</td>\n",
       "      <td>6.000000</td>\n",
       "      <td>2000.000000</td>\n",
       "      <td>2004.000000</td>\n",
       "      <td>166.000000</td>\n",
       "      <td>712.250000</td>\n",
       "      <td>...</td>\n",
       "      <td>168.000000</td>\n",
       "      <td>68.000000</td>\n",
       "      <td>0.000000</td>\n",
       "      <td>0.000000</td>\n",
       "      <td>0.000000</td>\n",
       "      <td>0.000000</td>\n",
       "      <td>0.000000</td>\n",
       "      <td>8.000000</td>\n",
       "      <td>2009.000000</td>\n",
       "      <td>214000.000000</td>\n",
       "    </tr>\n",
       "    <tr>\n",
       "      <th>max</th>\n",
       "      <td>1460.000000</td>\n",
       "      <td>190.000000</td>\n",
       "      <td>313.000000</td>\n",
       "      <td>215245.000000</td>\n",
       "      <td>10.000000</td>\n",
       "      <td>9.000000</td>\n",
       "      <td>2010.000000</td>\n",
       "      <td>2010.000000</td>\n",
       "      <td>1600.000000</td>\n",
       "      <td>5644.000000</td>\n",
       "      <td>...</td>\n",
       "      <td>857.000000</td>\n",
       "      <td>547.000000</td>\n",
       "      <td>552.000000</td>\n",
       "      <td>508.000000</td>\n",
       "      <td>480.000000</td>\n",
       "      <td>738.000000</td>\n",
       "      <td>15500.000000</td>\n",
       "      <td>12.000000</td>\n",
       "      <td>2010.000000</td>\n",
       "      <td>755000.000000</td>\n",
       "    </tr>\n",
       "  </tbody>\n",
       "</table>\n",
       "<p>8 rows × 38 columns</p>\n",
       "</div>"
      ],
      "text/plain": [
       "                Id   MSSubClass  LotFrontage        LotArea  OverallQual  \\\n",
       "count  1460.000000  1460.000000  1201.000000    1460.000000  1460.000000   \n",
       "mean    730.500000    56.897260    70.049958   10516.828082     6.099315   \n",
       "std     421.610009    42.300571    24.284752    9981.264932     1.382997   \n",
       "min       1.000000    20.000000    21.000000    1300.000000     1.000000   \n",
       "25%     365.750000    20.000000    59.000000    7553.500000     5.000000   \n",
       "50%     730.500000    50.000000    69.000000    9478.500000     6.000000   \n",
       "75%    1095.250000    70.000000    80.000000   11601.500000     7.000000   \n",
       "max    1460.000000   190.000000   313.000000  215245.000000    10.000000   \n",
       "\n",
       "       OverallCond    YearBuilt  YearRemodAdd   MasVnrArea   BsmtFinSF1  \\\n",
       "count  1460.000000  1460.000000   1460.000000  1452.000000  1460.000000   \n",
       "mean      5.575342  1971.267808   1984.865753   103.685262   443.639726   \n",
       "std       1.112799    30.202904     20.645407   181.066207   456.098091   \n",
       "min       1.000000  1872.000000   1950.000000     0.000000     0.000000   \n",
       "25%       5.000000  1954.000000   1967.000000     0.000000     0.000000   \n",
       "50%       5.000000  1973.000000   1994.000000     0.000000   383.500000   \n",
       "75%       6.000000  2000.000000   2004.000000   166.000000   712.250000   \n",
       "max       9.000000  2010.000000   2010.000000  1600.000000  5644.000000   \n",
       "\n",
       "           ...         WoodDeckSF  OpenPorchSF  EnclosedPorch    3SsnPorch  \\\n",
       "count      ...        1460.000000  1460.000000    1460.000000  1460.000000   \n",
       "mean       ...          94.244521    46.660274      21.954110     3.409589   \n",
       "std        ...         125.338794    66.256028      61.119149    29.317331   \n",
       "min        ...           0.000000     0.000000       0.000000     0.000000   \n",
       "25%        ...           0.000000     0.000000       0.000000     0.000000   \n",
       "50%        ...           0.000000    25.000000       0.000000     0.000000   \n",
       "75%        ...         168.000000    68.000000       0.000000     0.000000   \n",
       "max        ...         857.000000   547.000000     552.000000   508.000000   \n",
       "\n",
       "       ScreenPorch     PoolArea       MiscVal       MoSold       YrSold  \\\n",
       "count  1460.000000  1460.000000   1460.000000  1460.000000  1460.000000   \n",
       "mean     15.060959     2.758904     43.489041     6.321918  2007.815753   \n",
       "std      55.757415    40.177307    496.123024     2.703626     1.328095   \n",
       "min       0.000000     0.000000      0.000000     1.000000  2006.000000   \n",
       "25%       0.000000     0.000000      0.000000     5.000000  2007.000000   \n",
       "50%       0.000000     0.000000      0.000000     6.000000  2008.000000   \n",
       "75%       0.000000     0.000000      0.000000     8.000000  2009.000000   \n",
       "max     480.000000   738.000000  15500.000000    12.000000  2010.000000   \n",
       "\n",
       "           SalePrice  \n",
       "count    1460.000000  \n",
       "mean   180921.195890  \n",
       "std     79442.502883  \n",
       "min     34900.000000  \n",
       "25%    129975.000000  \n",
       "50%    163000.000000  \n",
       "75%    214000.000000  \n",
       "max    755000.000000  \n",
       "\n",
       "[8 rows x 38 columns]"
      ]
     },
     "execution_count": 6,
     "metadata": {},
     "output_type": "execute_result"
    }
   ],
   "source": [
    "housing.describe()"
   ]
  },
  {
   "cell_type": "markdown",
   "metadata": {},
   "source": [
    "We also want to probe for correlations between the numerical attributes and the target:"
   ]
  },
  {
   "cell_type": "code",
   "execution_count": 7,
   "metadata": {},
   "outputs": [
    {
     "data": {
      "text/plain": [
       "SalePrice        1.000000\n",
       "OverallQual      0.790982\n",
       "GrLivArea        0.708624\n",
       "GarageCars       0.640409\n",
       "GarageArea       0.623431\n",
       "TotalBsmtSF      0.613581\n",
       "1stFlrSF         0.605852\n",
       "FullBath         0.560664\n",
       "TotRmsAbvGrd     0.533723\n",
       "YearBuilt        0.522897\n",
       "YearRemodAdd     0.507101\n",
       "GarageYrBlt      0.486362\n",
       "MasVnrArea       0.477493\n",
       "Fireplaces       0.466929\n",
       "BsmtFinSF1       0.386420\n",
       "LotFrontage      0.351799\n",
       "WoodDeckSF       0.324413\n",
       "2ndFlrSF         0.319334\n",
       "OpenPorchSF      0.315856\n",
       "HalfBath         0.284108\n",
       "LotArea          0.263843\n",
       "BsmtFullBath     0.227122\n",
       "BsmtUnfSF        0.214479\n",
       "BedroomAbvGr     0.168213\n",
       "ScreenPorch      0.111447\n",
       "PoolArea         0.092404\n",
       "MoSold           0.046432\n",
       "3SsnPorch        0.044584\n",
       "BsmtFinSF2      -0.011378\n",
       "BsmtHalfBath    -0.016844\n",
       "MiscVal         -0.021190\n",
       "Id              -0.021917\n",
       "LowQualFinSF    -0.025606\n",
       "YrSold          -0.028923\n",
       "OverallCond     -0.077856\n",
       "MSSubClass      -0.084284\n",
       "EnclosedPorch   -0.128578\n",
       "KitchenAbvGr    -0.135907\n",
       "Name: SalePrice, dtype: float64"
      ]
     },
     "execution_count": 7,
     "metadata": {},
     "output_type": "execute_result"
    }
   ],
   "source": [
    "corr_matrix = housing.corr()\n",
    "corr_matrix['SalePrice'].sort_values(ascending=False)"
   ]
  },
  {
   "cell_type": "code",
   "execution_count": 8,
   "metadata": {},
   "outputs": [
    {
     "data": {
      "text/plain": [
       "2009    338\n",
       "2007    329\n",
       "2006    314\n",
       "2008    304\n",
       "2010    175\n",
       "Name: YrSold, dtype: int64"
      ]
     },
     "execution_count": 8,
     "metadata": {},
     "output_type": "execute_result"
    }
   ],
   "source": [
    "housing[\"YrSold\"].value_counts()"
   ]
  },
  {
   "cell_type": "markdown",
   "metadata": {},
   "source": [
    "We can see that there are some attributes that have a strong correlation with our target attribute, the Sale Price. Let's check the scatter matrix:"
   ]
  },
  {
   "cell_type": "code",
   "execution_count": 9,
   "metadata": {},
   "outputs": [
    {
     "name": "stderr",
     "output_type": "stream",
     "text": [
      "C:\\Users\\Caio\\Anaconda3\\lib\\site-packages\\ipykernel_launcher.py:3: FutureWarning: 'pandas.tools.plotting.scatter_matrix' is deprecated, import 'pandas.plotting.scatter_matrix' instead.\n",
      "  This is separate from the ipykernel package so we can avoid doing imports until\n"
     ]
    },
    {
     "data": {
      "image/png": "[encoded data removed]",
      "text/plain": [
       "<matplotlib.figure.Figure at 0x2e08f1ce160>"
      ]
     },
     "metadata": {},
     "output_type": "display_data"
    }
   ],
   "source": [
    "from pandas.tools.plotting import scatter_matrix\n",
    "attributes = ['OverallQual','GrLivArea','GarageCars','GarageArea','TotalBsmtSF','SalePrice']\n",
    "scatter_matrix(housing[attributes],figsize=(12,8))\n",
    "plt.show()"
   ]
  },
  {
   "cell_type": "markdown",
   "metadata": {},
   "source": [
    "Before we proceed, I will train some models with the current numerical attributes only and see how well they perform. First I make a copy of the training set and then I drop the categorical columns:"
   ]
  },
  {
   "cell_type": "code",
   "execution_count": 10,
   "metadata": {
    "collapsed": true
   },
   "outputs": [],
   "source": [
    "housing_num = housing.copy() #creates a copy of the training dataset"
   ]
  },
  {
   "cell_type": "code",
   "execution_count": 11,
   "metadata": {
    "collapsed": true
   },
   "outputs": [],
   "source": [
    "allcol = housing_num.columns\n",
    "num = housing_num._get_numeric_data().columns\n",
    "cat = list(set(allcol) - set(num)) #got a list of names with all categorical attributes"
   ]
  },
  {
   "cell_type": "code",
   "execution_count": 12,
   "metadata": {},
   "outputs": [
    {
     "data": {
      "text/plain": [
       "38"
      ]
     },
     "execution_count": 12,
     "metadata": {},
     "output_type": "execute_result"
    }
   ],
   "source": [
    "housing_num = housing_num.drop(cat, axis=1) #finally the number of attributes in this dataset is now 38, the number of numerical attributes in the original dataset\n",
    "housing_num.columns.size"
   ]
  },
  {
   "cell_type": "markdown",
   "metadata": {},
   "source": [
    "We now split the predictor and target attributes: "
   ]
  },
  {
   "cell_type": "code",
   "execution_count": 13,
   "metadata": {
    "collapsed": true
   },
   "outputs": [],
   "source": [
    "housing_labels = housing_num['SalePrice'].copy()\n",
    "housing_num = housing_num.drop('SalePrice', axis=1)"
   ]
  },
  {
   "cell_type": "markdown",
   "metadata": {},
   "source": [
    "Here we import the models we will employ as well as cost/score functions:"
   ]
  },
  {
   "cell_type": "code",
   "execution_count": 14,
   "metadata": {
    "collapsed": true
   },
   "outputs": [],
   "source": [
    "from sklearn.linear_model import LinearRegression\n",
    "from sklearn.metrics import mean_squared_error\n",
    "from sklearn.tree import DecisionTreeRegressor\n",
    "from sklearn.ensemble import RandomForestRegressor\n",
    "from sklearn.model_selection import cross_val_score\n",
    "from sklearn.svm import SVR\n",
    "from sklearn.pipeline import Pipeline\n",
    "from sklearn.preprocessing import Imputer\n",
    "from sklearn.preprocessing import StandardScaler\n",
    "from sklearn.preprocessing import LabelBinarizer\n",
    "from sklearn.pipeline import FeatureUnion"
   ]
  },
  {
   "cell_type": "code",
   "execution_count": 15,
   "metadata": {},
   "outputs": [
    {
     "data": {
      "text/plain": [
       "Imputer(axis=0, copy=True, missing_values='NaN', strategy='median', verbose=0)"
      ]
     },
     "execution_count": 15,
     "metadata": {},
     "output_type": "execute_result"
    }
   ],
   "source": [
    "imputer = Imputer(strategy='median')\n",
    "imputer.fit(housing_num)"
   ]
  },
  {
   "cell_type": "code",
   "execution_count": 16,
   "metadata": {
    "collapsed": true
   },
   "outputs": [],
   "source": [
    "X = imputer.transform(housing_num)\n",
    "housing_num_df = pd.DataFrame(X, columns=housing_num.columns)"
   ]
  },
  {
   "cell_type": "markdown",
   "metadata": {},
   "source": [
    "We now transform the DataFrames in numpy arrays:"
   ]
  },
  {
   "cell_type": "code",
   "execution_count": 17,
   "metadata": {
    "collapsed": true
   },
   "outputs": [],
   "source": [
    "housing_prep = housing_num_df.values\n",
    "housing_prep_labels = housing_labels.values.reshape(-1,1)"
   ]
  },
  {
   "cell_type": "code",
   "execution_count": 18,
   "metadata": {},
   "outputs": [
    {
     "data": {
      "text/plain": [
       "LinearRegression(copy_X=True, fit_intercept=True, n_jobs=1, normalize=False)"
      ]
     },
     "execution_count": 18,
     "metadata": {},
     "output_type": "execute_result"
    }
   ],
   "source": [
    "lin_reg = LinearRegression()\n",
    "lin_reg.fit(housing_prep,housing_prep_labels)"
   ]
  },
  {
   "cell_type": "code",
   "execution_count": 19,
   "metadata": {
    "collapsed": true
   },
   "outputs": [],
   "source": [
    "scores = cross_val_score(lin_reg, housing_prep,housing_prep_labels,scoring = 'neg_mean_squared_error', cv=10)\n",
    "lin_reg_rmse_scores = np.sqrt(-scores)"
   ]
  },
  {
   "cell_type": "code",
   "execution_count": 20,
   "metadata": {
    "collapsed": true
   },
   "outputs": [],
   "source": [
    "def display_scores(scores):\n",
    "    print(\"Scores:\", scores)\n",
    "    print(\"Mean:\", scores.mean())\n",
    "    print(\"Standard Deviation:\", scores.std())"
   ]
  },
  {
   "cell_type": "code",
   "execution_count": 21,
   "metadata": {},
   "outputs": [
    {
     "name": "stdout",
     "output_type": "stream",
     "text": [
      "Scores: [ 27938.70342533  29960.39193438  26808.21834256  41727.46299053\n",
      "  40034.96054643  31646.32284844  30271.83195023  30207.22082169\n",
      "  63969.97253671  29106.23354987]\n",
      "Mean: 35167.1318946\n",
      "Standard Deviation: 10692.3540361\n"
     ]
    }
   ],
   "source": [
    "display_scores(lin_reg_rmse_scores)"
   ]
  },
  {
   "cell_type": "markdown",
   "metadata": {},
   "source": [
    "There seems to be some models that are performing really poorly (take a look at the second last model!), so we will shuffle the instances and see if we can reduce this problem:"
   ]
  },
  {
   "cell_type": "code",
   "execution_count": 22,
   "metadata": {},
   "outputs": [
    {
     "data": {
      "text/plain": [
       "LinearRegression(copy_X=True, fit_intercept=True, n_jobs=1, normalize=False)"
      ]
     },
     "execution_count": 22,
     "metadata": {},
     "output_type": "execute_result"
    }
   ],
   "source": [
    "np.random.seed(42)\n",
    "shuffle_indexes = np.random.permutation(len(housing_prep_labels))\n",
    "shuf_housing_prep, shuf_housing_labels = housing_prep[shuffle_indexes], housing_prep_labels[shuffle_indexes]\n",
    "lin_reg.fit(shuf_housing_prep,shuf_housing_labels)"
   ]
  },
  {
   "cell_type": "code",
   "execution_count": 23,
   "metadata": {
    "scrolled": true
   },
   "outputs": [
    {
     "name": "stdout",
     "output_type": "stream",
     "text": [
      "Scores: [ 39794.30830061  33917.81092214  28313.55011681  40905.68654548\n",
      "  43686.70598824  63113.61068372  35371.60276011  24730.97263329\n",
      "  26990.71630119  24722.23280281]\n",
      "Mean: 36154.7197054\n",
      "Standard Deviation: 11097.8132851\n"
     ]
    }
   ],
   "source": [
    "scores = cross_val_score(lin_reg, shuf_housing_prep,shuf_housing_labels,scoring = 'neg_mean_squared_error', cv=10)\n",
    "shuf_lin_reg_rmse_scores = np.sqrt(-scores)\n",
    "display_scores(shuf_lin_reg_rmse_scores)"
   ]
  },
  {
   "cell_type": "markdown",
   "metadata": {},
   "source": [
    "Well, its seems it actually got worse! Let's try other models!"
   ]
  },
  {
   "cell_type": "code",
   "execution_count": 24,
   "metadata": {},
   "outputs": [
    {
     "name": "stdout",
     "output_type": "stream",
     "text": [
      "Scores: [ 34200.28588691  40775.10365172  38022.42262662  67537.22568444\n",
      "  39936.73205577  38383.9066322   43303.59963596  42883.39383445\n",
      "  33341.76424772  35866.19038156]\n",
      "Mean: 41425.0624637\n",
      "Standard Deviation: 9270.39927043\n"
     ]
    }
   ],
   "source": [
    "# A descision tree model!\n",
    "tree_reg = DecisionTreeRegressor()\n",
    "tree_reg.fit(shuf_housing_prep,shuf_housing_labels)\n",
    "scores = cross_val_score(tree_reg, shuf_housing_prep,shuf_housing_labels,scoring = 'neg_mean_squared_error', cv=10)\n",
    "tree_reg_rmse_scores = np.sqrt(-scores)\n",
    "display_scores(tree_reg_rmse_scores)"
   ]
  },
  {
   "cell_type": "code",
   "execution_count": 25,
   "metadata": {
    "scrolled": true
   },
   "outputs": [
    {
     "name": "stdout",
     "output_type": "stream",
     "text": [
      "Scores: [ 30387.2907782   30635.54292113  21337.81324145  34273.24862584\n",
      "  43260.17871855  41109.74120878  33514.6652352   28288.00250258\n",
      "  27067.42698637  23169.13764816]\n",
      "Mean: 31304.3047866\n",
      "Standard Deviation: 6683.10626817\n"
     ]
    }
   ],
   "source": [
    "# A random forest regressor model!\n",
    "forest_reg = RandomForestRegressor()\n",
    "forest_reg.fit(shuf_housing_prep,shuf_housing_labels.ravel())\n",
    "scores = cross_val_score(forest_reg, shuf_housing_prep,shuf_housing_labels.ravel(),scoring = 'neg_mean_squared_error', cv=10)\n",
    "forest_reg_rmse_scores = np.sqrt(-scores)\n",
    "display_scores(forest_reg_rmse_scores)"
   ]
  },
  {
   "cell_type": "code",
   "execution_count": 26,
   "metadata": {
    "scrolled": false
   },
   "outputs": [
    {
     "name": "stdout",
     "output_type": "stream",
     "text": [
      "Scores: [ 97334.84883458  79300.11610582  77198.69635692  93286.31166699\n",
      "  75192.36968867  77971.72380474  85848.55674982  75439.73688012\n",
      "  73211.44293564  75355.1379786 ]\n",
      "Mean: 81013.8941002\n",
      "Standard Deviation: 7905.49472493\n"
     ]
    }
   ],
   "source": [
    "# A support vector machine regressor model!\n",
    "svm_reg = SVR()\n",
    "svm_reg.fit(shuf_housing_prep,shuf_housing_labels.ravel())\n",
    "scores = cross_val_score(svm_reg, shuf_housing_prep,shuf_housing_labels.ravel(),scoring = 'neg_mean_squared_error', cv=10)\n",
    "svm_reg_rmse_scores = np.sqrt(-scores)\n",
    "display_scores(svm_reg_rmse_scores)"
   ]
  },
  {
   "cell_type": "markdown",
   "metadata": {},
   "source": [
    "It seems the best method for the numerical part of the dataset is the random forest regressor. Aside from filling the numerical attributes with the median, we haven't performed any sort of cleaning nor manipulation. So let's do just that! And in order to make everything easier we will place these transformations on our pipeline. "
   ]
  },
  {
   "cell_type": "markdown",
   "metadata": {},
   "source": [
    "\n",
    "\n",
    "\n",
    "\n",
    "\n",
    "# Second part starts here\n",
    "\n",
    "\n",
    "\n",
    "\n"
   ]
  },
  {
   "cell_type": "markdown",
   "metadata": {},
   "source": [
    "Let's make a copy of our training set:"
   ]
  },
  {
   "cell_type": "code",
   "execution_count": 27,
   "metadata": {
    "collapsed": true
   },
   "outputs": [],
   "source": [
    "housing2 = housing.copy()"
   ]
  },
  {
   "cell_type": "markdown",
   "metadata": {},
   "source": [
    "Regarding the categorical attributes, there are basically two groups the ones which have categories that are basically grading that feature and the ones which don't. Therefore we have 3 different groups of attributes: numerical, 'grading' categorical and 'descriptive' categorical. Each group has to be treated separately:"
   ]
  },
  {
   "cell_type": "code",
   "execution_count": 28,
   "metadata": {
    "scrolled": true
   },
   "outputs": [
    {
     "name": "stdout",
     "output_type": "stream",
     "text": [
      "['YearRemodAdd', 'YearBuilt', 'MasVnrArea', 'GrLivArea', 'BsmtFullBath', 'BsmtUnfSF', 'LowQualFinSF', 'MiscVal', 'GarageYrBlt', 'MSSubClass', 'EnclosedPorch', '1stFlrSF', 'TotRmsAbvGrd', 'FullBath', 'BsmtFinSF1', 'HalfBath', 'BsmtHalfBath', 'GarageCars', 'OverallCond', 'LotFrontage', 'OverallQual', 'BedroomAbvGr', '3SsnPorch', 'PoolArea', 'Fireplaces', 'YrSold', 'ScreenPorch', 'WoodDeckSF', 'TotalBsmtSF', 'GarageArea', 'BsmtFinSF2', 'Id', 'LotArea', 'KitchenAbvGr', '2ndFlrSF', 'OpenPorchSF', 'MoSold'] ['Street', 'Utilities', 'LandSlope', 'ExterQual', 'ExterCond', 'BsmtQual', 'BsmtCond', 'BsmtExposure', 'BsmtFinType1', 'BsmtFinType2', 'HeatingQC', 'CentralAir', 'Functional', 'FireplaceQu', 'GarageQual', 'GarageCond', 'PavedDrive', 'PoolQC', 'Fence'] ['BldgType', 'MSZoning', 'Electrical', 'HouseStyle', 'Alley', 'KitchenQual', 'MiscFeature', 'SaleType', 'GarageFinish', 'Heating', 'Exterior1st', 'Exterior2nd', 'RoofStyle', 'Condition1', 'Condition2', 'MasVnrType', 'RoofMatl', 'Foundation', 'GarageType', 'Neighborhood', 'SaleCondition', 'LandContour', 'LotShape', 'LotConfig']\n"
     ]
    }
   ],
   "source": [
    "grading_attributes = ['Street','Utilities','LandSlope','ExterQual','ExterCond','BsmtQual','BsmtCond','BsmtExposure','BsmtFinType1','BsmtFinType2','HeatingQC','CentralAir','Functional','FireplaceQu','GarageQual','GarageCond','PavedDrive','PoolQC','Fence']\n",
    "desc_attributes = list(set(cat)-set(grading_attributes))\n",
    "num = list(set(num)-set(['SalePrice']))\n",
    "print(num, grading_attributes,desc_attributes)"
   ]
  },
  {
   "cell_type": "markdown",
   "metadata": {},
   "source": [
    "Next, we set out to create a list of lists, where each one of the lists contains the values that are present in the columns. This will be important later on to assign numerical grades instead of words such as 'Excelent' or 'Poor'. This point will be made clear later on:"
   ]
  },
  {
   "cell_type": "code",
   "execution_count": 29,
   "metadata": {},
   "outputs": [
    {
     "name": "stdout",
     "output_type": "stream",
     "text": [
      "[['Pave', 'Grvl'], ['AllPub', 'NoSeWa'], ['Gtl', 'Mod', 'Sev'], ['Gd', 'TA', 'Ex', 'Fa'], ['TA', 'Gd', 'Fa', 'Po', 'Ex'], ['Gd', 'TA', 'Ex', nan, 'Fa'], ['TA', 'Gd', nan, 'Fa', 'Po'], ['No', 'Gd', 'Mn', 'Av', nan], ['GLQ', 'ALQ', 'Unf', 'Rec', 'BLQ', nan, 'LwQ'], ['Unf', 'BLQ', nan, 'ALQ', 'Rec', 'LwQ', 'GLQ'], ['Ex', 'Gd', 'TA', 'Fa', 'Po'], ['Y', 'N'], ['Typ', 'Min1', 'Maj1', 'Min2', 'Mod', 'Maj2', 'Sev'], [nan, 'TA', 'Gd', 'Fa', 'Ex', 'Po'], ['TA', 'Fa', 'Gd', nan, 'Ex', 'Po'], ['TA', 'Fa', nan, 'Gd', 'Po', 'Ex'], ['Y', 'N', 'P'], [nan, 'Ex', 'Fa', 'Gd'], [nan, 'MnPrv', 'GdWo', 'GdPrv', 'MnWw']]\n"
     ]
    }
   ],
   "source": [
    "grdattr_grades = []\n",
    "for el in grading_attributes:\n",
    "    grdattr_grades += [list(housing2[el].unique())]\n",
    "print(grdattr_grades)"
   ]
  },
  {
   "cell_type": "markdown",
   "metadata": {},
   "source": [
    "We then modify the list generated including the missing values which were not present in the columns but that appear in the description file, and we also modify the order of the values so that values that represent the best grades get the higher indices and the values that are associated with poor quality get bad grades. We did this manually since the number of attributes is not very large, but a better approach would be to read the description file and create this list directly from the values that are present there."
   ]
  },
  {
   "cell_type": "code",
   "execution_count": 30,
   "metadata": {
    "collapsed": true
   },
   "outputs": [],
   "source": [
    "grdattr_grades = [['Grvl', 'Pave'], ['ELO', 'NoSeWa', 'NoSewr', 'AllPub'], ['Sev','Mod', 'Gtl'], ['Po','Fa', 'TA', 'Gd', 'Ex'], ['Po','Fa', 'TA', 'Gd', 'Ex'], ['NA',\"Po\",\"Fa\",\"TA\",\"Gd\",\"Ex\"], ['NA',\"Po\",\"Fa\",\"TA\",\"Gd\",\"Ex\"], ['NA', 'No', 'Mn', 'Av', 'Gd'], ['NA', 'Unf', 'Rec', 'LwQ', 'BLQ', 'ALQ', 'GLQ'], ['NA', 'Unf', 'Rec', 'LwQ', 'BLQ', 'ALQ', 'GLQ'], ['Po','Fa', 'TA', 'Gd', 'Ex'], ['N', 'Y'], ['Sal', 'Sev', 'Maj2', 'Maj1', 'Mod', 'Min2', 'Min1', 'Typ'], ['NA',\"Po\",\"Fa\",\"TA\",\"Gd\",\"Ex\"], ['NA',\"Po\",\"Fa\",\"TA\",\"Gd\",\"Ex\"], ['NA',\"Po\",\"Fa\",\"TA\",\"Gd\",\"Ex\"], ['N', 'P', 'Y'], ['NA', 'Fa', 'TA', 'Gd', 'Ex'], ['NA', 'MnWw', 'GdWo',  'MnPrv', 'GdPrv']]"
   ]
  },
  {
   "cell_type": "markdown",
   "metadata": {},
   "source": [
    "Now that we've settled this, we will create three different pipelines for each one of those groups to make it easier the cleaning and transformation of our dataset. This will make part of the finetuning much easier later on. But, first, we will create a transformation which will allow us to select the attributes we want and return a numpy array. We will create it in a way as to make it fully compatible with the pipeline module from scikitlearn:"
   ]
  },
  {
   "cell_type": "code",
   "execution_count": 31,
   "metadata": {
    "collapsed": true
   },
   "outputs": [],
   "source": [
    "from sklearn.base import TransformerMixin, BaseEstimator\n",
    "\n",
    "class Selector(BaseEstimator, TransformerMixin):\n",
    "    def __init__(self,attribute_names):\n",
    "        self.attribute_names = attribute_names\n",
    "    def fit(self, DF, y=None):\n",
    "        return self\n",
    "    def transform(self, DF):\n",
    "        return DF[self.attribute_names].values"
   ]
  },
  {
   "cell_type": "markdown",
   "metadata": {},
   "source": [
    "We will also create two important categorical classes that will allow us to deal with the categorical attributes more efficiently:"
   ]
  },
  {
   "cell_type": "code",
   "execution_count": 32,
   "metadata": {
    "collapsed": true
   },
   "outputs": [],
   "source": [
    "#allows us to fill all NaN categorical values with any text we want. Default = 'NA'\n",
    "class FillCatNaN(BaseEstimator,TransformerMixin):\n",
    "    def __init__(self,attribute_names,txt='NA'):\n",
    "        self.attribute_names = attribute_names\n",
    "        self.txt = txt\n",
    "    def fit(self, DF, y=None):\n",
    "        return self\n",
    "    def transform(self, DF):\n",
    "        for attr in self.attribute_names:\n",
    "            DF[attr].fillna(self.txt, inplace=True)\n",
    "        return DF\n",
    "\n",
    "#this class allows us to assign an integer value based on the string grade. For instance, 'Ex' = 5, 'TA'=3, 'Po'=1 and so on. \n",
    "#the higher the value, the better condition of the house is.\n",
    "class ChangeGrdTxtToNum(BaseEstimator,TransformerMixin):\n",
    "    def __init__(self,attribute_names,attribute_values):\n",
    "        self.attribute_names = attribute_names\n",
    "        self.attribute_values = attribute_values\n",
    "    def fit(self,DF,y=None):\n",
    "        return self\n",
    "    def transform(self, DF):\n",
    "        for i, attr in enumerate(self.attribute_names):\n",
    "            DF[attr] = DF[attr].apply(lambda x : self.attribute_values[i].index(x))\n",
    "        return DF\n",
    "    \n",
    "#this class creates a multicolumn label binarizer. this is important because the label binarizer that comes with scikit learn\n",
    "#only takes 1d arrays\n",
    "class MultiColumnLabelBinarizer(BaseEstimator,TransformerMixin):\n",
    "    def __init__(self,attribute_names):\n",
    "        self.attribute_names = attribute_names\n",
    "    def fit(self,DSET,y=None):\n",
    "        return self\n",
    "    def transform(self, DSET):\n",
    "        lb = LabelBinarizer()\n",
    "        lb.fit(DSET[:,0])\n",
    "        TRANSFMSET = lb.transform(DSET[:,0]) \n",
    "        for i, _ in enumerate(DSET[1,1:]):\n",
    "            lb.fit(DSET[:,i+1])\n",
    "            TEMP = lb.transform(DSET[:,i+1])\n",
    "            TRANSFMSET = np.column_stack((TRANSFMSET,TEMP))\n",
    "        return TRANSFMSET"
   ]
  },
  {
   "cell_type": "code",
   "execution_count": 33,
   "metadata": {
    "collapsed": true
   },
   "outputs": [],
   "source": [
    "num_pipeline = Pipeline([\n",
    "        ('selector', Selector(num)),\n",
    "        ('imputer', Imputer(strategy='median')),\n",
    "        ('std_scaler', StandardScaler()),\n",
    "])\n",
    "\n",
    "grading_cat_pipeline = Pipeline([\n",
    "        ('fillcat', FillCatNaN(grading_attributes)),\n",
    "        ('txttonum', ChangeGrdTxtToNum(grading_attributes,grdattr_grades)),\n",
    "        ('selector', Selector(grading_attributes)),\n",
    "])\n",
    "\n",
    "desc_cat_pipeline = Pipeline([\n",
    "        ('fillcat', FillCatNaN(desc_attributes)),\n",
    "        ('selector', Selector(desc_attributes)),\n",
    "        ('label_binarizer', MultiColumnLabelBinarizer(desc_attributes)),\n",
    "])\n",
    "\n",
    "full_pipeline = FeatureUnion(transformer_list = [\n",
    "        ('num_pipeline', num_pipeline),\n",
    "        ('grading_cat_pipeline', grading_cat_pipeline),\n",
    "        ('desc_cat_pipeline', desc_cat_pipeline),\n",
    "])"
   ]
  },
  {
   "cell_type": "markdown",
   "metadata": {},
   "source": [
    "After creating the full transformation pipeline, we apply it to our dataset and subsequently check how the models we previously tried performed:"
   ]
  },
  {
   "cell_type": "code",
   "execution_count": 34,
   "metadata": {
    "scrolled": true
   },
   "outputs": [
    {
     "name": "stdout",
     "output_type": "stream",
     "text": [
      "['YearRemodAdd', 'YearBuilt', 'MasVnrArea', 'GrLivArea', 'BsmtFullBath', 'BsmtUnfSF', 'LowQualFinSF', 'MiscVal', 'GarageYrBlt', 'MSSubClass', 'EnclosedPorch', '1stFlrSF', 'TotRmsAbvGrd', 'FullBath', 'BsmtFinSF1', 'HalfBath', 'BsmtHalfBath', 'GarageCars', 'OverallCond', 'LotFrontage', 'OverallQual', 'BedroomAbvGr', '3SsnPorch', 'PoolArea', 'Fireplaces', 'YrSold', 'ScreenPorch', 'WoodDeckSF', 'TotalBsmtSF', 'GarageArea', 'BsmtFinSF2', 'Id', 'LotArea', 'KitchenAbvGr', '2ndFlrSF', 'OpenPorchSF', 'MoSold'] ['Street', 'Utilities', 'LandSlope', 'ExterQual', 'ExterCond', 'BsmtQual', 'BsmtCond', 'BsmtExposure', 'BsmtFinType1', 'BsmtFinType2', 'HeatingQC', 'CentralAir', 'Functional', 'FireplaceQu', 'GarageQual', 'GarageCond', 'PavedDrive', 'PoolQC', 'Fence'] ['BldgType', 'MSZoning', 'Electrical', 'HouseStyle', 'Alley', 'KitchenQual', 'MiscFeature', 'SaleType', 'GarageFinish', 'Heating', 'Exterior1st', 'Exterior2nd', 'RoofStyle', 'Condition1', 'Condition2', 'MasVnrType', 'RoofMatl', 'Foundation', 'GarageType', 'Neighborhood', 'SaleCondition', 'LandContour', 'LotShape', 'LotConfig']\n"
     ]
    }
   ],
   "source": [
    "num = housing._get_numeric_data().columns\n",
    "grading_attributes = ['Street','Utilities','LandSlope','ExterQual','ExterCond','BsmtQual','BsmtCond','BsmtExposure','BsmtFinType1','BsmtFinType2','HeatingQC','CentralAir','Functional','FireplaceQu','GarageQual','GarageCond','PavedDrive','PoolQC','Fence']\n",
    "desc_attributes = list(set(cat)-set(grading_attributes))\n",
    "num = list(set(num)-set(['SalePrice']))\n",
    "print(num, grading_attributes,desc_attributes)"
   ]
  },
  {
   "cell_type": "code",
   "execution_count": 35,
   "metadata": {},
   "outputs": [
    {
     "data": {
      "text/plain": [
       "(1460, 235)"
      ]
     },
     "execution_count": 35,
     "metadata": {},
     "output_type": "execute_result"
    }
   ],
   "source": [
    "housing2 = housing.copy()\n",
    "np.random.seed(42)\n",
    "housing_labels = housing2['SalePrice'].copy()\n",
    "housing2 = housing2.drop('SalePrice', axis=1)\n",
    "shuffle_indexes = np.random.permutation(len(housing_labels))\n",
    "housing_labels, housing2 = housing_labels[shuffle_indexes], pd.DataFrame(np.array(housing2)[shuffle_indexes], columns=housing2.columns)\n",
    "housing_prep = full_pipeline.fit_transform(housing2)\n",
    "housing_prep.shape"
   ]
  },
  {
   "cell_type": "code",
   "execution_count": 36,
   "metadata": {},
   "outputs": [
    {
     "name": "stdout",
     "output_type": "stream",
     "text": [
      "Scores: [ 35645.51914231  29229.21350435  22951.14013477  35774.77942605\n",
      "  41400.57851478  44525.86017983  33206.98367328  30483.10363223\n",
      "  28702.33263325  20858.88175265]\n",
      "Mean: 32277.8392594\n",
      "Standard Deviation: 7073.54865224\n"
     ]
    }
   ],
   "source": [
    "# A random forest regressor model!\n",
    "forest_reg = RandomForestRegressor()\n",
    "forest_reg.fit(housing_prep,housing_labels.ravel())\n",
    "scores = cross_val_score(forest_reg, housing_prep,housing_labels.ravel(),scoring = 'neg_mean_squared_error', cv=10)\n",
    "forest_reg_rmse_scores = np.sqrt(-scores)\n",
    "display_scores(forest_reg_rmse_scores)"
   ]
  },
  {
   "cell_type": "code",
   "execution_count": 37,
   "metadata": {
    "scrolled": true
   },
   "outputs": [
    {
     "name": "stdout",
     "output_type": "stream",
     "text": [
      "Scores: [  9.62384846e+13   8.99321665e+14   8.23647871e+10   3.06260959e+04\n",
      "   6.83234106e+14   4.65661101e+14   2.41079130e+14   2.66714027e+14\n",
      "   7.41363084e+13   9.61975871e+11]\n",
      "Mean: 2.72742916393e+14\n",
      "Standard Deviation: 2.98756768671e+14\n"
     ]
    }
   ],
   "source": [
    "lin_reg = LinearRegression()\n",
    "lin_reg.fit(housing_prep,housing_labels)\n",
    "scores = cross_val_score(lin_reg, housing_prep, housing_labels,scoring = 'neg_mean_squared_error', cv=10)\n",
    "lin_reg_rmse_scores = np.sqrt(-scores)\n",
    "display_scores(lin_reg_rmse_scores)"
   ]
  },
  {
   "cell_type": "code",
   "execution_count": 38,
   "metadata": {},
   "outputs": [
    {
     "name": "stdout",
     "output_type": "stream",
     "text": [
      "Scores: [ 36359.41856103  40984.46880514  34560.95332411  57751.49404063\n",
      "  40834.80384871  39847.44823433  41449.10904639  43604.76638841\n",
      "  32278.76820389  36199.95822294]\n",
      "Mean: 40387.1188676\n",
      "Standard Deviation: 6688.01417829\n"
     ]
    }
   ],
   "source": [
    "# A descision tree model!\n",
    "tree_reg = DecisionTreeRegressor()\n",
    "tree_reg.fit(housing_prep, housing_labels)\n",
    "scores = cross_val_score(tree_reg, housing_prep,housing_labels,scoring = 'neg_mean_squared_error', cv=10)\n",
    "tree_reg_rmse_scores = np.sqrt(-scores)\n",
    "display_scores(tree_reg_rmse_scores)"
   ]
  },
  {
   "cell_type": "code",
   "execution_count": 39,
   "metadata": {
    "scrolled": false
   },
   "outputs": [
    {
     "name": "stdout",
     "output_type": "stream",
     "text": [
      "Scores: [ 97290.45081973  79258.5457689   77154.88069096  93244.1125862\n",
      "  75138.75269931  77932.9420013   85802.60785567  75398.44427387\n",
      "  73164.45412662  75314.28487063]\n",
      "Mean: 80969.9475693\n",
      "Standard Deviation: 7905.89858213\n"
     ]
    }
   ],
   "source": [
    "# A support vector machine regressor model!\n",
    "svm_reg = SVR()\n",
    "svm_reg.fit(housing_prep,housing_labels.ravel())\n",
    "scores = cross_val_score(svm_reg, housing_prep,housing_labels.ravel(),scoring = 'neg_mean_squared_error', cv=10)\n",
    "svm_reg_rmse_scores = np.sqrt(-scores)\n",
    "display_scores(svm_reg_rmse_scores)"
   ]
  },
  {
   "cell_type": "markdown",
   "metadata": {},
   "source": [
    "No great changes!"
   ]
  },
  {
   "cell_type": "code",
   "execution_count": 40,
   "metadata": {
    "collapsed": true
   },
   "outputs": [],
   "source": [
    "Attributes = []\n",
    "Attributes += num\n",
    "Attributes += grading_attributes\n",
    "lb = LabelBinarizer()\n",
    "h = housing.copy()\n",
    "FNaN = FillCatNaN(desc_attributes)\n",
    "FNaN.fit_transform(h)\n",
    "for el in desc_attributes:\n",
    "    lb.fit(h[el])\n",
    "    a = list(lb.classes_)\n",
    "    for i, word in enumerate(a):\n",
    "        a[i] = el + ' - ' + word \n",
    "    Attributes += a\n",
    "Attributes += ['SalePrice']"
   ]
  },
  {
   "cell_type": "markdown",
   "metadata": {},
   "source": [
    "Now that we have transformed our dataset, we have only numerical attributes. Next, we check the correlations between the predictors and target attributes, before and after the transformation. We can see that there is non negligible number of categorical attributes with high (anti)correlations with the Sale Price (before the transformation we couldn't see that!)."
   ]
  },
  {
   "cell_type": "code",
   "execution_count": 41,
   "metadata": {},
   "outputs": [
    {
     "data": {
      "text/plain": [
       "SalePrice                  1.000000\n",
       "OverallQual                0.790982\n",
       "GrLivArea                  0.708624\n",
       "ExterQual                  0.682639\n",
       "GarageCars                 0.640409\n",
       "GarageArea                 0.623431\n",
       "TotalBsmtSF                0.613581\n",
       "1stFlrSF                   0.605852\n",
       "BsmtQual                   0.585207\n",
       "FullBath                   0.560664\n",
       "TotRmsAbvGrd               0.533723\n",
       "YearBuilt                  0.522897\n",
       "FireplaceQu                0.520438\n",
       "YearRemodAdd               0.507101\n",
       "KitchenQual - Ex           0.504094\n",
       "Foundation - PConc         0.497734\n",
       "MasVnrArea                 0.472614\n",
       "Fireplaces                 0.466929\n",
       "GarageYrBlt                0.466754\n",
       "HeatingQC                  0.427649\n",
       "GarageFinish - Fin         0.419678\n",
       "Neighborhood - NridgHt     0.402149\n",
       "BsmtFinSF1                 0.386420\n",
       "BsmtExposure               0.374696\n",
       "SaleType - New             0.357509\n",
       "SaleCondition - Partial    0.352060\n",
       "GarageType - Attchd        0.335961\n",
       "LotFrontage                0.334771\n",
       "Name: SalePrice, dtype: float64"
      ]
     },
     "execution_count": 41,
     "metadata": {},
     "output_type": "execute_result"
    }
   ],
   "source": [
    "corr_matrix2 = pd.DataFrame(np.column_stack((housing_prep,housing_labels)), columns=Attributes).corr()\n",
    "#corr_matrix['SalePrice'].sort_values(ascending=False).head(15)\n",
    "corr = corr_matrix2.iloc[:,-1].sort_values(ascending=False).head(28)\n",
    "corr"
   ]
  },
  {
   "cell_type": "code",
   "execution_count": 42,
   "metadata": {},
   "outputs": [
    {
     "data": {
      "text/plain": [
       "SalePrice       1.000000\n",
       "OverallQual     0.790982\n",
       "GrLivArea       0.708624\n",
       "GarageCars      0.640409\n",
       "GarageArea      0.623431\n",
       "TotalBsmtSF     0.613581\n",
       "1stFlrSF        0.605852\n",
       "FullBath        0.560664\n",
       "TotRmsAbvGrd    0.533723\n",
       "YearBuilt       0.522897\n",
       "YearRemodAdd    0.507101\n",
       "GarageYrBlt     0.486362\n",
       "MasVnrArea      0.477493\n",
       "Fireplaces      0.466929\n",
       "BsmtFinSF1      0.386420\n",
       "LotFrontage     0.351799\n",
       "WoodDeckSF      0.324413\n",
       "2ndFlrSF        0.319334\n",
       "OpenPorchSF     0.315856\n",
       "HalfBath        0.284108\n",
       "Name: SalePrice, dtype: float64"
      ]
     },
     "execution_count": 42,
     "metadata": {},
     "output_type": "execute_result"
    }
   ],
   "source": [
    "corr_matrix = housing.corr()\n",
    "corr_matrix['SalePrice'].sort_values(ascending=False).head(20)"
   ]
  },
  {
   "cell_type": "markdown",
   "metadata": {
    "collapsed": true
   },
   "source": [
    "Let's attempt a grid search using the random forest regressor algorithm!"
   ]
  },
  {
   "cell_type": "code",
   "execution_count": 43,
   "metadata": {
    "collapsed": true
   },
   "outputs": [],
   "source": [
    "from sklearn.model_selection import GridSearchCV"
   ]
  },
  {
   "cell_type": "code",
   "execution_count": 44,
   "metadata": {
    "collapsed": true
   },
   "outputs": [],
   "source": [
    "param_grid = [\n",
    "    {'n_estimators': [800], 'max_features': [5,6,7]},\n",
    "    #{'bootstrap': [False], 'n_estimators': [3,30], 'max_features': [2, 8, 16]}\n",
    "]"
   ]
  },
  {
   "cell_type": "code",
   "execution_count": 45,
   "metadata": {},
   "outputs": [
    {
     "data": {
      "text/plain": [
       "GridSearchCV(cv=10, error_score='raise',\n",
       "       estimator=RandomForestRegressor(bootstrap=True, criterion='mse', max_depth=None,\n",
       "           max_features='auto', max_leaf_nodes=None,\n",
       "           min_impurity_split=1e-07, min_samples_leaf=1,\n",
       "           min_samples_split=2, min_weight_fraction_leaf=0.0,\n",
       "           n_estimators=10, n_jobs=1, oob_score=False, random_state=None,\n",
       "           verbose=0, warm_start=False),\n",
       "       fit_params={}, iid=True, n_jobs=1,\n",
       "       param_grid=[{'n_estimators': [800], 'max_features': [5, 6, 7]}],\n",
       "       pre_dispatch='2*n_jobs', refit=True, return_train_score=True,\n",
       "       scoring='neg_mean_squared_error', verbose=0)"
      ]
     },
     "execution_count": 45,
     "metadata": {},
     "output_type": "execute_result"
    }
   ],
   "source": [
    "forest_reg = RandomForestRegressor()\n",
    "grid_search = GridSearchCV(forest_reg, param_grid, cv=10, scoring='neg_mean_squared_error')\n",
    "grid_search.fit(housing_prep, housing_labels.ravel())"
   ]
  },
  {
   "cell_type": "code",
   "execution_count": 46,
   "metadata": {},
   "outputs": [
    {
     "data": {
      "text/plain": [
       "RandomForestRegressor(bootstrap=True, criterion='mse', max_depth=None,\n",
       "           max_features=7, max_leaf_nodes=None, min_impurity_split=1e-07,\n",
       "           min_samples_leaf=1, min_samples_split=2,\n",
       "           min_weight_fraction_leaf=0.0, n_estimators=800, n_jobs=1,\n",
       "           oob_score=False, random_state=None, verbose=0, warm_start=False)"
      ]
     },
     "execution_count": 46,
     "metadata": {},
     "output_type": "execute_result"
    }
   ],
   "source": [
    "grid_search.best_estimator_"
   ]
  },
  {
   "cell_type": "markdown",
   "metadata": {},
   "source": [
    "Now we can finally check what are the attributes that are not important to generate a good model! What's more it seems really strange that the Id attribute (which I forgot to remove earlier) is important to fit it."
   ]
  },
  {
   "cell_type": "code",
   "execution_count": 47,
   "metadata": {},
   "outputs": [
    {
     "data": {
      "text/plain": [
       "[(0.054187540376509739, 'OverallQual'),\n",
       " (0.050441356144436365, 'GrLivArea'),\n",
       " (0.044656083417857886, 'TotalBsmtSF'),\n",
       " (0.038565853558755976, 'GarageArea'),\n",
       " (0.034795156082170507, '1stFlrSF'),\n",
       " (0.033871744810309683, 'GarageCars'),\n",
       " (0.032561318073791895, 'ExterQual'),\n",
       " (0.032069401388832124, 'BsmtQual'),\n",
       " (0.028084722163375514, 'YearBuilt'),\n",
       " (0.025207085131215227, 'GarageYrBlt'),\n",
       " (0.024499695355510678, 'YearRemodAdd'),\n",
       " (0.023592017730832523, 'TotRmsAbvGrd'),\n",
       " (0.023377192245477421, 'BsmtFinSF1'),\n",
       " (0.022466325859836309, 'LotArea'),\n",
       " (0.021733395231408083, '2ndFlrSF'),\n",
       " (0.02122223941348457, 'KitchenQual - TA'),\n",
       " (0.021055560573965234, 'FullBath'),\n",
       " (0.019403426042572548, 'FireplaceQu'),\n",
       " (0.018663342017421987, 'Fireplaces'),\n",
       " (0.017859510637902649, 'KitchenQual - Ex'),\n",
       " (0.017493417375358894, 'MasVnrArea'),\n",
       " (0.016573825721662088, 'OpenPorchSF'),\n",
       " (0.015369939395920643, 'LotFrontage'),\n",
       " (0.015300142810328871, 'Foundation - PConc'),\n",
       " (0.012786610075082248, 'BsmtFinType1'),\n",
       " (0.011232071583832161, 'HeatingQC'),\n",
       " (0.011087830065845411, 'WoodDeckSF'),\n",
       " (0.010225828088972185, 'BsmtExposure'),\n",
       " (0.0095887504271130412, 'BsmtUnfSF'),\n",
       " (0.0092454391665947495, 'KitchenQual - Gd'),\n",
       " (0.009023126170531446, 'Neighborhood - NridgHt'),\n",
       " (0.008769412041373081, 'GarageFinish - Unf'),\n",
       " (0.008699831061545352, 'GarageFinish - Fin'),\n",
       " (0.007601647717200931, 'BedroomAbvGr'),\n",
       " (0.0071378254505446281, 'MasVnrType - None'),\n",
       " (0.0066196060965894258, 'MSSubClass'),\n",
       " (0.0064887515405374378, 'GarageType - Attchd'),\n",
       " (0.0063233671480875031, 'Neighborhood - NoRidge'),\n",
       " (0.005938285914639828, 'Id'),\n",
       " (0.0058717424143967436, 'SaleType - New'),\n",
       " (0.005835651337783355, 'Foundation - CBlock'),\n",
       " (0.0058126137192527237, 'GarageType - Detchd'),\n",
       " (0.0055725115400154668, 'HalfBath'),\n",
       " (0.0055132871322392633, 'MoSold'),\n",
       " (0.0052664575756492362, 'RoofStyle - Gable'),\n",
       " (0.0051958212121920909, 'SaleCondition - Partial'),\n",
       " (0.0050187027649203873, 'MasVnrType - Stone'),\n",
       " (0.0050158003526541853, 'OverallCond'),\n",
       " (0.0049797711370211436, 'RoofStyle - Hip'),\n",
       " (0.0045489272947788683, 'BsmtFullBath'),\n",
       " (0.0044135039895205203, 'HouseStyle - 2Story'),\n",
       " (0.0041843784798113511, 'LotShape - Reg'),\n",
       " (0.0040027746847718796, 'YrSold'),\n",
       " (0.0039943599975765208, 'MSZoning - RM'),\n",
       " (0.0037520691749234241, 'Exterior2nd - VinylSd'),\n",
       " (0.0035526617819592377, 'GarageQual'),\n",
       " (0.0034870853028772255, 'Exterior1st - VinylSd'),\n",
       " (0.0033114198164096741, 'GarageCond'),\n",
       " (0.0030965065634098628, 'SaleType - WD'),\n",
       " (0.002977038595134054, 'GarageType - BuiltIn'),\n",
       " (0.0028541156603755658, 'MSZoning - RL'),\n",
       " (0.0028469972702725261, 'LotShape - IR1'),\n",
       " (0.002746989089284519, 'HouseStyle - 1Story'),\n",
       " (0.0027185389829535995, 'Neighborhood - StoneBr'),\n",
       " (0.0025667159021906098, 'RoofMatl - WdShngl'),\n",
       " (0.002465495383941019, 'GarageFinish - RFn'),\n",
       " (0.0024203053167753158, 'SaleCondition - Normal'),\n",
       " (0.0024180658560589556, 'ScreenPorch'),\n",
       " (0.0024030700269698268, 'BldgType - 1Fam'),\n",
       " (0.0023941901549369335, 'MasVnrType - BrkFace'),\n",
       " (0.0021580827188352803, 'CentralAir'),\n",
       " (0.0021506117580675781, 'BsmtCond'),\n",
       " (0.0020694561862248969, 'PoolArea'),\n",
       " (0.0020487805162880701, 'EnclosedPorch'),\n",
       " (0.0019914438154220097, 'Fence'),\n",
       " (0.0019703868255985958, 'GarageFinish - NA'),\n",
       " (0.0019387139935336686, 'PoolQC'),\n",
       " (0.0018200040276346019, 'BsmtFinType2'),\n",
       " (0.0018049715758329413, 'LotConfig - Inside'),\n",
       " (0.0016944998205557288, 'GarageType - NA'),\n",
       " (0.0016701955858528506, 'LandContour - Lvl'),\n",
       " (0.0016294602491903581, 'ExterCond'),\n",
       " (0.0016171670213924782, 'BsmtFinSF2'),\n",
       " (0.0016119055360688506, 'Exterior1st - CemntBd'),\n",
       " (0.001596669141662311, 'Neighborhood - NAmes'),\n",
       " (0.0015847873888586331, 'Exterior2nd - CmentBd'),\n",
       " (0.0015592738455766039, 'RoofMatl - CompShg'),\n",
       " (0.0015475787710953711, 'LotConfig - Corner'),\n",
       " (0.0015462338976714855, 'Electrical - SBrkr'),\n",
       " (0.0014717541441940287, 'Neighborhood - Edwards'),\n",
       " (0.0014709148496888042, 'LotConfig - CulDSac'),\n",
       " (0.0014370449776082983, 'Exterior2nd - HdBoard'),\n",
       " (0.0014276812224820019, 'SaleCondition - Abnorml'),\n",
       " (0.001419233910078088, 'LandSlope'),\n",
       " (0.001402786102981795, 'PavedDrive'),\n",
       " (0.0013901109127796405, 'Exterior1st - Wd Sdng'),\n",
       " (0.0013896887507774524, 'Condition1 - Norm'),\n",
       " (0.0013858648662831243, 'Exterior1st - HdBoard'),\n",
       " (0.0013266765581058865, 'Neighborhood - OldTown'),\n",
       " (0.0013265570717751606, 'Neighborhood - Crawfor'),\n",
       " (0.0013082646151043069, 'Neighborhood - Somerst'),\n",
       " (0.0012054454386326661, 'LotShape - IR2'),\n",
       " (0.0011866101411745786, 'BsmtHalfBath'),\n",
       " (0.0011755684162071689, 'Functional'),\n",
       " (0.0011167261547750653, 'LandContour - HLS'),\n",
       " (0.0010653073689255066, 'HouseStyle - 1.5Fin'),\n",
       " (0.0010624971640886933, 'BldgType - TwnhsE'),\n",
       " (0.0010594217401469275, 'Exterior1st - MetalSd'),\n",
       " (0.0010586024565784496, 'Exterior1st - BrkFace'),\n",
       " (0.0010462740172526995, 'Exterior2nd - Wd Sdng'),\n",
       " (0.0010430243114866557, 'Exterior2nd - ImStucc'),\n",
       " (0.0010249786863934238, 'Neighborhood - CollgCr'),\n",
       " (0.0010148216636927871, 'Foundation - BrkTil'),\n",
       " (0.00096249748369779036, 'Exterior2nd - MetalSd'),\n",
       " (0.00093625296722272666, 'KitchenAbvGr'),\n",
       " (0.00089130273559937456, 'Electrical - FuseA'),\n",
       " (0.00085209544720521902, 'LandContour - Bnk'),\n",
       " (0.00081047343623226779, 'LowQualFinSF'),\n",
       " (0.00080900171279663677, 'Exterior2nd - Plywood'),\n",
       " (0.00077280581884418939, 'Condition1 - Feedr'),\n",
       " (0.0007261317782507711, 'Exterior1st - Plywood'),\n",
       " (0.00072571320721325329, 'Neighborhood - Gilbert'),\n",
       " (0.00070132188423563684, 'LandContour - Low'),\n",
       " (0.00067698415210620615, 'Neighborhood - NWAmes'),\n",
       " (0.00067428779935760667, 'Neighborhood - IDOTRR'),\n",
       " (0.00066446859749861263, 'Alley - NA'),\n",
       " (0.00064287555460270328, 'Neighborhood - ClearCr'),\n",
       " (0.00062026879093338779, 'MSZoning - FV'),\n",
       " (0.0006110241737054702, 'Exterior2nd - BrkFace'),\n",
       " (0.00060419129998242824, 'Neighborhood - Timber'),\n",
       " (0.00055073727782667815, 'KitchenQual - Fa'),\n",
       " (0.00053283564595784597, 'LotShape - IR3'),\n",
       " (0.00048338999770709053, 'Exterior2nd - Wd Shng'),\n",
       " (0.00047924108578899943, 'Condition1 - PosN'),\n",
       " (0.00047762772940798963, 'Exterior2nd - Stucco'),\n",
       " (0.00047035438450693598, 'Neighborhood - Sawyer'),\n",
       " (0.00046549432482774348, 'Heating - GasA'),\n",
       " (0.00044795972892960965, 'BldgType - Duplex'),\n",
       " (0.00043335577380314419, 'Exterior1st - Stucco'),\n",
       " (0.00042182472867831003, 'HouseStyle - SLvl'),\n",
       " (0.00041804855367888949, 'Condition1 - Artery'),\n",
       " (0.00041027595646662431, 'BldgType - Twnhs'),\n",
       " (0.00039220088873481864, 'Neighborhood - BrkSide'),\n",
       " (0.00038913973973229689, 'Neighborhood - Mitchel'),\n",
       " (0.00038141735288179388, 'Alley - Pave'),\n",
       " (0.00037825860954765131, '3SsnPorch'),\n",
       " (0.00037639131843042261, 'LotConfig - FR2'),\n",
       " (0.00037588098350927905, 'MSZoning - C (all)'),\n",
       " (0.00036968277574853597, 'Heating - GasW'),\n",
       " (0.00034987496341259153, 'Condition2 - Norm'),\n",
       " (0.00034676634796593995, 'Neighborhood - SawyerW'),\n",
       " (0.00034656557458765351, 'MiscVal'),\n",
       " (0.00031950534859456704, 'Alley - Grvl'),\n",
       " (0.00031756908045732306, 'Neighborhood - MeadowV'),\n",
       " (0.00031604037374906183, 'GarageType - Basment'),\n",
       " (0.00030036555429679019, 'SaleCondition - Alloca'),\n",
       " (0.00028569109420715816, 'MiscFeature - NA'),\n",
       " (0.00028256274351243682, 'Neighborhood - Veenker'),\n",
       " (0.00027912447375614147, 'SaleCondition - Family'),\n",
       " (0.00027121297452844205, 'HouseStyle - 2.5Fin'),\n",
       " (0.00027009700260667362, 'SaleType - COD'),\n",
       " (0.00026883271397584594, 'Condition2 - PosN'),\n",
       " (0.0002504961932458385, 'RoofStyle - Flat'),\n",
       " (0.00023902371008412655, 'Condition1 - RRAn'),\n",
       " (0.00023786811628890143, 'MiscFeature - Shed'),\n",
       " (0.00023436950432665366, 'Electrical - FuseF'),\n",
       " (0.000218983143618445, 'Neighborhood - Blmngtn'),\n",
       " (0.00021441880849386741, 'HouseStyle - SFoyer'),\n",
       " (0.00021067599309583754, 'Foundation - Slab'),\n",
       " (0.00020846016084115259, 'Exterior1st - WdShing'),\n",
       " (0.00020135868640810723, 'Neighborhood - SWISU'),\n",
       " (0.00019850975064790333, 'MasVnrType - NA'),\n",
       " (0.00019136238415545152, 'BldgType - 2fmCon'),\n",
       " (0.00018629044539184947, 'Condition1 - PosA'),\n",
       " (0.00018161966505143682, 'RoofStyle - Gambrel'),\n",
       " (0.00017965765040227241, 'Neighborhood - BrDale'),\n",
       " (0.00017438004901713101, 'RoofMatl - ClyTile'),\n",
       " (0.00017187516095603077, 'SaleType - ConLI'),\n",
       " (0.00015121424499698287, 'RoofMatl - Tar&Grv'),\n",
       " (0.00014886951357233547, 'Exterior1st - AsbShng'),\n",
       " (0.0001464136440149174, 'SaleType - CWD'),\n",
       " (0.00013118317987325775, 'Heating - Grav'),\n",
       " (0.00012663620783930505, 'Condition2 - PosA'),\n",
       " (0.00012283751561413837, 'Exterior2nd - AsbShng'),\n",
       " (0.00011813239758102549, 'HouseStyle - 2.5Unf'),\n",
       " (0.00011421183328926177, 'MasVnrType - BrkCmn'),\n",
       " (0.00011053957622827222, 'MSZoning - RH'),\n",
       " (0.00011014907150846108, 'Condition1 - RRAe'),\n",
       " (0.00010913657546413111, 'Foundation - Stone'),\n",
       " (0.0001003736188639049, 'Exterior2nd - Brk Cmn'),\n",
       " (9.1677174922137942e-05, 'SaleType - Con'),\n",
       " (8.9317117596980438e-05, 'RoofMatl - WdShake'),\n",
       " (7.9431090531882615e-05, 'RoofStyle - Mansard'),\n",
       " (7.9260026451846244e-05, 'GarageType - CarPort'),\n",
       " (7.0124425391506791e-05, 'Exterior1st - Stone'),\n",
       " (6.6045119195073579e-05, 'Street'),\n",
       " (6.2838072295866556e-05, 'HouseStyle - 1.5Unf'),\n",
       " (5.757688172400386e-05, 'Condition1 - RRNn'),\n",
       " (5.4762570061436283e-05, 'GarageType - 2Types'),\n",
       " (4.9070622329194507e-05, 'SaleType - ConLD'),\n",
       " (4.7318080841824584e-05, 'Foundation - Wood'),\n",
       " (4.6292543378195869e-05, 'Neighborhood - NPkVill'),\n",
       " (4.5895779880033545e-05, 'RoofStyle - Shed'),\n",
       " (4.3688677827451617e-05, 'Exterior2nd - Stone'),\n",
       " (4.3514740921015313e-05, 'Exterior1st - BrkComm'),\n",
       " (4.1093595402114284e-05, 'LotConfig - FR3'),\n",
       " (3.3895676130073756e-05, 'Exterior1st - ImStucc'),\n",
       " (3.2475615084616557e-05, 'Condition2 - Feedr'),\n",
       " (3.0947056085882534e-05, 'RoofMatl - Membran'),\n",
       " (2.6443381496465187e-05, 'Exterior2nd - Other'),\n",
       " (2.5238332281281799e-05, 'Electrical - FuseP'),\n",
       " (2.481635721076894e-05, 'SaleCondition - AdjLand'),\n",
       " (2.4309503812420785e-05, 'MiscFeature - Othr'),\n",
       " (2.3963520340166443e-05, 'SaleType - Oth'),\n",
       " (2.2283385899006513e-05, 'SaleType - ConLw'),\n",
       " (2.219478874347885e-05, 'Heating - OthW'),\n",
       " (1.992203162930189e-05, 'Condition2 - RRNn'),\n",
       " (1.8865586938345501e-05, 'MiscFeature - TenC'),\n",
       " (1.8428327762763911e-05, 'Heating - Wall'),\n",
       " (1.829121117599128e-05, 'MiscFeature - Gar2'),\n",
       " (1.713590095982442e-05, 'Condition2 - Artery'),\n",
       " (1.4373703795907815e-05, 'Heating - Floor'),\n",
       " (1.3995792774223244e-05, 'Exterior2nd - AsphShn'),\n",
       " (1.3899347968548324e-05, 'Utilities'),\n",
       " (1.040944811673565e-05, 'Electrical - Mix'),\n",
       " (1.0294836300987676e-05, 'Condition1 - RRNe'),\n",
       " (9.4078721340550784e-06, 'RoofMatl - Metal'),\n",
       " (8.0132372806180523e-06, 'Exterior1st - CBlock'),\n",
       " (7.234188360362571e-06, 'Condition2 - RRAe'),\n",
       " (6.6716262840014398e-06, 'Neighborhood - Blueste'),\n",
       " (5.4696410179289759e-06, 'RoofMatl - Roll'),\n",
       " (3.5044395209969536e-06, 'Exterior1st - AsphShn'),\n",
       " (3.1249863534271033e-06, 'Exterior2nd - CBlock'),\n",
       " (3.0152299601846674e-06, 'Condition2 - RRAn'),\n",
       " (2.0788786019209945e-06, 'Electrical - NA')]"
      ]
     },
     "execution_count": 47,
     "metadata": {},
     "output_type": "execute_result"
    }
   ],
   "source": [
    "feature_importances = grid_search.best_estimator_.feature_importances_\n",
    "Attr = Attributes\n",
    "Attr.pop(-1)\n",
    "bestattributes = sorted(zip(feature_importances,Attr), reverse = True)\n",
    "bestattributes"
   ]
  },
  {
   "cell_type": "markdown",
   "metadata": {},
   "source": [
    "What I'll do now to select the attributes that have a weight greater than 0.001. I'll try employing only those attributes to create the next model. Of course, I'll remove the Id attribute as well. Employing a list comprehension:"
   ]
  },
  {
   "cell_type": "code",
   "execution_count": 48,
   "metadata": {
    "collapsed": true
   },
   "outputs": [],
   "source": [
    "abovethresh = [bestattributes[i][1] for i, _ in enumerate(bestattributes) if bestattributes[i][0] > 0.01 ]"
   ]
  },
  {
   "cell_type": "code",
   "execution_count": 49,
   "metadata": {
    "collapsed": true
   },
   "outputs": [],
   "source": [
    "#abovethresh.remove('Id')\n",
    "belowthresh = list(set(Attr) - set(abovethresh))\n",
    "indexed = pd.DataFrame(housing_prep, columns=Attr)\n",
    "housing_dropped = indexed.copy()\n",
    "for el in belowthresh:\n",
    "    housing_dropped = housing_dropped.drop(el, axis=1)"
   ]
  },
  {
   "cell_type": "markdown",
   "metadata": {},
   "source": [
    "We have just dropped 207 attributes:"
   ]
  },
  {
   "cell_type": "code",
   "execution_count": 50,
   "metadata": {},
   "outputs": [
    {
     "data": {
      "text/plain": [
       "207"
      ]
     },
     "execution_count": 50,
     "metadata": {},
     "output_type": "execute_result"
    }
   ],
   "source": [
    "len(belowthresh)"
   ]
  },
  {
   "cell_type": "code",
   "execution_count": 51,
   "metadata": {
    "collapsed": true
   },
   "outputs": [],
   "source": [
    "select = Selector(abovethresh)\n",
    "housing_dropped_prep = select.fit_transform(housing_dropped)"
   ]
  },
  {
   "cell_type": "code",
   "execution_count": 52,
   "metadata": {},
   "outputs": [
    {
     "name": "stdout",
     "output_type": "stream",
     "text": [
      "Scores: [ 29253.34236952  30942.89354233  21004.49090507  31122.49058439\n",
      "  44140.67038835  39614.32570453  34149.42869606  27913.46517286\n",
      "  25106.1050962   22509.45021194]\n",
      "Mean: 30575.6662671\n",
      "Standard Deviation: 6887.20223064\n"
     ]
    }
   ],
   "source": [
    "# A random forest regressor model!\n",
    "forest_reg = RandomForestRegressor()\n",
    "forest_reg.fit(housing_dropped_prep,housing_labels.ravel())\n",
    "scores = cross_val_score(forest_reg, housing_dropped_prep,housing_labels.ravel(),scoring = 'neg_mean_squared_error', cv=10)\n",
    "forest_reg_rmse_scores = np.sqrt(-scores)\n",
    "display_scores(forest_reg_rmse_scores)"
   ]
  },
  {
   "cell_type": "code",
   "execution_count": 53,
   "metadata": {},
   "outputs": [
    {
     "name": "stdout",
     "output_type": "stream",
     "text": [
      "Scores: [ 37286.32177811  31175.40342655  26107.69867768  37818.99114824\n",
      "  42266.56031733  61199.17095729  32850.61623696  28905.23797869\n",
      "  26794.90872646  22938.37031888]\n",
      "Mean: 34734.3279566\n",
      "Standard Deviation: 10487.8052494\n"
     ]
    }
   ],
   "source": [
    "lin_reg = LinearRegression()\n",
    "lin_reg.fit(housing_dropped_prep,housing_labels)\n",
    "scores = cross_val_score(lin_reg, housing_dropped_prep, housing_labels,scoring = 'neg_mean_squared_error', cv=10)\n",
    "lin_reg_rmse_scores = np.sqrt(-scores)\n",
    "display_scores(lin_reg_rmse_scores)"
   ]
  },
  {
   "cell_type": "markdown",
   "metadata": {},
   "source": [
    "Have a look at the linear regression model, its a huge improvement over the model built upon the 235 column set. That probably has to do with the fact that many of the attributes were not independent! Let's make a grid search again."
   ]
  },
  {
   "cell_type": "code",
   "execution_count": 54,
   "metadata": {},
   "outputs": [
    {
     "data": {
      "text/plain": [
       "GridSearchCV(cv=10, error_score='raise',\n",
       "       estimator=RandomForestRegressor(bootstrap=True, criterion='mse', max_depth=None,\n",
       "           max_features='auto', max_leaf_nodes=None,\n",
       "           min_impurity_split=1e-07, min_samples_leaf=1,\n",
       "           min_samples_split=2, min_weight_fraction_leaf=0.0,\n",
       "           n_estimators=10, n_jobs=1, oob_score=False, random_state=None,\n",
       "           verbose=0, warm_start=False),\n",
       "       fit_params={}, iid=True, n_jobs=1,\n",
       "       param_grid=[{'n_estimators': [800, 900], 'max_features': [7]}],\n",
       "       pre_dispatch='2*n_jobs', refit=True, return_train_score=True,\n",
       "       scoring='neg_mean_squared_error', verbose=0)"
      ]
     },
     "execution_count": 54,
     "metadata": {},
     "output_type": "execute_result"
    }
   ],
   "source": [
    "param_grid = [\n",
    "    {'n_estimators': [800,900], 'max_features': [7]},\n",
    "    #{'bootstrap': [False], 'n_estimators': [3,30], 'max_features': [2, 8, 16]}\n",
    "]\n",
    "forest_reg = RandomForestRegressor()\n",
    "grid_search = GridSearchCV(forest_reg, param_grid, cv=10, scoring='neg_mean_squared_error')\n",
    "grid_search.fit(housing_dropped_prep, housing_labels.ravel())"
   ]
  },
  {
   "cell_type": "code",
   "execution_count": 111,
   "metadata": {},
   "outputs": [
    {
     "data": {
      "text/plain": [
       "array([ 0.21532374,  0.12158563,  0.06286917,  0.04941256,  0.04543098,\n",
       "        0.08707178,  0.07934457,  0.03965393,  0.04382752,  0.01885853,\n",
       "        0.01489739,  0.01594587,  0.02925176,  0.0238388 ,  0.03255745,\n",
       "        0.00863644,  0.01963481,  0.01524744,  0.0086848 ,  0.0115236 ,\n",
       "        0.01199667,  0.0085867 ,  0.01271483,  0.00271343,  0.00552034,\n",
       "        0.00233617,  0.00762264,  0.00491246])"
      ]
     },
     "execution_count": 111,
     "metadata": {},
     "output_type": "execute_result"
    }
   ],
   "source": [
    "feature_importances = grid_search.best_estimator_.feature_importances_\n",
    "feature_importances"
   ]
  },
  {
   "cell_type": "code",
   "execution_count": 56,
   "metadata": {},
   "outputs": [
    {
     "data": {
      "text/plain": [
       "RandomForestRegressor(bootstrap=True, criterion='mse', max_depth=None,\n",
       "           max_features=7, max_leaf_nodes=None, min_impurity_split=1e-07,\n",
       "           min_samples_leaf=1, min_samples_split=2,\n",
       "           min_weight_fraction_leaf=0.0, n_estimators=900, n_jobs=1,\n",
       "           oob_score=False, random_state=None, verbose=0, warm_start=False)"
      ]
     },
     "execution_count": 56,
     "metadata": {},
     "output_type": "execute_result"
    }
   ],
   "source": [
    "grid_search.best_estimator_"
   ]
  },
  {
   "cell_type": "code",
   "execution_count": 57,
   "metadata": {},
   "outputs": [
    {
     "name": "stdout",
     "output_type": "stream",
     "text": [
      "28705.6724102 {'max_features': 7, 'n_estimators': 800}\n",
      "28677.890179 {'max_features': 7, 'n_estimators': 900}\n"
     ]
    }
   ],
   "source": [
    "cvres = grid_search.cv_results_\n",
    "for mean_score, params in zip(cvres[\"mean_test_score\"],cvres[\"params\"]):\n",
    "    print(np.sqrt(-mean_score),params)"
   ]
  },
  {
   "cell_type": "markdown",
   "metadata": {},
   "source": [
    "Best model has a Root mean squared error score of approximately 28584, a bit lower than the original model, but as low as we it could be yet. Below we list the most important attributes used to predict the Sale Price. They are list in order of importance (The first one is the most important and so on so forth)."
   ]
  },
  {
   "cell_type": "code",
   "execution_count": 58,
   "metadata": {},
   "outputs": [
    {
     "data": {
      "text/plain": [
       "28"
      ]
     },
     "execution_count": 58,
     "metadata": {},
     "output_type": "execute_result"
    }
   ],
   "source": [
    "len(abovethresh)"
   ]
  },
  {
   "cell_type": "code",
   "execution_count": 59,
   "metadata": {
    "collapsed": true
   },
   "outputs": [],
   "source": [
    "comparison = np.column_stack((np.array(abovethresh),np.array(list(corr.index))))"
   ]
  },
  {
   "cell_type": "code",
   "execution_count": 60,
   "metadata": {},
   "outputs": [
    {
     "data": {
      "text/html": [
       "<div>\n",
       "<style>\n",
       "    .dataframe thead tr:only-child th {\n",
       "        text-align: right;\n",
       "    }\n",
       "\n",
       "    .dataframe thead th {\n",
       "        text-align: left;\n",
       "    }\n",
       "\n",
       "    .dataframe tbody tr th {\n",
       "        vertical-align: top;\n",
       "    }\n",
       "</style>\n",
       "<table border=\"1\" class=\"dataframe\">\n",
       "  <thead>\n",
       "    <tr style=\"text-align: right;\">\n",
       "      <th></th>\n",
       "      <th>Most important attributes according to RF model</th>\n",
       "      <th>Most correlated attributes with target</th>\n",
       "    </tr>\n",
       "  </thead>\n",
       "  <tbody>\n",
       "    <tr>\n",
       "      <th>0</th>\n",
       "      <td>OverallQual</td>\n",
       "      <td>SalePrice</td>\n",
       "    </tr>\n",
       "    <tr>\n",
       "      <th>1</th>\n",
       "      <td>GrLivArea</td>\n",
       "      <td>OverallQual</td>\n",
       "    </tr>\n",
       "    <tr>\n",
       "      <th>2</th>\n",
       "      <td>TotalBsmtSF</td>\n",
       "      <td>GrLivArea</td>\n",
       "    </tr>\n",
       "    <tr>\n",
       "      <th>3</th>\n",
       "      <td>GarageArea</td>\n",
       "      <td>ExterQual</td>\n",
       "    </tr>\n",
       "    <tr>\n",
       "      <th>4</th>\n",
       "      <td>1stFlrSF</td>\n",
       "      <td>GarageCars</td>\n",
       "    </tr>\n",
       "    <tr>\n",
       "      <th>5</th>\n",
       "      <td>GarageCars</td>\n",
       "      <td>GarageArea</td>\n",
       "    </tr>\n",
       "    <tr>\n",
       "      <th>6</th>\n",
       "      <td>ExterQual</td>\n",
       "      <td>TotalBsmtSF</td>\n",
       "    </tr>\n",
       "    <tr>\n",
       "      <th>7</th>\n",
       "      <td>BsmtQual</td>\n",
       "      <td>1stFlrSF</td>\n",
       "    </tr>\n",
       "    <tr>\n",
       "      <th>8</th>\n",
       "      <td>YearBuilt</td>\n",
       "      <td>BsmtQual</td>\n",
       "    </tr>\n",
       "    <tr>\n",
       "      <th>9</th>\n",
       "      <td>GarageYrBlt</td>\n",
       "      <td>FullBath</td>\n",
       "    </tr>\n",
       "    <tr>\n",
       "      <th>10</th>\n",
       "      <td>YearRemodAdd</td>\n",
       "      <td>TotRmsAbvGrd</td>\n",
       "    </tr>\n",
       "    <tr>\n",
       "      <th>11</th>\n",
       "      <td>TotRmsAbvGrd</td>\n",
       "      <td>YearBuilt</td>\n",
       "    </tr>\n",
       "    <tr>\n",
       "      <th>12</th>\n",
       "      <td>BsmtFinSF1</td>\n",
       "      <td>FireplaceQu</td>\n",
       "    </tr>\n",
       "    <tr>\n",
       "      <th>13</th>\n",
       "      <td>LotArea</td>\n",
       "      <td>YearRemodAdd</td>\n",
       "    </tr>\n",
       "    <tr>\n",
       "      <th>14</th>\n",
       "      <td>2ndFlrSF</td>\n",
       "      <td>KitchenQual - Ex</td>\n",
       "    </tr>\n",
       "    <tr>\n",
       "      <th>15</th>\n",
       "      <td>KitchenQual - TA</td>\n",
       "      <td>Foundation - PConc</td>\n",
       "    </tr>\n",
       "    <tr>\n",
       "      <th>16</th>\n",
       "      <td>FullBath</td>\n",
       "      <td>MasVnrArea</td>\n",
       "    </tr>\n",
       "    <tr>\n",
       "      <th>17</th>\n",
       "      <td>FireplaceQu</td>\n",
       "      <td>Fireplaces</td>\n",
       "    </tr>\n",
       "    <tr>\n",
       "      <th>18</th>\n",
       "      <td>Fireplaces</td>\n",
       "      <td>GarageYrBlt</td>\n",
       "    </tr>\n",
       "    <tr>\n",
       "      <th>19</th>\n",
       "      <td>KitchenQual - Ex</td>\n",
       "      <td>HeatingQC</td>\n",
       "    </tr>\n",
       "    <tr>\n",
       "      <th>20</th>\n",
       "      <td>MasVnrArea</td>\n",
       "      <td>GarageFinish - Fin</td>\n",
       "    </tr>\n",
       "    <tr>\n",
       "      <th>21</th>\n",
       "      <td>OpenPorchSF</td>\n",
       "      <td>Neighborhood - NridgHt</td>\n",
       "    </tr>\n",
       "    <tr>\n",
       "      <th>22</th>\n",
       "      <td>LotFrontage</td>\n",
       "      <td>BsmtFinSF1</td>\n",
       "    </tr>\n",
       "    <tr>\n",
       "      <th>23</th>\n",
       "      <td>Foundation - PConc</td>\n",
       "      <td>BsmtExposure</td>\n",
       "    </tr>\n",
       "    <tr>\n",
       "      <th>24</th>\n",
       "      <td>BsmtFinType1</td>\n",
       "      <td>SaleType - New</td>\n",
       "    </tr>\n",
       "    <tr>\n",
       "      <th>25</th>\n",
       "      <td>HeatingQC</td>\n",
       "      <td>SaleCondition - Partial</td>\n",
       "    </tr>\n",
       "    <tr>\n",
       "      <th>26</th>\n",
       "      <td>WoodDeckSF</td>\n",
       "      <td>GarageType - Attchd</td>\n",
       "    </tr>\n",
       "    <tr>\n",
       "      <th>27</th>\n",
       "      <td>BsmtExposure</td>\n",
       "      <td>LotFrontage</td>\n",
       "    </tr>\n",
       "  </tbody>\n",
       "</table>\n",
       "</div>"
      ],
      "text/plain": [
       "   Most important attributes according to RF model  \\\n",
       "0                                      OverallQual   \n",
       "1                                        GrLivArea   \n",
       "2                                      TotalBsmtSF   \n",
       "3                                       GarageArea   \n",
       "4                                         1stFlrSF   \n",
       "5                                       GarageCars   \n",
       "6                                        ExterQual   \n",
       "7                                         BsmtQual   \n",
       "8                                        YearBuilt   \n",
       "9                                      GarageYrBlt   \n",
       "10                                    YearRemodAdd   \n",
       "11                                    TotRmsAbvGrd   \n",
       "12                                      BsmtFinSF1   \n",
       "13                                         LotArea   \n",
       "14                                        2ndFlrSF   \n",
       "15                                KitchenQual - TA   \n",
       "16                                        FullBath   \n",
       "17                                     FireplaceQu   \n",
       "18                                      Fireplaces   \n",
       "19                                KitchenQual - Ex   \n",
       "20                                      MasVnrArea   \n",
       "21                                     OpenPorchSF   \n",
       "22                                     LotFrontage   \n",
       "23                              Foundation - PConc   \n",
       "24                                    BsmtFinType1   \n",
       "25                                       HeatingQC   \n",
       "26                                      WoodDeckSF   \n",
       "27                                    BsmtExposure   \n",
       "\n",
       "   Most correlated attributes with target  \n",
       "0                               SalePrice  \n",
       "1                             OverallQual  \n",
       "2                               GrLivArea  \n",
       "3                               ExterQual  \n",
       "4                              GarageCars  \n",
       "5                              GarageArea  \n",
       "6                             TotalBsmtSF  \n",
       "7                                1stFlrSF  \n",
       "8                                BsmtQual  \n",
       "9                                FullBath  \n",
       "10                           TotRmsAbvGrd  \n",
       "11                              YearBuilt  \n",
       "12                            FireplaceQu  \n",
       "13                           YearRemodAdd  \n",
       "14                       KitchenQual - Ex  \n",
       "15                     Foundation - PConc  \n",
       "16                             MasVnrArea  \n",
       "17                             Fireplaces  \n",
       "18                            GarageYrBlt  \n",
       "19                              HeatingQC  \n",
       "20                     GarageFinish - Fin  \n",
       "21                 Neighborhood - NridgHt  \n",
       "22                             BsmtFinSF1  \n",
       "23                           BsmtExposure  \n",
       "24                         SaleType - New  \n",
       "25                SaleCondition - Partial  \n",
       "26                    GarageType - Attchd  \n",
       "27                            LotFrontage  "
      ]
     },
     "execution_count": 60,
     "metadata": {},
     "output_type": "execute_result"
    }
   ],
   "source": [
    "pd.DataFrame(comparison, columns=[\"Most important attributes according to RF model\",\"Most correlated attributes with target\"])"
   ]
  },
  {
   "cell_type": "code",
   "execution_count": 66,
   "metadata": {},
   "outputs": [
    {
     "data": {
      "image/png": "[encoded data removed]",
      "text/plain": [
       "<matplotlib.figure.Figure at 0x2e0902b1f60>"
      ]
     },
     "metadata": {},
     "output_type": "display_data"
    },
    {
     "data": {
      "image/png": "[encoded data removed]",
      "text/plain": [
       "<matplotlib.figure.Figure at 0x2e08f1b5ba8>"
      ]
     },
     "metadata": {},
     "output_type": "display_data"
    },
    {
     "data": {
      "image/png": "[encoded data removed]",
      "text/plain": [
       "<matplotlib.figure.Figure at 0x2e0903de9e8>"
      ]
     },
     "metadata": {},
     "output_type": "display_data"
    },
    {
     "data": {
      "image/png": "[encoded data removed]",
      "text/plain": [
       "<matplotlib.figure.Figure at 0x2e0915d9470>"
      ]
     },
     "metadata": {},
     "output_type": "display_data"
    },
    {
     "data": {
      "image/png": "[encoded data removed]",
      "text/plain": [
       "<matplotlib.figure.Figure at 0x2e090397c88>"
      ]
     },
     "metadata": {},
     "output_type": "display_data"
    },
    {
     "data": {
      "image/png": "[encoded data removed]",
      "text/plain": [
       "<matplotlib.figure.Figure at 0x2e090285390>"
      ]
     },
     "metadata": {},
     "output_type": "display_data"
    },
    {
     "data": {
      "image/png": "[encoded data removed]",
      "text/plain": [
       "<matplotlib.figure.Figure at 0x2e08fa9f5f8>"
      ]
     },
     "metadata": {},
     "output_type": "display_data"
    },
    {
     "data": {
      "image/png": "[encoded data removed]",
      "text/plain": [
       "<matplotlib.figure.Figure at 0x2e08f7fc1d0>"
      ]
     },
     "metadata": {},
     "output_type": "display_data"
    },
    {
     "data": {
      "image/png": "[encoded data removed]",
      "text/plain": [
       "<matplotlib.figure.Figure at 0x2e08f664a90>"
      ]
     },
     "metadata": {},
     "output_type": "display_data"
    },
    {
     "data": {
      "image/png": "[encoded data removed]",
      "text/plain": [
       "<matplotlib.figure.Figure at 0x2e08f613668>"
      ]
     },
     "metadata": {},
     "output_type": "display_data"
    },
    {
     "data": {
      "image/png": "[encoded data removed]",
      "text/plain": [
       "<matplotlib.figure.Figure at 0x2e08ffdc9b0>"
      ]
     },
     "metadata": {},
     "output_type": "display_data"
    },
    {
     "data": {
      "image/png": "[encoded data removed]",
      "text/plain": [
       "<matplotlib.figure.Figure at 0x2e091874128>"
      ]
     },
     "metadata": {},
     "output_type": "display_data"
    },
    {
     "data": {
      "image/png": "[encoded data removed]",
      "text/plain": [
       "<matplotlib.figure.Figure at 0x2e08f6bfbe0>"
      ]
     },
     "metadata": {},
     "output_type": "display_data"
    },
    {
     "data": {
      "image/png": "[encoded data removed]",
      "text/plain": [
       "<matplotlib.figure.Figure at 0x2e0918c01d0>"
      ]
     },
     "metadata": {},
     "output_type": "display_data"
    },
    {
     "data": {
      "image/png": "[encoded data removed]",
      "text/plain": [
       "<matplotlib.figure.Figure at 0x2e0901545c0>"
      ]
     },
     "metadata": {},
     "output_type": "display_data"
    },
    {
     "data": {
      "image/png": "[encoded data removed]",
      "text/plain": [
       "<matplotlib.figure.Figure at 0x2e09001e1d0>"
      ]
     },
     "metadata": {},
     "output_type": "display_data"
    },
    {
     "data": {
      "image/png": "[encoded data removed]",
      "text/plain": [
       "<matplotlib.figure.Figure at 0x2e0913f71d0>"
      ]
     },
     "metadata": {},
     "output_type": "display_data"
    },
    {
     "data": {
      "image/png": "[encoded data removed]",
      "text/plain": [
       "<matplotlib.figure.Figure at 0x2e09160b668>"
      ]
     },
     "metadata": {},
     "output_type": "display_data"
    },
    {
     "data": {
      "image/png": "[encoded data removed]",
      "text/plain": [
       "<matplotlib.figure.Figure at 0x2e0901a4d30>"
      ]
     },
     "metadata": {},
     "output_type": "display_data"
    },
    {
     "data": {
      "image/png": "[encoded data removed]",
      "text/plain": [
       "<matplotlib.figure.Figure at 0x2e09008d8d0>"
      ]
     },
     "metadata": {},
     "output_type": "display_data"
    },
    {
     "data": {
      "image/png": "[encoded data removed]",
      "text/plain": [
       "<matplotlib.figure.Figure at 0x2e08ff35128>"
      ]
     },
     "metadata": {},
     "output_type": "display_data"
    },
    {
     "data": {
      "image/png": "[encoded data removed]",
      "text/plain": [
       "<matplotlib.figure.Figure at 0x2e0915b1748>"
      ]
     },
     "metadata": {},
     "output_type": "display_data"
    },
    {
     "data": {
      "image/png": "[encoded data removed]",
      "text/plain": [
       "<matplotlib.figure.Figure at 0x2e090033780>"
      ]
     },
     "metadata": {},
     "output_type": "display_data"
    },
    {
     "data": {
      "image/png": "[encoded data removed]",
      "text/plain": [
       "<matplotlib.figure.Figure at 0x2e08f9e9278>"
      ]
     },
     "metadata": {},
     "output_type": "display_data"
    },
    {
     "data": {
      "image/png": "[encoded data removed]",
      "text/plain": [
       "<matplotlib.figure.Figure at 0x2e08ff04c18>"
      ]
     },
     "metadata": {},
     "output_type": "display_data"
    },
    {
     "data": {
      "image/png": "[encoded data removed]",
      "text/plain": [
       "<matplotlib.figure.Figure at 0x2e0902b82e8>"
      ]
     },
     "metadata": {},
     "output_type": "display_data"
    },
    {
     "data": {
      "image/png": "[encoded data removed]",
      "text/plain": [
       "<matplotlib.figure.Figure at 0x2e08fddc128>"
      ]
     },
     "metadata": {},
     "output_type": "display_data"
    },
    {
     "data": {
      "image/png": "[encoded data removed]",
      "text/plain": [
       "<matplotlib.figure.Figure at 0x2e08fddcf98>"
      ]
     },
     "metadata": {},
     "output_type": "display_data"
    }
   ],
   "source": [
    "for attr in comparison[:,0]:\n",
    "    plt.title(attr)\n",
    "    housing_dropped[attr].hist()\n",
    "    plt.show()"
   ]
  },
  {
   "cell_type": "code",
   "execution_count": 75,
   "metadata": {},
   "outputs": [
    {
     "name": "stdout",
     "output_type": "stream",
     "text": [
      "Scores: [ 97334.79716049  79300.37738356  77199.80817968  93286.3048833\n",
      "  75192.31172704  77971.67966348  85848.57424633  75439.72698424\n",
      "  73211.44292224  75355.09444445]\n",
      "Mean: 81014.0117595\n",
      "Standard Deviation: 7905.43454231\n"
     ]
    }
   ],
   "source": [
    "svm_reg = SVR(kernel='rbf', C=10, gamma=10)\n",
    "svm_reg.fit(housing_dropped_prep,housing_labels.ravel())\n",
    "scores = cross_val_score(svm_reg, housing_dropped_prep,housing_labels.ravel(),scoring = 'neg_mean_squared_error', cv=10)\n",
    "svm_reg_rmse_scores = np.sqrt(-scores)\n",
    "display_scores(svm_reg_rmse_scores)"
   ]
  },
  {
   "cell_type": "code",
   "execution_count": 81,
   "metadata": {},
   "outputs": [
    {
     "data": {
      "text/plain": [
       "GridSearchCV(cv=10, error_score='raise',\n",
       "       estimator=SVR(C=1.0, cache_size=200, coef0=0.0, degree=3, epsilon=0.1, gamma='auto',\n",
       "  kernel='rbf', max_iter=-1, shrinking=True, tol=0.001, verbose=False),\n",
       "       fit_params={}, iid=True, n_jobs=1,\n",
       "       param_grid=[{'kernel': ['linear'], 'C': [1, 10, 100, 1000, 10000]}],\n",
       "       pre_dispatch='2*n_jobs', refit=True, return_train_score=True,\n",
       "       scoring='neg_mean_squared_error', verbose=0)"
      ]
     },
     "execution_count": 81,
     "metadata": {},
     "output_type": "execute_result"
    }
   ],
   "source": [
    "param_grid_svm = [\n",
    "    {\"kernel\": ['linear'], \"C\":[1,10,100,1000,10000]}\n",
    "]\n",
    "svm_reg = SVR()\n",
    "gridsvm = GridSearchCV(svm_reg, param_grid_svm, cv=10, scoring=\"neg_mean_squared_error\")\n",
    "gridsvm.fit(housing_dropped_prep,housing_labels.ravel())"
   ]
  },
  {
   "cell_type": "code",
   "execution_count": 88,
   "metadata": {},
   "outputs": [
    {
     "data": {
      "text/plain": [
       "[(35594.24695733346, {'C': 10000, 'kernel': 'linear'}),\n",
       " (35662.311060002554, {'C': 1000, 'kernel': 'linear'}),\n",
       " (36726.328822675932, {'C': 100, 'kernel': 'linear'}),\n",
       " (45629.763855684592, {'C': 10, 'kernel': 'linear'}),\n",
       " (73669.765641074278, {'C': 1, 'kernel': 'linear'})]"
      ]
     },
     "execution_count": 88,
     "metadata": {},
     "output_type": "execute_result"
    }
   ],
   "source": [
    "sorted(zip(np.sqrt(-gridsvm.cv_results_['mean_test_score']),gridsvm.cv_results_[\"params\"]))"
   ]
  },
  {
   "cell_type": "code",
   "execution_count": 105,
   "metadata": {},
   "outputs": [
    {
     "data": {
      "text/plain": [
       "RandomizedSearchCV(cv=10, error_score='raise',\n",
       "          estimator=SVR(C=1.0, cache_size=200, coef0=0.0, degree=3, epsilon=0.1, gamma='auto',\n",
       "  kernel='rbf', max_iter=-1, shrinking=True, tol=0.001, verbose=False),\n",
       "          fit_params={}, iid=True, n_iter=20, n_jobs=4,\n",
       "          param_distributions={'kernel': ['linear', 'rbf'], 'C': <scipy.stats._distn_infrastructure.rv_frozen object at 0x000002E090235A58>, 'gamma': <scipy.stats._distn_infrastructure.rv_frozen object at 0x000002E090235208>},\n",
       "          pre_dispatch='2*n_jobs', random_state=42, refit=True,\n",
       "          return_train_score=True, scoring='neg_mean_squared_error',\n",
       "          verbose=0)"
      ]
     },
     "execution_count": 105,
     "metadata": {},
     "output_type": "execute_result"
    }
   ],
   "source": [
    "from sklearn.model_selection import RandomizedSearchCV\n",
    "from scipy.stats import randint, expon, reciprocal\n",
    "\n",
    "rand_param_grid_svm =     {\"kernel\": ['linear','rbf'],  'C': reciprocal(20, 200000),  'gamma': expon(scale=1.0)}\n",
    "#   {\"kernel\": ['rbf'], \"C\": randint(low=1, high=50000), \"gamma\": randint(low=1, high=10000)}\n",
    "\n",
    "\n",
    "svm_reg = SVR()\n",
    "randsvm = RandomizedSearchCV(svm_reg, param_distributions=rand_param_grid_svm, n_iter=20, n_jobs=4, cv=10, random_state=42, scoring=\"neg_mean_squared_error\")\n",
    "randsvm.fit(housing_dropped_prep, housing_labels.ravel())"
   ]
  },
  {
   "cell_type": "code",
   "execution_count": 106,
   "metadata": {},
   "outputs": [
    {
     "data": {
      "text/plain": [
       "[(33533.968403105966,\n",
       "  {'C': 113564.03940586245, 'gamma': 0.00077906923665822954, 'kernel': 'rbf'}),\n",
       " (35577.563378913772,\n",
       "  {'C': 5385.2938201723546, 'gamma': 0.18696125197741642, 'kernel': 'linear'}),\n",
       " (35717.532725048826,\n",
       "  {'C': 629.78232959137199, 'gamma': 3.010121430917521, 'kernel': 'linear'}),\n",
       " (35739.766359857844,\n",
       "  {'C': 27652.464358739708, 'gamma': 0.22273586212869029, 'kernel': 'linear'}),\n",
       " (35740.374988854215,\n",
       "  {'C': 34246.751946327939, 'gamma': 0.36328785996875829, 'kernel': 'linear'}),\n",
       " (35780.444159098763,\n",
       "  {'C': 171377.39570378003, 'gamma': 0.62878910054085602, 'kernel': 'linear'}),\n",
       " (35813.046344919851,\n",
       "  {'C': 432.37884813148855, 'gamma': 0.15416196746656105, 'kernel': 'linear'}),\n",
       " (36523.684664747074,\n",
       "  {'C': 135.76775824842434, 'gamma': 0.83863624562480299, 'kernel': 'linear'}),\n",
       " (37572.57377513573,\n",
       "  {'C': 61.543605425013709, 'gamma': 0.68354722813415014, 'kernel': 'linear'}),\n",
       " (40841.578979006284,\n",
       "  {'C': 21.344953672647435,\n",
       "   'gamma': 0.023332523598323388,\n",
       "   'kernel': 'linear'}),\n",
       " (60170.190712914831,\n",
       "  {'C': 157055.10989448498, 'gamma': 0.26497040005002437, 'kernel': 'rbf'}),\n",
       " (66656.693896062963,\n",
       "  {'C': 5603.2703174325161, 'gamma': 0.15023452872733867, 'kernel': 'rbf'}),\n",
       " (77334.949964392377,\n",
       "  {'C': 8935.5056359478076, 'gamma': 0.37354658165762367, 'kernel': 'rbf'}),\n",
       " (78527.776286412991,\n",
       "  {'C': 84.141079005758712, 'gamma': 0.059838768608680676, 'kernel': 'rbf'}),\n",
       " (80220.545323522223,\n",
       "  {'C': 26290.206464300216, 'gamma': 0.90844696963212535, 'kernel': 'rbf'}),\n",
       " (81159.875011273572,\n",
       "  {'C': 167.72789560805111, 'gamma': 0.27578705422582239, 'kernel': 'rbf'}),\n",
       " (81320.656761971972,\n",
       "  {'C': 108.30488238805073, 'gamma': 0.36275372946047713, 'kernel': 'rbf'}),\n",
       " (81368.087772207102,\n",
       "  {'C': 98.738973899209142, 'gamma': 0.49603653604936387, 'kernel': 'rbf'}),\n",
       " (81398.917645847323,\n",
       "  {'C': 22.599032166213231, 'gamma': 2.8507968789356029, 'kernel': 'rbf'}),\n",
       " (81398.971848544825,\n",
       "  {'C': 24.175082946113911, 'gamma': 3.5035574751583121, 'kernel': 'rbf'})]"
      ]
     },
     "execution_count": 106,
     "metadata": {},
     "output_type": "execute_result"
    }
   ],
   "source": [
    "sorted(zip(np.sqrt(-randsvm.cv_results_['mean_test_score']),randsvm.cv_results_[\"params\"]))"
   ]
  },
  {
   "cell_type": "code",
   "execution_count": 107,
   "metadata": {
    "collapsed": true
   },
   "outputs": [],
   "source": [
    "def indices_of_top_k(arr, k):\n",
    "    return np.sort(np.argpartition(np.array(arr), -k)[-k:])\n",
    "\n",
    "class TopFeatureSelector(BaseEstimator, TransformerMixin):\n",
    "    def __init__(self, feature_importances, k):\n",
    "        self.feature_importances = feature_importances\n",
    "        self.k = k\n",
    "    def fit(self, X, y=None):\n",
    "        self.feature_indices_ = indices_of_top_k(self.feature_importances, self.k)\n",
    "        return self\n",
    "    def transform(self, X):\n",
    "        return X[:, self.feature_indices_]"
   ]
  },
  {
   "cell_type": "code",
   "execution_count": 148,
   "metadata": {},
   "outputs": [],
   "source": [
    "k=28\n",
    "feature_importances = grid_search.best_estimator_.feature_importances_\n",
    "\n",
    "transf_pipeline = Pipeline([\n",
    " #   ('preparation', full_pipeline),\n",
    "    ('feature_selection', TopFeatureSelector(feature_importances, k))\n",
    "])\n",
    "\n",
    "new_housing = transf_pipeline.fit_transform(housing_dropped_prep)"
   ]
  },
  {
   "cell_type": "code",
   "execution_count": 149,
   "metadata": {},
   "outputs": [
    {
     "name": "stdout",
     "output_type": "stream",
     "text": [
      "Scores: [ 37286.32177811  31175.40342655  26107.69867768  37818.99114824\n",
      "  42266.56031733  61199.17095729  32850.61623696  28905.23797869\n",
      "  26794.90872646  22938.37031888]\n",
      "Mean: 34734.3279566\n",
      "Standard Deviation: 10487.8052494\n"
     ]
    }
   ],
   "source": [
    "lin_reg = LinearRegression()\n",
    "lin_reg.fit(new_housing,housing_labels)\n",
    "scores = cross_val_score(lin_reg, new_housing, housing_labels,scoring = 'neg_mean_squared_error', cv=10)\n",
    "lin_reg_rmse_scores = np.sqrt(-scores)\n",
    "display_scores(lin_reg_rmse_scores)"
   ]
  },
  {
   "cell_type": "code",
   "execution_count": null,
   "metadata": {
    "collapsed": true
   },
   "outputs": [],
   "source": []
  }
 ],
 "metadata": {
  "kernelspec": {
   "display_name": "Python 3",
   "language": "python",
   "name": "python3"
  },
  "language_info": {
   "codemirror_mode": {
    "name": "ipython",
    "version": 3
   },
   "file_extension": ".py",
   "mimetype": "text/x-python",
   "name": "python",
   "nbconvert_exporter": "python",
   "pygments_lexer": "ipython3",
   "version": "3.6.1"
  }
 },
 "nbformat": 4,
 "nbformat_minor": 2
}
